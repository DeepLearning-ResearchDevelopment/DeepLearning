{
 "cells": [
  {
   "cell_type": "code",
   "execution_count": 2,
   "metadata": {
    "collapsed": false
   },
   "outputs": [
    {
     "name": "stdout",
     "output_type": "stream",
     "text": [
      "('Toplam satir sayisi : ', 311029)\n"
     ]
    }
   ],
   "source": [
    "import csv\n",
    "import numpy as np\n",
    "from array import *\n",
    "from collections import Counter\n",
    "with open('/home/isl-eyup/tensorflow/KDDcup_datasets/KDD_testdata.csv', 'rb') as f:\n",
    "    reader = csv.reader(f)\n",
    "    data_as_list = list(reader)\n",
    "    \n",
    "def file_len():\n",
    "  f = open('/home/isl-eyup/tensorflow/KDDcup_datasets/KDD_testdata.csv')\n",
    "  nr_of_lines = sum(1 for line in f)\n",
    "  f.close()\n",
    "  return nr_of_lines\n",
    "number_of_lines = file_len()\n",
    "print('Toplam satir sayisi : ', number_of_lines)\n",
    "\n",
    "\n",
    "def label_index(str):\n",
    "    indx = 0\n",
    "    if str == 'back.':\n",
    "        indx = 0\n",
    "    elif str == 'buffer_overflow.':\n",
    "        indx = 1\n",
    "    elif str =='ftp_write.':\n",
    "        indx = 2\n",
    "    elif str == 'guess_password.':\n",
    "        indx = 3\n",
    "    elif str == 'imap.':\n",
    "        indx = 4\n",
    "    elif str == 'ipsweep.':\n",
    "        indx = 5\n",
    "    elif str == 'land.':\n",
    "        indx = 6\n",
    "    elif str == 'loadmodule.':\n",
    "        indx = 7\n",
    "    elif str == 'multihop.':\n",
    "        indx = 8\n",
    "    elif str == 'neptune.':\n",
    "        indx = 9\n",
    "    elif str == 'nmap.':\n",
    "        indx = 10\n",
    "    elif str == 'normal.':\n",
    "        indx = 11\n",
    "    elif str == 'perl.':\n",
    "        indx = 12\n",
    "    elif str =='phf.':\n",
    "        indx = 13\n",
    "    elif str == 'pod.':\n",
    "        indx = 14\n",
    "    elif str == 'portsweep.':\n",
    "        indx = 15\n",
    "    elif str == 'rootkit.':\n",
    "        indx = 16\n",
    "    elif str == 'satan.':\n",
    "        indx = 17\n",
    "    elif str == 'smurf.':\n",
    "        indx = 18\n",
    "    elif str == 'spy.':\n",
    "        indx = 19\n",
    "    elif str == 'teardrop.':\n",
    "        indx = 20;\n",
    "    elif str == 'warezclient.':\n",
    "        indx == 21;\n",
    "    else :\n",
    "        indx = 22;\n",
    "    return indx\n",
    "    \n",
    "\n",
    "    \n",
    "#print(data_as_list)\n",
    "#print(data_as_list[i][41])\n",
    "\n",
    "label_array = np.empty(number_of_lines, dtype=object)\n",
    "attack_matrix = np.ndarray(shape=(number_of_lines,23), dtype='int')\n",
    "\n",
    "for i in range(number_of_lines):\n",
    "    for j in range(23):\n",
    "        attack_matrix[i][j]=0\n",
    "\n",
    "\"\"\"FROM LABEL TO ATTACK MATRIX\"\"\"        \n",
    "for i in range(number_of_lines):\n",
    "    label_array[i] = data_as_list[i][41] \n",
    "    attack_matrix[i][label_index(label_array[i])] = 1\n",
    "\n",
    "\n",
    "\n",
    "\n",
    "        "
   ]
  },
  {
   "cell_type": "code",
   "execution_count": null,
   "metadata": {
    "collapsed": true
   },
   "outputs": [],
   "source": [
    " \n",
    "\"\"\"MEAN and STD CALCULATE\"\"\"\n",
    "#top = 0\n",
    "#for ii in range(23):\n",
    "#    for jj in range(number_of_lines):\n",
    "#        top = top + attack_matrix[jj][ii]\n",
    "        \n",
    "#    print(top)    \n",
    "#    mean = float(top * 1.0 / number_of_lines)\n",
    "#    print(\"For %d feature mean = %f\" % (ii,mean))\n",
    "#    top = 0\n",
    "    \n",
    "#    std = np.std(attack_matrix[:,ii])\n",
    "#    print(\"For %d feature standart deviation = %f \" %(ii,std) )   \n",
    "\n",
    "\n"
   ]
  },
  {
   "cell_type": "code",
   "execution_count": 3,
   "metadata": {
    "collapsed": false
   },
   "outputs": [
    {
     "name": "stdout",
     "output_type": "stream",
     "text": [
      "There are 3 protocol types \n",
      "['udp', 'tcp', 'icmp']\n",
      "There are 65 service \n",
      "['private', 'domain_u', 'http', 'smtp', 'ftp_data', 'ftp', 'eco_i', 'other', 'auth', 'ecr_i', 'IRC', 'X11', 'finger', 'time', 'domain', 'telnet', 'pop_3', 'ldap', 'login', 'name', 'ntp_u', 'http_443', 'sunrpc', 'printer', 'systat', 'tim_i', 'netstat', 'remote_job', 'link', 'urp_i', 'sql_net', 'bgp', 'pop_2', 'tftp_u', 'uucp', 'imap4', 'pm_dump', 'nnsp', 'courier', 'daytime', 'iso_tsap', 'echo', 'discard', 'ssh', 'whois', 'mtp', 'gopher', 'rje', 'ctf', 'supdup', 'hostnames', 'csnet_ns', 'uucp_path', 'nntp', 'netbios_ns', 'netbios_dgm', 'netbios_ssn', 'vmnet', 'Z39_50', 'exec', 'shell', 'efs', 'klogin', 'kshell', 'icmp']\n",
      "There are 11 flag \n",
      "['SF', 'RSTR', 'S1', 'REJ', 'S3', 'RSTO', 'S0', 'S2', 'RSTOS0', 'SH', 'OTH']\n"
     ]
    }
   ],
   "source": [
    "protocol = []\n",
    "sayac =0\n",
    "for i in range(number_of_lines):\n",
    "    if data_as_list[i][1] in protocol:\n",
    "        sayac = sayac\n",
    "    else:\n",
    "        protocol.append(data_as_list[i][1]) \n",
    "        sayac += 1\n",
    "print(\"There are %d protocol types \" %sayac)       \n",
    "print(protocol)\n",
    "\n",
    "\n",
    "service = []\n",
    "sayac =0\n",
    "for i in range(number_of_lines):\n",
    "    if data_as_list[i][2] in service:\n",
    "        sayac = sayac\n",
    "    else:\n",
    "        service.append(data_as_list[i][2])\n",
    "        sayac += 1\n",
    "print(\"There are %d service \" %sayac)     \n",
    "print(service)\n",
    "\n",
    "\n",
    "flag = []\n",
    "sayac =0\n",
    "for i in range(number_of_lines):\n",
    "    if data_as_list[i][3] in flag:\n",
    "        sayac = sayac\n",
    "    else:\n",
    "        flag.append(data_as_list[i][3])\n",
    "        sayac += 1\n",
    "print(\"There are %d flag \" %sayac)     \n",
    "print(flag)"
   ]
  },
  {
   "cell_type": "code",
   "execution_count": 4,
   "metadata": {
    "collapsed": false
   },
   "outputs": [],
   "source": [
    "data_uniq = np.empty(shape=[number_of_lines, 42])\n",
    "\n",
    "for i in range(number_of_lines):\n",
    "    data_uniq[i][0] = data_as_list[i][0]\n",
    "\n",
    "\n",
    "for i in range(number_of_lines):\n",
    "    if data_as_list[i][1] in protocol:\n",
    "        data_uniq[i][1] = protocol.index(data_as_list[i][1])\n",
    "\n",
    "for i in range(number_of_lines):\n",
    "    if data_as_list[i][2] in service:\n",
    "        data_uniq[i][2] = service.index(data_as_list[i][2])\n",
    "\n",
    "        \n",
    "for i in range(number_of_lines):\n",
    "    if data_as_list[i][3] in flag:\n",
    "        data_uniq[i][3] = flag.index(data_as_list[i][3])\n",
    "        \n",
    "        \n",
    "for i in range(number_of_lines):\n",
    "    for j in range(4,41):\n",
    "        data_uniq[i][j] = data_as_list[i][j]\n",
    "\n",
    "\n",
    "for i in range(number_of_lines):\n",
    "    data_uniq[i][41] = label_index(label_array[i])\n",
    "         \n"
   ]
  },
  {
   "cell_type": "code",
   "execution_count": 5,
   "metadata": {
    "collapsed": true
   },
   "outputs": [],
   "source": [
    "\"\"\"Array save to csv file \"\"\"\n",
    "np.savetxt(\n",
    "    'KddTestdata.csv',          # file name\n",
    "    data_uniq,              # array to save\n",
    "    fmt='%.2f',             # formatting, 2 digits in this case\n",
    "    delimiter=',',          # column delimiter\n",
    "    newline='\\n',           # new line character\n",
    "    footer='end of file',   # file footer\n",
    "    comments='# ',          # character to use for comments\n",
    "    header='Data generated by numpy')      # file header"
   ]
  },
  {
   "cell_type": "code",
   "execution_count": null,
   "metadata": {
    "collapsed": false
   },
   "outputs": [],
   "source": []
  },
  {
   "cell_type": "code",
   "execution_count": null,
   "metadata": {
    "collapsed": true
   },
   "outputs": [],
   "source": []
  }
 ],
 "metadata": {
  "kernelspec": {
   "display_name": "Python 2",
   "language": "python",
   "name": "python2"
  },
  "language_info": {
   "codemirror_mode": {
    "name": "ipython",
    "version": 2
   },
   "file_extension": ".py",
   "mimetype": "text/x-python",
   "name": "python",
   "nbconvert_exporter": "python",
   "pygments_lexer": "ipython2",
   "version": "2.7.12"
  }
 },
 "nbformat": 4,
 "nbformat_minor": 1
}
