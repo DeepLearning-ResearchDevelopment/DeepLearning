{
 "cells": [
  {
   "cell_type": "markdown",
   "metadata": {},
   "source": [
    "# Deep Learning  KDDcup 99\n"
   ]
  },
  {
   "cell_type": "code",
   "execution_count": 22,
   "metadata": {
    "collapsed": false
   },
   "outputs": [],
   "source": [
    "# These are all the modules we'll be using later. Make sure you can import them\n",
    "# before proceeding further.\n",
    "from __future__ import print_function\n",
    "import matplotlib.pyplot as plt\n",
    "import numpy as np\n",
    "import os\n",
    "import random\n",
    "import sys\n",
    "import tarfile\n",
    "import tensorflow as tf\n",
    "from IPython.display import display, Image\n",
    "from scipy import ndimage\n",
    "from sklearn.linear_model import LogisticRegression\n",
    "from six.moves.urllib.request import urlretrieve\n",
    "from six.moves import cPickle as pickle\n",
    "\n",
    "# Config the matplotlib backend as plotting inline in IPython\n",
    "%matplotlib inline\n",
    "\n",
    "import csv\n",
    "from array import *\n",
    "from collections import Counter\n",
    "\n",
    "    \n",
    "        "
   ]
  },
  {
   "cell_type": "code",
   "execution_count": 23,
   "metadata": {
    "collapsed": false
   },
   "outputs": [
    {
     "name": "stdout",
     "output_type": "stream",
     "text": [
      "Toplam satir sayisi :  1074992\n",
      "Classes are :  ['dos', 'u2r', 'r2l', 'probe', 'normal']\n"
     ]
    }
   ],
   "source": [
    "with open('/home/isl-eyup/tensorflow/KDDcup_datasets/kddcup_data_corrected_uniq.csv', 'rb') as f:\n",
    "    reader = csv.reader(f)\n",
    "    data_as_list = list(reader)\n",
    "def file_len(adress):\n",
    "  f = open(adress)\n",
    "  nr_of_lines = sum(1 for line in f)\n",
    "  f.close()\n",
    "  return nr_of_lines\n",
    "\n",
    "number_of_lines = file_len('/home/isl-eyup/tensorflow/KDDcup_datasets/kddcup_data_corrected_uniq.csv')\n",
    "print('Toplam satir sayisi : ', number_of_lines)\n",
    "\n",
    "\n",
    "\n",
    "def label_index(str):\n",
    "    indx = 4\n",
    "    if str == 'back.':\n",
    "        indx = 0\n",
    "    elif str == 'buffer_overflow.':\n",
    "        indx = 1\n",
    "    elif str =='ftp_write.':\n",
    "        indx = 2\n",
    "    elif str == 'guess_password.':\n",
    "        indx = 2\n",
    "    elif str == 'imap.':\n",
    "        indx = 2\n",
    "    elif str == 'ipsweep.':\n",
    "        indx = 3\n",
    "    elif str == 'land.':\n",
    "        indx = 0\n",
    "    elif str == 'loadmodule.':\n",
    "        indx = 1\n",
    "    elif str == 'multihop.':\n",
    "        indx = 0\n",
    "    elif str == 'neptune.':\n",
    "        indx = 0\n",
    "    elif str == 'nmap.':\n",
    "        indx = 3\n",
    "    elif str == 'normal.':\n",
    "        indx = 4\n",
    "    elif str == 'perl.':\n",
    "        indx = 1\n",
    "    elif str =='phf.':\n",
    "        indx = 2\n",
    "    elif str == 'pod.':\n",
    "        indx = 0\n",
    "    elif str == 'portsweep.':\n",
    "        indx = 3\n",
    "    elif str == 'rootkit.':\n",
    "        indx = 1\n",
    "    elif str == 'satan.':\n",
    "        indx = 3\n",
    "    elif str == 'smurf.':\n",
    "        indx = 0\n",
    "    elif str == 'spy.':\n",
    "        indx = 2\n",
    "    elif str == 'teardrop.':\n",
    "        indx = 0\n",
    "    elif str == 'warezclient.':\n",
    "        indx == 2\n",
    "    elif str == 'warezmaster.':\n",
    "        indx = 2\n",
    "    else :\n",
    "        indx = 4\n",
    "    return indx\n",
    "    \n",
    "    \n",
    "attack_types = ['dos','u2r','r2l','probe','normal']    \n",
    "print(\"Classes are : \",attack_types)"
   ]
  },
  {
   "cell_type": "code",
   "execution_count": 4,
   "metadata": {
    "collapsed": true
   },
   "outputs": [],
   "source": [
    "#LABEL ARRAY \n",
    "#label_array = np.empty(number_of_lines, dtype=object)\n",
    "#attack_matrix = np.ndarray(shape=(number_of_lines,5), dtype='int')\n",
    "\n",
    "#for i in range(number_of_lines):\n",
    "#    for j in range(5):\n",
    "#        attack_matrix[i][j]=0\n",
    "\n",
    "#FROM LABEL TO ATTACK MATRIX        \n",
    "#for i in range(number_of_lines):\n",
    "#    label_array[i] = data_as_list[i][41] \n",
    "#    attack_matrix[i][label_index(label_array[i])] = 1\n"
   ]
  },
  {
   "cell_type": "code",
   "execution_count": 24,
   "metadata": {
    "collapsed": true
   },
   "outputs": [],
   "source": [
    "\"\"\"Protocols : ['icmp', 'tcp', 'udp']\"\"\"\n",
    "def protocol_index(str):\n",
    "    indx = 0\n",
    "    if str == 'icmp':\n",
    "        indx = 0\n",
    "    elif str == 'tcp':\n",
    "        indx = 1\n",
    "    elif str =='udp':\n",
    "        indx = 2\n",
    "    return indx\n",
    "\n",
    "\"\"\"FLAGS : ['SF', 'REJ', 'RSTO', 'RSTR', 'S0', 'SH', 'S1', 'OTH', 'S2', 'S3', 'RSTOS0']\"\"\"\n",
    "def flag_index(str):\n",
    "    indx = 0\n",
    "    if str == 'SF':\n",
    "        indx = 0\n",
    "    elif str == 'REJ':\n",
    "        indx = 1\n",
    "    elif str =='RSTO':\n",
    "        indx = 2\n",
    "    elif str == 'RSTR':\n",
    "        indx = 3\n",
    "    elif str == 'S0':\n",
    "        indx = 4\n",
    "    elif str == 'SH':\n",
    "        indx = 5\n",
    "    elif str == 'S1':\n",
    "        indx = 6\n",
    "    elif str == 'OTH':\n",
    "        indx = 7\n",
    "    elif str == 'S2':\n",
    "        indx = 8\n",
    "    elif str == 'S3':\n",
    "        indx = 9\n",
    "    elif str == 'nmap.':\n",
    "        indx = 10\n",
    "    elif str == 'RSTOS0':\n",
    "        indx = 11\n",
    "    return indx\n",
    "\n",
    "\n",
    "\"\"\"THERE ARE 70 SERVICES \"\"\"\n",
    "def service_index(str):\n",
    "    indx = 0\n",
    "    if str == 'eco_i':\n",
    "        indx = 0\n",
    "    elif str == 'ecr_i':\n",
    "        indx = 1\n",
    "    elif str =='red_i':\n",
    "        indx = 2\n",
    "    elif str == 'tim_i':\n",
    "        indx = 3\n",
    "    elif str == 'urh_i':\n",
    "        indx = 4\n",
    "    elif str == 'urp_i':\n",
    "        indx = 5\n",
    "    elif str == 'aol':\n",
    "        indx = 6\n",
    "    elif str == 'auth':\n",
    "        indx = 7\n",
    "    elif str == 'bgp':\n",
    "        indx = 8\n",
    "    elif str == 'courier':\n",
    "        indx = 9\n",
    "    elif str == 'csnet_ns':\n",
    "        indx = 10\n",
    "    elif str == 'ctf':\n",
    "        indx = 11\n",
    "    elif str == 'daytime':\n",
    "        indx = 12\n",
    "    elif str == 'discard':\n",
    "        indx = 13\n",
    "    elif str == 'domain':\n",
    "        indx = 14\n",
    "    elif str == 'echo':\n",
    "        indx = 15\n",
    "    elif str == 'efs':\n",
    "        indx = 16\n",
    "    elif str == 'exec':\n",
    "        indx = 17\n",
    "    elif str == 'finger':\n",
    "        indx = 18\n",
    "    elif str == 'ftp_data':\n",
    "        indx = 19\n",
    "    elif str == 'ftp':\n",
    "        indx = 20\n",
    "    elif str == 'gopher':\n",
    "        indx = 21\n",
    "    elif str == 'harvest':\n",
    "        indx = 22\n",
    "    elif str == 'hostnames':\n",
    "        indx = 23\n",
    "    elif str == 'http_2784':\n",
    "        indx = 24\n",
    "    elif str == 'http_443':\n",
    "        indx = 25\n",
    "    elif str == 'http_8001':\n",
    "        indx = 26\n",
    "    elif str == 'http':\n",
    "        indx = 27\n",
    "    elif str == 'imap4':\n",
    "        indx = 28\n",
    "    elif str == 'IRC':\n",
    "        indx = 29\n",
    "    elif str == 'iso_tsap':\n",
    "        indx = 30\n",
    "    elif str == 'klogin':\n",
    "        indx = 31\n",
    "    elif str == 'kshell':\n",
    "        indx = 32        \n",
    "    elif str == 'ldap':\n",
    "        indx = 33\n",
    "    elif str == 'link':\n",
    "        indx = 34\n",
    "    elif str == 'login':\n",
    "        indx = 35\n",
    "    elif str == 'mtp':\n",
    "        indx = 36\n",
    "    elif str == 'name':\n",
    "        indx = 37\n",
    "    elif str == 'netbios_dgm':\n",
    "        indx = 38\n",
    "    elif str == 'netbios_ns':\n",
    "        indx = 39\n",
    "    elif str == 'netbios_ssn':\n",
    "        indx = 40\n",
    "    elif str == 'netstat':\n",
    "        indx = 41\n",
    "    elif str == 'nnsp':\n",
    "        indx = 42\n",
    "    elif str == 'nntp':\n",
    "        indx = 43\n",
    "    elif str == 'other':\n",
    "        indx = 44\n",
    "    elif str == 'pm_dump':\n",
    "        indx = 45\n",
    "    elif str == 'pop_2':\n",
    "        indx = 46\n",
    "    elif str == 'pop_3':\n",
    "        indx = 47\n",
    "    elif str == 'printer':\n",
    "        indx = 48\n",
    "    elif str == 'private':\n",
    "        indx = 49\n",
    "    elif str == 'remote_job':\n",
    "        indx = 50\n",
    "    elif str == 'rje':\n",
    "        indx = 51\n",
    "    elif str == 'shell':\n",
    "        indx = 52\n",
    "    elif str == 'smtp':\n",
    "        indx = 53\n",
    "    elif str == 'sql_net':\n",
    "        indx = 54\n",
    "    elif str == 'ssh':\n",
    "        indx = 55\n",
    "    elif str == 'sunrpc':\n",
    "        indx = 56\n",
    "    elif str == 'supdup':\n",
    "        indx = 57\n",
    "    elif str == 'systat':\n",
    "        indx = 58\n",
    "    elif str == 'telnet':\n",
    "        indx = 59\n",
    "    elif str == 'time':\n",
    "        indx = 60\n",
    "    elif str == 'uucp_path':\n",
    "        indx = 61\n",
    "    elif str == 'uucp':\n",
    "        indx = 62\n",
    "    elif str == 'vmnet':\n",
    "        indx = 63\n",
    "    elif str == 'whois':\n",
    "        indx = 64\n",
    "    elif str == 'X11':\n",
    "        indx = 65\n",
    "    elif str == 'Z39_50':\n",
    "        indx = 66\n",
    "    elif str == 'domain_u':\n",
    "        indx = 67\n",
    "    elif str == 'ntp_u':\n",
    "        indx = 68\n",
    "    elif str == 'tftp_u':\n",
    "        indx = 69\n",
    "    return indx\n",
    "\n"
   ]
  },
  {
   "cell_type": "code",
   "execution_count": 14,
   "metadata": {
    "collapsed": false
   },
   "outputs": [
    {
     "name": "stdout",
     "output_type": "stream",
     "text": [
      "There are 3 protocol types \n",
      "Protocols : ['icmp', 'tcp', 'udp']\n",
      "There are 70 service \n",
      "Services : ['eco_i', 'ecr_i', 'red_i', 'tim_i', 'urh_i', 'urp_i', 'aol', 'auth', 'bgp', 'courier', 'csnet_ns', 'ctf', 'daytime', 'discard', 'domain', 'echo', 'efs', 'exec', 'finger', 'ftp_data', 'ftp', 'gopher', 'harvest', 'hostnames', 'http_2784', 'http_443', 'http_8001', 'http', 'imap4', 'IRC', 'iso_tsap', 'klogin', 'kshell', 'ldap', 'link', 'login', 'mtp', 'name', 'netbios_dgm', 'netbios_ns', 'netbios_ssn', 'netstat', 'nnsp', 'nntp', 'other', 'pm_dump', 'pop_2', 'pop_3', 'printer', 'private', 'remote_job', 'rje', 'shell', 'smtp', 'sql_net', 'ssh', 'sunrpc', 'supdup', 'systat', 'telnet', 'time', 'uucp_path', 'uucp', 'vmnet', 'whois', 'X11', 'Z39_50', 'domain_u', 'ntp_u', 'tftp_u']\n",
      "There are 11 flag \n",
      "Flags : ['SF', 'REJ', 'RSTO', 'RSTR', 'S0', 'SH', 'S1', 'OTH', 'S2', 'S3', 'RSTOS0']\n"
     ]
    }
   ],
   "source": [
    "protocol = []\n",
    "sayac =0\n",
    "for i in range(number_of_lines):\n",
    "    if data_as_list[i][1] in protocol:\n",
    "        sayac = sayac\n",
    "    else:\n",
    "        protocol.append(data_as_list[i][1]) \n",
    "        sayac += 1\n",
    "print(\"There are %d protocol types \" %sayac)\n",
    "print(\"Protocols : %s\" %protocol)\n",
    "\n",
    "\n",
    "service = []\n",
    "sayac =0\n",
    "for i in range(number_of_lines):\n",
    "    if data_as_list[i][2] in service:\n",
    "        sayac = sayac\n",
    "    else:\n",
    "        service.append(data_as_list[i][2])\n",
    "        sayac += 1\n",
    "print(\"There are %d service \" %sayac)   \n",
    "print(\"Services : %s\" %service)\n",
    "\n",
    "\n",
    "\n",
    "flag = []\n",
    "sayac =0\n",
    "for i in range(number_of_lines):\n",
    "    if data_as_list[i][3] in flag:\n",
    "        sayac = sayac\n",
    "    else:\n",
    "        flag.append(data_as_list[i][3])\n",
    "        sayac += 1\n",
    "print(\"There are %d flag \" %sayac)     \n",
    "print(\"Flags : %s\" %flag)"
   ]
  },
  {
   "cell_type": "code",
   "execution_count": 25,
   "metadata": {
    "collapsed": false
   },
   "outputs": [
    {
     "data": {
      "text/plain": [
       "'probe'"
      ]
     },
     "execution_count": 25,
     "metadata": {},
     "output_type": "execute_result"
    }
   ],
   "source": [
    "attack_types[label_index(data_as_list[1][41])]"
   ]
  },
  {
   "cell_type": "code",
   "execution_count": null,
   "metadata": {
    "collapsed": false
   },
   "outputs": [],
   "source": []
  },
  {
   "cell_type": "code",
   "execution_count": 84,
   "metadata": {
    "collapsed": false
   },
   "outputs": [
    {
     "name": "stdout",
     "output_type": "stream",
     "text": [
      "Label Array generated \n",
      "Protocol, service and flag names change with int value \n",
      "Dataset reorganize as data_uniq ... \n"
     ]
    }
   ],
   "source": [
    "data_uniq = np.empty(shape=[number_of_lines, 42])\n",
    "label_array = np.empty(number_of_lines, dtype=object)\n",
    "\n",
    "for i in range(number_of_lines):\n",
    "    label_array[i] = attack_types[label_index(data_as_list[i][41])]\n",
    "print(\"Label Array generated \")\n",
    "\n",
    "for i in range(number_of_lines):\n",
    "    data_uniq[i][0] = data_as_list[i][0]\n",
    "    data_uniq[i][1] = protocol_index(data_as_list[i][1])\n",
    "    data_uniq[i][2] = service_index(data_as_list[i][2])\n",
    "    data_uniq[i][3] = flag_index(data_as_list[i][3])\n",
    "print(\"Protocol, service and flag names change with int value \")        \n",
    "        \n",
    "for i in range(number_of_lines):\n",
    "    for j in range(4,41):\n",
    "        data_uniq[i][j] = data_as_list[i][j]\n",
    "\n",
    "\n",
    "for i in range(number_of_lines):\n",
    "    data_uniq[i][41] = attack_types.index(label_array[i])\n",
    "\n",
    "print(\"Dataset reorganize as data_uniq ... \")    \n"
   ]
  },
  {
   "cell_type": "code",
   "execution_count": 78,
   "metadata": {
    "collapsed": false
   },
   "outputs": [],
   "source": [
    "#\"\"\"Array save to csv file \"\"\"\n",
    "#np.savetxt(\n",
    "#    'Dataset_uniq_corrected.csv', # file name\n",
    "#    data_uniq,              # array to save\n",
    "#    fmt='%.5f',             # formatting, 2 digits in this case\n",
    "#    delimiter=',',          # column delimiter\n",
    "#    newline='\\n',           # new line character\n",
    "#    footer='end of file',   # file footer\n",
    "#    comments='# ',          # character to use for comments\n",
    "#    header='Data generated by numpy')      # file header"
   ]
  },
  {
   "cell_type": "code",
   "execution_count": 163,
   "metadata": {
    "collapsed": false
   },
   "outputs": [
    {
     "name": "stdout",
     "output_type": "stream",
     "text": [
      "Data shuffled ! \n",
      "(300000, 42) float64\n"
     ]
    }
   ],
   "source": [
    "from sklearn.utils import shuffle\n",
    "data = np.empty(shape=[300000, 42], dtype = float)\n",
    "data = data_uniq[:300000][:].astype(float)\n",
    "\n",
    "data = shuffle(data)\n",
    "print(\"Data shuffled ! \")\n",
    "print(data.shape, data.dtype)\n",
    "\n"
   ]
  },
  {
   "cell_type": "code",
   "execution_count": 152,
   "metadata": {
    "collapsed": false
   },
   "outputs": [
    {
     "name": "stdout",
     "output_type": "stream",
     "text": [
      "Size of data set for class 0: 23501\n",
      "Size of data set for class 1: 12\n",
      "Size of data set for class 2: 7\n",
      "Size of data set for class 3: 4547\n",
      "Size of data set for class 4: 271933\n"
     ]
    }
   ],
   "source": [
    "sayac = np.zeros(5, dtype=int)\n",
    "for i in range(300000):\n",
    "    sayac[data[i][41]] +=  1\n",
    "    \n",
    "for i in range(5):\n",
    "    print('Size of data set for class ' + str(i) + ': ' + str(sayac[i]))\n",
    "\n",
    "    \n"
   ]
  },
  {
   "cell_type": "code",
   "execution_count": 39,
   "metadata": {
    "collapsed": false
   },
   "outputs": [
    {
     "name": "stdout",
     "output_type": "stream",
     "text": [
      "(300000, 42)\n"
     ]
    }
   ],
   "source": [
    "#new_data_uniq = np.empty(shape=[300000, 42], dtype = int)\n",
    "#say1 = 0\n",
    "#say2 = 0 \n",
    "\n",
    "#for i in range(number_of_lines):\n",
    "#    for j in range(42):\n",
    "#        if say2 < 300000:\n",
    "#            if data[i][41] == 9 :\n",
    "#                if say1 < 35000:\n",
    "#                    new_data_uniq[say2][j] = data[i][j]\n",
    "#                    say1 += 1\n",
    "#            elif data[i][41] == 11 :\n",
    "#                if say2 < 300000:\n",
    "#                    new_data_uniq[say2][j] = data[i][j]\n",
    "#            else:\n",
    "#                new_data_uniq[say2][j] = data[i][j]\n",
    "#    say2 +=1\n",
    "#print(new_data_uniq.shape)    "
   ]
  },
  {
   "cell_type": "code",
   "execution_count": null,
   "metadata": {
    "collapsed": false
   },
   "outputs": [],
   "source": [
    "  "
   ]
  },
  {
   "cell_type": "code",
   "execution_count": 41,
   "metadata": {
    "collapsed": false
   },
   "outputs": [
    {
     "name": "stdout",
     "output_type": "stream",
     "text": [
      "number of insance for class 0: 1110\n",
      "number of insance for class 1: 28\n",
      "number of insance for class 2: 14\n",
      "number of insance for class 3: 0\n",
      "number of insance for class 4: 0\n",
      "number of insance for class 5: 43823\n",
      "number of insance for class 6: 65\n",
      "number of insance for class 7: 0\n",
      "number of insance for class 8: 4\n",
      "number of insance for class 9: 9621\n",
      "number of insance for class 10: 11096\n",
      "number of insance for class 11: 208264\n",
      "number of insance for class 12: 0\n",
      "number of insance for class 13: 0\n",
      "number of insance for class 14: 1502\n",
      "number of insance for class 15: 542\n",
      "number of insance for class 16: 3\n",
      "number of insance for class 17: 646\n",
      "number of insance for class 18: 23276\n",
      "number of insance for class 19: 0\n",
      "number of insance for class 20: 0\n",
      "number of insance for class 21: 0\n",
      "number of insance for class 22: 6\n"
     ]
    }
   ],
   "source": [
    "#sayac = np.zeros(5, dtype=int)\n",
    "#for i in range(300000):\n",
    "#    sayac[new_data_uniq[i][41]] +=  1\n",
    "#    \n",
    "#for i in range(5):\n",
    "#    print('number of insance for class ' + str(i) + ': ' + str(sayac[i]))"
   ]
  },
  {
   "cell_type": "code",
   "execution_count": 127,
   "metadata": {
    "collapsed": false
   },
   "outputs": [
    {
     "name": "stdout",
     "output_type": "stream",
     "text": [
      "2.0\n"
     ]
    }
   ],
   "source": []
  },
  {
   "cell_type": "code",
   "execution_count": 180,
   "metadata": {
    "collapsed": false
   },
   "outputs": [
    {
     "name": "stdout",
     "output_type": "stream",
     "text": [
      "Done ! \n"
     ]
    }
   ],
   "source": [
    "\"\"\"Dataset: new_data_uniq matrix \"\"\"\n",
    "\"\"\"Train_set : 80% of dataset \"\"\"\n",
    "\"\"\"Test set : 10 % of dataset \"\"\"\n",
    "\n",
    "dataset = np.empty(shape=[300000, 42], dtype = float)\n",
    "for i in range(300000):\n",
    "    for j in range(42):\n",
    "        dataset[i][j] = int(data[i][j])\n",
    "\n",
    "dataset = np.float32(dataset)  \n",
    "\n",
    "train_set = np.empty(shape=[240000, 42] ,dtype = float)\n",
    "train_set = np.float32(train_set)\n",
    "train_labels = np.empty(shape=[240000] ,dtype = float)\n",
    "train_labels = np.float32(train_labels)\n",
    "test_set = np.empty(shape=[30000, 42] ,dtype = float)\n",
    "test_set = np.float32(test_set)\n",
    "test_labels = np.empty(shape=[30000] ,dtype = float)\n",
    "test_labels = np.float32(test_labels)\n",
    "valid_set = np.empty(shape=[30000, 42] ,dtype = float)\n",
    "valid_set = np.float32(valid_set)\n",
    "valid_labels = np.empty(shape=[30000] ,dtype = float)\n",
    "valid_labels = np.float32(valid_labels)\n",
    "print(\"Done ! \")\n",
    "\n"
   ]
  },
  {
   "cell_type": "code",
   "execution_count": 181,
   "metadata": {
    "collapsed": false
   },
   "outputs": [
    {
     "data": {
      "text/plain": [
       "dtype('float32')"
      ]
     },
     "execution_count": 181,
     "metadata": {},
     "output_type": "execute_result"
    }
   ],
   "source": [
    "train_set.dtype"
   ]
  },
  {
   "cell_type": "code",
   "execution_count": 182,
   "metadata": {
    "collapsed": false
   },
   "outputs": [
    {
     "name": "stdout",
     "output_type": "stream",
     "text": [
      "Train set created . .  (240000, 42) float32\n",
      "Test set created . .  (30000, 42) float32\n",
      "Validation set created . .  (30000, 42) float32\n",
      "Done ! \n"
     ]
    }
   ],
   "source": [
    "for i in range(240000):\n",
    "    for j in range(42):\n",
    "        train_set[i][j] = int(dataset[i][j])\n",
    "print(\"Train set created . . \", train_set.shape, train_set.dtype)\n",
    "        \n",
    "k = 0\n",
    "for i in range(240000,270000):\n",
    "    l = 0\n",
    "    for j in range(42):\n",
    "        test_set[k][l] = int(dataset[i][j])\n",
    "        l +=1\n",
    "    k+=1    \n",
    "print(\"Test set created . . \", test_set.shape, test_set.dtype)\n",
    "    \n",
    "k = 0\n",
    "for i in range(270000,300000):\n",
    "    l = 0\n",
    "    for j in range(42):\n",
    "        valid_set[k][l] = int(dataset[i][j])\n",
    "        l +=1\n",
    "    k +=1\n",
    "print(\"Validation set created . . \", valid_set.shape, valid_set.dtype)\n",
    "   \n",
    "print(\"Done ! \")\n"
   ]
  },
  {
   "cell_type": "code",
   "execution_count": null,
   "metadata": {
    "collapsed": true
   },
   "outputs": [],
   "source": []
  },
  {
   "cell_type": "code",
   "execution_count": 183,
   "metadata": {
    "collapsed": false
   },
   "outputs": [
    {
     "name": "stdout",
     "output_type": "stream",
     "text": [
      "training labels array created :    (240000,) float32\n",
      "test labels array created :   (30000,) float32\n",
      "validation labels array created :   (30000,) float32\n",
      "Done ! \n"
     ]
    }
   ],
   "source": [
    "for i in range(240000):\n",
    "    train_labels[i] = dataset[i][41]\n",
    "print(\"training labels array created :   \", train_labels.shape, train_labels.dtype) \n",
    "\n",
    "k=0    \n",
    "for i in range(240000,270000):\n",
    "    test_labels[k] = dataset[i][41]    \n",
    "    k += 1\n",
    "print(\"test labels array created :  \", test_labels.shape, test_labels.dtype)\n",
    "\n",
    "m=0    \n",
    "for i in range(270000,300000):\n",
    "    valid_labels[m] = dataset[i][41]\n",
    "    m += 1\n",
    "print(\"validation labels array created :  \", valid_labels.shape, valid_labels.dtype)\n",
    "\n",
    "print(\"Done ! \")"
   ]
  },
  {
   "cell_type": "code",
   "execution_count": null,
   "metadata": {
    "collapsed": true
   },
   "outputs": [],
   "source": []
  },
  {
   "cell_type": "code",
   "execution_count": 156,
   "metadata": {
    "collapsed": false
   },
   "outputs": [
    {
     "name": "stdout",
     "output_type": "stream",
     "text": [
      "number of insance for class 0: 23501\n",
      "number of insance for class 1: 12\n",
      "number of insance for class 2: 7\n",
      "number of insance for class 3: 4547\n",
      "number of insance for class 4: 271933\n"
     ]
    }
   ],
   "source": [
    "sayac = np.zeros(5, dtype=int)\n",
    "for i in range(300000):\n",
    "    sayac[dataset[i][41]] +=  1\n",
    "    \n",
    "for i in range(5):\n",
    "    print('number of insance for class ' + str(i) + ': ' + str(sayac[i]))"
   ]
  },
  {
   "cell_type": "code",
   "execution_count": null,
   "metadata": {
    "collapsed": true
   },
   "outputs": [],
   "source": []
  },
  {
   "cell_type": "code",
   "execution_count": null,
   "metadata": {
    "collapsed": false
   },
   "outputs": [],
   "source": []
  },
  {
   "cell_type": "code",
   "execution_count": null,
   "metadata": {
    "collapsed": false
   },
   "outputs": [],
   "source": []
  },
  {
   "cell_type": "code",
   "execution_count": null,
   "metadata": {
    "collapsed": true
   },
   "outputs": [],
   "source": []
  },
  {
   "cell_type": "code",
   "execution_count": 114,
   "metadata": {
    "collapsed": false
   },
   "outputs": [
    {
     "name": "stdout",
     "output_type": "stream",
     "text": [
      "Full dataset tensor: (300000, 42)\n",
      "Means of each columns  : \n",
      "[  1.31479913e+02   1.06766333e+00   3.55846000e+01   8.51323333e-01\n",
      "   9.14394050e+03   4.23278068e+03   1.66666667e-05   2.77666667e-03\n",
      "   6.66666667e-05   5.41400000e-02   1.76666667e-04   6.29643333e-01\n",
      "   2.57966667e-02   3.26666667e-04   1.56666667e-04   4.97033333e-02\n",
      "   6.24000000e-03   3.26666667e-04   4.61666667e-03   0.00000000e+00\n",
      "   0.00000000e+00   3.79000000e-03   4.94080333e+01   1.29925233e+01\n",
      "   1.85053333e-01   1.88713333e-01   7.52733333e-02   7.67500000e-02\n",
      "   7.50520000e-01   9.30333333e-03   6.55766667e-02   1.61922670e+02\n",
      "   1.59128010e+02   5.43826667e-01   3.23666667e-03   2.91233333e-02\n",
      "   7.43333333e-04   1.86723333e-01   1.88276667e-01   6.75066667e-02\n",
      "   5.93033333e-02   3.06622667e+00]\n",
      "Standart deviations of each columns : \n",
      "[  1.29210455e+03   2.92081621e-01   1.38637711e+01   1.56978722e+00\n",
      "   2.57656066e+06   7.31681713e+05   4.08244888e-03   8.94927751e-02\n",
      "   2.60767244e-02   9.94321642e-01   1.88847943e-02   4.82900203e-01\n",
      "   3.40484917e+00   1.80709700e-02   1.68317791e-02   3.85483328e+00\n",
      "   2.89978842e-01   1.82544959e-02   7.53349391e-02   0.00000000e+00\n",
      "   0.00000000e+00   6.14462033e-02   8.52900563e+01   2.94080230e+01\n",
      "   3.88340826e-01   3.91280732e-01   2.63831876e-01   2.66194360e-01\n",
      "   4.32712063e-01   9.60040693e-02   2.47540638e-01   1.02250423e+02\n",
      "   1.09913081e+02   4.98075520e-01   5.67995656e-02   1.68152207e-01\n",
      "   2.72540050e-02   3.89689274e-01   3.90932940e-01   2.50897423e-01\n",
      "   2.36191549e-01   1.68032557e+00]\n"
     ]
    }
   ],
   "source": [
    "print('Full dataset tensor:', dataset.shape)\n",
    "\n",
    "\"\"\"Mean & Standart deviation of columns \"\"\"\n",
    "print(\"Means of each columns  : \")\n",
    "print(dataset.mean(0))\n",
    "print(\"Standart deviations of each columns : \")\n",
    "print(dataset.std(0))"
   ]
  },
  {
   "cell_type": "code",
   "execution_count": null,
   "metadata": {
    "collapsed": false
   },
   "outputs": [],
   "source": []
  },
  {
   "cell_type": "code",
   "execution_count": 173,
   "metadata": {
    "collapsed": false
   },
   "outputs": [
    {
     "name": "stdout",
     "output_type": "stream",
     "text": [
      "Training: (240000, 42)\n",
      "Validation: (30000, 42)\n",
      "Testing: (30000, 42)\n"
     ]
    }
   ],
   "source": [
    "          \n",
    "train_size = len(train_set)\n",
    "test_size = len(test_set)\n",
    "valid_size = len(valid_set)\n",
    "\n",
    "\n",
    "print('Training:', train_set.shape)\n",
    "print('Validation:', valid_set.shape)\n",
    "print('Testing:', test_set.shape)\n",
    "\n",
    "\n",
    "\n",
    "\n",
    "\n"
   ]
  },
  {
   "cell_type": "code",
   "execution_count": 134,
   "metadata": {
    "collapsed": false
   },
   "outputs": [
    {
     "name": "stdout",
     "output_type": "stream",
     "text": [
      "CPU times: user 116 ms, sys: 12 ms, total: 128 ms\n",
      "Wall time: 118 ms\n",
      "CPU times: user 84 ms, sys: 8 ms, total: 92 ms\n",
      "Wall time: 84.3 ms\n",
      "CPU times: user 744 ms, sys: 32 ms, total: 776 ms\n",
      "Wall time: 1.06 s\n",
      "overlap test valid: 28629\n",
      "overlap train valid: 218374\n",
      "overlap train test: 218384\n",
      "done\n"
     ]
    }
   ],
   "source": [
    "#lets use md5 hasing to measure the overlap between something\n",
    "from hashlib import md5\n",
    "#prepare image hashes\n",
    "%time set_valid_set = set([ md5(x).hexdigest() for x in valid_set])\n",
    "%time set_test_set = set([ md5(x).hexdigest() for x in test_set])\n",
    "%time set_train_set = set([ md5(x).hexdigest() for x in train_set])\n",
    "\n",
    "#measure overlaps and print them\n",
    "overlap_test_valid = set_test_set - set_valid_set\n",
    "print('overlap test valid: ' + str(len(overlap_test_valid)))\n",
    "\n",
    "overlap_train_valid = set_train_set - set_valid_set\n",
    "print ('overlap train valid: ' + str(len(overlap_train_valid)))\n",
    "\n",
    "overlap_train_test = set_train_set - set_test_set\n",
    "print ('overlap train test: ' + str(len(overlap_train_test)))\n",
    "print('done')\n",
    "\n"
   ]
  },
  {
   "cell_type": "code",
   "execution_count": null,
   "metadata": {
    "collapsed": false,
    "scrolled": true
   },
   "outputs": [],
   "source": []
  },
  {
   "cell_type": "code",
   "execution_count": 174,
   "metadata": {
    "collapsed": false
   },
   "outputs": [
    {
     "data": {
      "text/plain": [
       "dtype('float64')"
      ]
     },
     "execution_count": 174,
     "metadata": {},
     "output_type": "execute_result"
    }
   ],
   "source": [
    "data.dtype"
   ]
  },
  {
   "cell_type": "code",
   "execution_count": 158,
   "metadata": {
    "collapsed": false
   },
   "outputs": [
    {
     "name": "stdout",
     "output_type": "stream",
     "text": [
      "0.998833333333\n",
      "Done !\n"
     ]
    }
   ],
   "source": [
    "#en başta tanımladığımız LogisticRegression u kullanacağız\n",
    "logReg = LogisticRegression();\n",
    "\n",
    "fittedmodel = logReg.fit(train_set,train_labels)         \n",
    "test_score = logReg.score(test_set,test_labels)\n",
    "\n",
    "print(test_score)\n",
    "print(\"Done !\")"
   ]
  },
  {
   "cell_type": "code",
   "execution_count": 178,
   "metadata": {
    "collapsed": false
   },
   "outputs": [
    {
     "data": {
      "text/plain": [
       "array([[  0.,   1.,  27., ...,   1.,   1.,   4.],\n",
       "       [  0.,   1.,  27., ...,   0.,   0.,   4.],\n",
       "       [  0.,   1.,  27., ...,   0.,   0.,   4.],\n",
       "       ..., \n",
       "       [  0.,   1.,  27., ...,   0.,   0.,   4.],\n",
       "       [  0.,   1.,  27., ...,   0.,   0.,   4.],\n",
       "       [  0.,   1.,  27., ...,   0.,   0.,   4.]])"
      ]
     },
     "execution_count": 178,
     "metadata": {},
     "output_type": "execute_result"
    }
   ],
   "source": []
  },
  {
   "cell_type": "code",
   "execution_count": 179,
   "metadata": {
    "collapsed": false
   },
   "outputs": [
    {
     "data": {
      "text/plain": [
       "tf.float32_ref"
      ]
     },
     "execution_count": 179,
     "metadata": {},
     "output_type": "execute_result"
    }
   ],
   "source": [
    "biases.dtype"
   ]
  },
  {
   "cell_type": "code",
   "execution_count": 1,
   "metadata": {
    "collapsed": false
   },
   "outputs": [
    {
     "ename": "NameError",
     "evalue": "name 'tf' is not defined",
     "output_type": "error",
     "traceback": [
      "\u001b[0;31m---------------------------------------------------------------------------\u001b[0m",
      "\u001b[0;31mNameError\u001b[0m                                 Traceback (most recent call last)",
      "\u001b[0;32m<ipython-input-1-fd564eb93090>\u001b[0m in \u001b[0;36m<module>\u001b[0;34m()\u001b[0m\n\u001b[1;32m      4\u001b[0m \u001b[0mnum_labels\u001b[0m \u001b[0;34m=\u001b[0m \u001b[0;36m5\u001b[0m\u001b[0;34m\u001b[0m\u001b[0m\n\u001b[1;32m      5\u001b[0m \u001b[0mdata_size\u001b[0m \u001b[0;34m=\u001b[0m \u001b[0;36m42\u001b[0m\u001b[0;34m\u001b[0m\u001b[0m\n\u001b[0;32m----> 6\u001b[0;31m \u001b[0mgraph\u001b[0m \u001b[0;34m=\u001b[0m \u001b[0mtf\u001b[0m\u001b[0;34m.\u001b[0m\u001b[0mGraph\u001b[0m\u001b[0;34m(\u001b[0m\u001b[0;34m)\u001b[0m\u001b[0;34m\u001b[0m\u001b[0m\n\u001b[0m\u001b[1;32m      7\u001b[0m \u001b[0;32mwith\u001b[0m \u001b[0mgraph\u001b[0m\u001b[0;34m.\u001b[0m\u001b[0mas_default\u001b[0m\u001b[0;34m(\u001b[0m\u001b[0;34m)\u001b[0m\u001b[0;34m:\u001b[0m\u001b[0;34m\u001b[0m\u001b[0m\n\u001b[1;32m      8\u001b[0m \u001b[0;34m\u001b[0m\u001b[0m\n",
      "\u001b[0;31mNameError\u001b[0m: name 'tf' is not defined"
     ]
    }
   ],
   "source": [
    "# With gradient descent training, even this much data is prohibitive.\n",
    "# Subset the training data for faster turnaround.\n",
    "train_subset = 10000\n",
    "num_labels = 5\n",
    "data_size = 42 \n",
    "graph = tf.Graph()\n",
    "with graph.as_default():\n",
    "\n",
    "  # Input data.\n",
    "  # Load the training, validation and test data into constants that are\n",
    "  # attached to the graph.\n",
    "  tf_train_dataset = tf.constant(train_set[:train_subset, :])\n",
    "  tf_train_labels = tf.constant(train_labels[:train_subset])\n",
    "  tf_valid_dataset = tf.constant(valid_set)\n",
    "  tf_test_dataset = tf.constant(test_set)\n",
    "  beta_regul = tf.placeholder(tf.float32)\n",
    "\n",
    "  \n",
    "  # Variables.\n",
    "  # These are the parameters that we are going to be training. The weight\n",
    "  # matrix will be initialized using random values following a (truncated)\n",
    "  # normal distribution. The biases get initialized to zero.\n",
    "  weights = tf.Variable(\n",
    "    tf.truncated_normal([data_size, num_labels]))\n",
    "  biases = tf.Variable(tf.zeros([num_labels]))\n",
    "  \n",
    "  # Training computation.\n",
    "  # We multiply the inputs with the weight matrix, and add biases. We compute\n",
    "  # the softmax and cross-entropy (it's one operation in TensorFlow, because\n",
    "  # it's very common, and it can be optimized). We take the average of this\n",
    "  # cross-entropy across all training examples: that's our loss.\n",
    "  logits = tf.matmul(tf_train_dataset, weights) + biases\n",
    "  loss = tf.reduce_mean(\n",
    "    tf.nn.softmax_cross_entropy_with_logits(logits, tf_train_labels)) + beta_regul * tf.nn.l2_loss(weights)\n",
    "  \n",
    "  # Optimizer.\n",
    "  # We are going to find the minimum of this loss using gradient descent.\n",
    "  optimizer = tf.train.GradientDescentOptimizer(0.5).minimize(loss)\n",
    "  \n",
    "  # Predictions for the training, validation, and test data.\n",
    "  # These are not part of training, but merely here so that we can report\n",
    "  # accuracy figures as we train.\n",
    "  train_prediction = tf.nn.softmax(logits)\n",
    "  valid_prediction = tf.nn.softmax(\n",
    "    tf.matmul(tf_valid_dataset, weights) + biases)\n",
    "  test_prediction = tf.nn.softmax(tf.matmul(tf_test_dataset, weights) + biases)"
   ]
  },
  {
   "cell_type": "code",
   "execution_count": null,
   "metadata": {
    "collapsed": true
   },
   "outputs": [],
   "source": [
    "num_steps = 3001\n",
    "\n",
    "def accuracy(predictions, labels):\n",
    "  return (100.0 * np.sum(np.argmax(predictions, 1) == np.argmax(labels, 1))\n",
    "          / predictions.shape[0])\n",
    "\n",
    "with tf.Session(graph=graph) as session:\n",
    "  # This is a one-time operation which ensures the parameters get initialized as\n",
    "  # we described in the graph: random weights for the matrix, zeros for the\n",
    "  # biases. \n",
    "  tf.initialize_all_variables().run()\n",
    "  print('Initialized')\n",
    "  for step in range(num_steps):\n",
    "    # Run the computations. We tell .run() that we want to run the optimizer,\n",
    "    # and get the loss value and the training predictions returned as numpy\n",
    "    # arrays.\n",
    "    feed_dict = {beta_regul : 1e-3}\n",
    "    _, l, predictions = session.run([optimizer, loss, train_prediction],feed_dict=feed_dict)\n",
    "    if (step % 100 == 0):\n",
    "      print('Loss at step %d: %f' % (step, l))\n",
    "      print('Training accuracy: %.1f%%' % accuracy(\n",
    "        predictions, train_labels[:train_subset, :]))\n",
    "      # Calling .eval() on valid_prediction is basically like calling run(), but\n",
    "      # just to get that one numpy array. Note that it recomputes all its graph\n",
    "      # dependencies.\n",
    "      print('Validation accuracy: %.1f%%' % accuracy(\n",
    "        valid_prediction.eval(), valid_labels))\n",
    "  print('Test accuracy: %.1f%%' % accuracy(test_prediction.eval(), test_labels))"
   ]
  },
  {
   "cell_type": "code",
   "execution_count": null,
   "metadata": {
    "collapsed": true
   },
   "outputs": [],
   "source": [
    "batch_size = 128\n",
    "num_hidden_nodes = 1024\n",
    "\n",
    "graph = tf.Graph()\n",
    "with graph.as_default():\n",
    "\n",
    "  # Input data. For the training data, we use a placeholder that will be fed\n",
    "  # at run time with a training minibatch.\n",
    "  tf_train_dataset = tf.placeholder(tf.float32,\n",
    "                                    shape=(batch_size, image_size * image_size))\n",
    "  tf_train_labels = tf.placeholder(tf.float32, shape=(batch_size, num_labels))\n",
    "  tf_valid_dataset = tf.constant(valid_dataset)\n",
    "  tf_test_dataset = tf.constant(test_dataset)\n",
    "  beta_regul = tf.placeholder(tf.float32)\n",
    "# Variables.\n",
    "  weights1 = tf.Variable(\n",
    "    tf.truncated_normal([image_size * image_size, num_hidden_nodes]))\n",
    "  biases1 = tf.Variable(tf.zeros([num_hidden_nodes]))\n",
    "  weights2 = tf.Variable(\n",
    "    tf.truncated_normal([num_hidden_nodes, num_labels]))\n",
    "  biases2 = tf.Variable(tf.zeros([num_labels]))\n",
    "  \n",
    "  # Training computation.\n",
    "  lay1_train = tf.nn.relu(tf.matmul(tf_train_dataset, weights1) + biases1)\n",
    "  logits = tf.matmul(lay1_train, weights2) + biases2\n",
    "  loss = tf.reduce_mean(\n",
    "    tf.nn.softmax_cross_entropy_with_logits(logits, tf_train_labels)) + \\\n",
    "      beta_regul * (tf.nn.l2_loss(weights1) + tf.nn.l2_loss(weights2))\n",
    "  \n",
    "  # Optimizer.\n",
    "  optimizer = tf.train.GradientDescentOptimizer(0.5).minimize(loss)\n",
    "  \n",
    " # Predictions for the training, validation, and test data.\n",
    "  train_prediction = tf.nn.softmax(logits2)\n",
    "  valid_prediction = tf.nn.softmax(tf.matmul(tf.nn.relu(tf.matmul(tf_valid_dataset, weights1) + biases1), weights2) + biases2) \n",
    "  test_prediction = tf.nn.softmax(tf.matmul(tf.nn.relu(tf.matmul(tf_test_dataset, weights1) + biases1), weights2) + biases2)"
   ]
  },
  {
   "cell_type": "code",
   "execution_count": null,
   "metadata": {
    "collapsed": true
   },
   "outputs": [],
   "source": [
    "batch_size = 128\n",
    "num_hidden_nodes = 1024\n",
    "graph = tf.Graph()\n",
    "with graph.as_default():\n",
    "\n",
    "  # Input data. For the training data, we use a placeholder that will be fed\n",
    "  # at run time with a training minibatch.\n",
    "  tf_train_dataset = tf.placeholder(tf.float32,\n",
    "                                    shape=(batch_size, image_size * image_size))\n",
    "  tf_train_labels = tf.placeholder(tf.float32, shape=(batch_size, num_labels))\n",
    "  tf_valid_dataset = tf.constant(valid_dataset)\n",
    "  tf_test_dataset = tf.constant(test_dataset)\n",
    "  beta_regul = tf.placeholder(tf.float32)\n",
    "  # Variables.\n",
    "  weights = tf.Variable(\n",
    "    tf.truncated_normal([image_size * image_size, num_hidden_nodes]))\n",
    "  biases = tf.Variable(tf.zeros([num_hidden_nodes]))\n",
    "  weights2 = tf.Variable(\n",
    "    tf.truncated_normal([num_hidden_nodes, 10]))\n",
    "  biases2 = tf.Variable(tf.zeros([num_labels]))\n",
    "    \n",
    "  \n",
    "  # Training computation.\n",
    "  lay1_train = tf.nn.relu(tf.matmul(tf_train_dataset, weights) + biases)\n",
    "  logits = tf.matmul(lay1_train, weights2) + biases2\n",
    "  loss = tf.reduce_mean(\n",
    "    tf.nn.softmax_cross_entropy_with_logits(logits, tf_train_labels)) + \\\n",
    "      beta_regul * (tf.nn.l2_loss(weights) + tf.nn.l2_loss(weights2))\n",
    "  \n",
    "  # Optimizer.\n",
    "  optimizer = tf.train.GradientDescentOptimizer(0.5).minimize(loss)\n",
    "  \n",
    "  # Predictions for the training, validation, and test data.\n",
    "  train_prediction = tf.nn.softmax(logits2)\n",
    "  valid_prediction = tf.nn.softmax(tf.matmul(tf.nn.relu(tf.matmul(tf_valid_dataset, weights) + biases), weights2) + biases2) \n",
    "  test_prediction = tf.nn.softmax(tf.matmul(tf.nn.relu(tf.matmul(tf_test_dataset, weights) + biases), weights2) + biases2)"
   ]
  },
  {
   "cell_type": "code",
   "execution_count": null,
   "metadata": {
    "collapsed": true
   },
   "outputs": [],
   "source": []
  },
  {
   "cell_type": "code",
   "execution_count": null,
   "metadata": {
    "collapsed": true
   },
   "outputs": [],
   "source": []
  },
  {
   "cell_type": "code",
   "execution_count": null,
   "metadata": {
    "collapsed": true
   },
   "outputs": [],
   "source": []
  },
  {
   "cell_type": "code",
   "execution_count": null,
   "metadata": {
    "collapsed": false
   },
   "outputs": [],
   "source": []
  },
  {
   "cell_type": "code",
   "execution_count": null,
   "metadata": {
    "collapsed": true
   },
   "outputs": [],
   "source": [
    "num_steps = 801\n",
    "\n",
    "def accuracy(predictions, labels):\n",
    "  return (100.0 * np.sum(np.argmax(predictions, 1) == np.argmax(labels, 1))\n",
    "          / predictions.shape[0])\n",
    "\n",
    "with tf.Session(graph=graph) as session:\n",
    "  # This is a one-time operation which ensures the parameters get initialized as\n",
    "  # we described in the graph: random weights for the matrix, zeros for the\n",
    "  # biases. \n",
    "  tf.initialize_all_variables().run()\n",
    "  print('Initialized')\n",
    "  for step in range(num_steps):\n",
    "    # Run the computations. We tell .run() that we want to run the optimizer,\n",
    "    # and get the loss value and the training predictions returned as numpy\n",
    "    # arrays.\n",
    "    _, l, predictions = session.run([optimizer, loss, train_prediction])\n",
    "    if (step % 100 == 0):\n",
    "      print('Loss at step %d: %f' % (step, l))\n",
    "      print('Training accuracy: %.1f%%' % accuracy(\n",
    "        predictions, train_labels[:train_subset, :]))\n",
    "      # Calling .eval() on valid_prediction is basically like calling run(), but\n",
    "      # just to get that one numpy array. Note that it recomputes all its graph\n",
    "      # dependencies.\n",
    "      print('Validation accuracy: %.1f%%' % accuracy(\n",
    "        valid_prediction.eval(), valid_labels))\n",
    "  print('Test accuracy: %.1f%%' % accuracy(test_prediction.eval(), test_labels))"
   ]
  },
  {
   "cell_type": "code",
   "execution_count": null,
   "metadata": {
    "collapsed": true
   },
   "outputs": [],
   "source": []
  },
  {
   "cell_type": "code",
   "execution_count": null,
   "metadata": {
    "collapsed": true
   },
   "outputs": [],
   "source": [
    "num_steps = 3001\n",
    "\n",
    "with tf.Session(graph=graph) as session:\n",
    "  tf.initialize_all_variables().run()\n",
    "  print(\"Initialized\")\n",
    "  for step in range(num_steps):\n",
    "    # Pick an offset within the training data, which has been randomized.\n",
    "    # Note: we could use better randomization across epochs.\n",
    "    offset = (step * batch_size) % (train_labels.shape[0] - batch_size)\n",
    "    # Generate a minibatch.\n",
    "    batch_data = train_dataset[offset:(offset + batch_size), :]\n",
    "    batch_labels = train_labels[offset:(offset + batch_size), :]\n",
    "    # Prepare a dictionary telling the session where to feed the minibatch.\n",
    "    # The key of the dictionary is the placeholder node of the graph to be fed,\n",
    "    # and the value is the numpy array to feed to it.\n",
    "    feed_dict = {tf_train_dataset : batch_data, tf_train_labels : batch_labels}\n",
    "    _, l, predictions = session.run(\n",
    "      [optimizer, loss, train_prediction], feed_dict=feed_dict)\n",
    "    if (step % 500 == 0):\n",
    "      print(\"Minibatch loss at step %d: %f\" % (step, l))\n",
    "      print(\"Minibatch accuracy: %.1f%%\" % accuracy(predictions, batch_labels))\n",
    "      print(\"Validation accuracy: %.1f%%\" % accuracy(\n",
    "        valid_prediction.eval(), valid_labels))\n",
    "  print(\"Test accuracy: %.1f%%\" % accuracy(test_prediction.eval(), test_labels))"
   ]
  },
  {
   "cell_type": "code",
   "execution_count": null,
   "metadata": {
    "collapsed": true
   },
   "outputs": [],
   "source": []
  },
  {
   "cell_type": "code",
   "execution_count": null,
   "metadata": {
    "collapsed": true
   },
   "outputs": [],
   "source": []
  },
  {
   "cell_type": "code",
   "execution_count": null,
   "metadata": {
    "collapsed": true
   },
   "outputs": [],
   "source": []
  },
  {
   "cell_type": "code",
   "execution_count": null,
   "metadata": {
    "collapsed": true
   },
   "outputs": [],
   "source": []
  },
  {
   "cell_type": "code",
   "execution_count": null,
   "metadata": {
    "collapsed": true
   },
   "outputs": [],
   "source": []
  }
 ],
 "metadata": {
  "kernelspec": {
   "display_name": "Python 2",
   "language": "python",
   "name": "python2"
  },
  "language_info": {
   "codemirror_mode": {
    "name": "ipython",
    "version": 2
   },
   "file_extension": ".py",
   "mimetype": "text/x-python",
   "name": "python",
   "nbconvert_exporter": "python",
   "pygments_lexer": "ipython2",
   "version": "2.7.12"
  }
 },
 "nbformat": 4,
 "nbformat_minor": 1
}
