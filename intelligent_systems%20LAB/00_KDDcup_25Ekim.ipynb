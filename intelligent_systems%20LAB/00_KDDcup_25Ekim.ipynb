{
 "cells": [
  {
   "cell_type": "markdown",
   "metadata": {},
   "source": [
    "# Deep Learning  KDDcup 99\n"
   ]
  },
  {
   "cell_type": "code",
   "execution_count": 1,
   "metadata": {
    "collapsed": false
   },
   "outputs": [],
   "source": [
    "# These are all the modules we'll be using later. Make sure you can import them\n",
    "# before proceeding further.\n",
    "from __future__ import print_function\n",
    "import matplotlib.pyplot as plt\n",
    "import numpy as np\n",
    "import os\n",
    "import random\n",
    "import sys\n",
    "import tarfile\n",
    "import tensorflow as tf\n",
    "from IPython.display import display, Image\n",
    "from scipy import ndimage\n",
    "from sklearn.linear_model import LogisticRegression\n",
    "from six.moves.urllib.request import urlretrieve\n",
    "from six.moves import cPickle as pickle\n",
    "\n",
    "# Config the matplotlib backend as plotting inline in IPython\n",
    "%matplotlib inline\n",
    "\n",
    "import csv\n",
    "from array import *\n",
    "from collections import Counter\n",
    "\n",
    "    \n",
    "        "
   ]
  },
  {
   "cell_type": "code",
   "execution_count": 2,
   "metadata": {
    "collapsed": false
   },
   "outputs": [
    {
     "name": "stdout",
     "output_type": "stream",
     "text": [
      "Toplam satir sayisi :  1074992\n",
      "Classes are :  ['dos', 'u2r', 'r2l', 'probe', 'normal']\n"
     ]
    }
   ],
   "source": [
    "with open('/home/isl-eyup/tensorflow/KDDcup_datasets/kddcup_data_corrected_uniq.csv', 'rb') as f:\n",
    "    reader = csv.reader(f)\n",
    "    data_as_list = list(reader)\n",
    "def file_len(adress):\n",
    "  f = open(adress)\n",
    "  nr_of_lines = sum(1 for line in f)\n",
    "  f.close()\n",
    "  return nr_of_lines\n",
    "\n",
    "number_of_lines = file_len('/home/isl-eyup/tensorflow/KDDcup_datasets/kddcup_data_corrected_uniq.csv')\n",
    "print('Toplam satir sayisi : ', number_of_lines)\n",
    "\n",
    "\n",
    "\n",
    "def label_index(str):\n",
    "    indx = 4\n",
    "    if str == 'back.':\n",
    "        indx = 0\n",
    "    elif str == 'buffer_overflow.':\n",
    "        indx = 1\n",
    "    elif str =='ftp_write.':\n",
    "        indx = 2\n",
    "    elif str == 'guess_password.':\n",
    "        indx = 2\n",
    "    elif str == 'imap.':\n",
    "        indx = 2\n",
    "    elif str == 'ipsweep.':\n",
    "        indx = 3\n",
    "    elif str == 'land.':\n",
    "        indx = 0\n",
    "    elif str == 'loadmodule.':\n",
    "        indx = 1\n",
    "    elif str == 'multihop.':\n",
    "        indx = 0\n",
    "    elif str == 'neptune.':\n",
    "        indx = 0\n",
    "    elif str == 'nmap.':\n",
    "        indx = 3\n",
    "    elif str == 'normal.':\n",
    "        indx = 4\n",
    "    elif str == 'perl.':\n",
    "        indx = 1\n",
    "    elif str =='phf.':\n",
    "        indx = 2\n",
    "    elif str == 'pod.':\n",
    "        indx = 0\n",
    "    elif str == 'portsweep.':\n",
    "        indx = 3\n",
    "    elif str == 'rootkit.':\n",
    "        indx = 1\n",
    "    elif str == 'satan.':\n",
    "        indx = 3\n",
    "    elif str == 'smurf.':\n",
    "        indx = 0\n",
    "    elif str == 'spy.':\n",
    "        indx = 2\n",
    "    elif str == 'teardrop.':\n",
    "        indx = 0\n",
    "    elif str == 'warezclient.':\n",
    "        indx == 2\n",
    "    elif str == 'warezmaster.':\n",
    "        indx = 2\n",
    "    else :\n",
    "        indx = 4\n",
    "    return indx\n",
    "    \n",
    "    \n",
    "attack_types = ['dos','u2r','r2l','probe','normal']    \n",
    "print(\"Classes are : \",attack_types)"
   ]
  },
  {
   "cell_type": "code",
   "execution_count": 4,
   "metadata": {
    "collapsed": true
   },
   "outputs": [],
   "source": [
    "#LABEL ARRAY \n",
    "#label_array = np.empty(number_of_lines, dtype=object)\n",
    "#attack_matrix = np.ndarray(shape=(number_of_lines,5), dtype='int')\n",
    "\n",
    "#for i in range(number_of_lines):\n",
    "#    for j in range(5):\n",
    "#        attack_matrix[i][j]=0\n",
    "\n",
    "#FROM LABEL TO ATTACK MATRIX        \n",
    "#for i in range(number_of_lines):\n",
    "#    label_array[i] = data_as_list[i][41] \n",
    "#    attack_matrix[i][label_index(label_array[i])] = 1\n"
   ]
  },
  {
   "cell_type": "code",
   "execution_count": 3,
   "metadata": {
    "collapsed": true
   },
   "outputs": [],
   "source": [
    "\"\"\"Protocols : ['icmp', 'tcp', 'udp']\"\"\"\n",
    "def protocol_index(str):\n",
    "    indx = 0\n",
    "    if str == 'icmp':\n",
    "        indx = 0\n",
    "    elif str == 'tcp':\n",
    "        indx = 1\n",
    "    elif str =='udp':\n",
    "        indx = 2\n",
    "    return indx\n",
    "\n",
    "\"\"\"FLAGS : ['SF', 'REJ', 'RSTO', 'RSTR', 'S0', 'SH', 'S1', 'OTH', 'S2', 'S3', 'RSTOS0']\"\"\"\n",
    "def flag_index(str):\n",
    "    indx = 0\n",
    "    if str == 'SF':\n",
    "        indx = 0\n",
    "    elif str == 'REJ':\n",
    "        indx = 1\n",
    "    elif str =='RSTO':\n",
    "        indx = 2\n",
    "    elif str == 'RSTR':\n",
    "        indx = 3\n",
    "    elif str == 'S0':\n",
    "        indx = 4\n",
    "    elif str == 'SH':\n",
    "        indx = 5\n",
    "    elif str == 'S1':\n",
    "        indx = 6\n",
    "    elif str == 'OTH':\n",
    "        indx = 7\n",
    "    elif str == 'S2':\n",
    "        indx = 8\n",
    "    elif str == 'S3':\n",
    "        indx = 9\n",
    "    elif str == 'nmap.':\n",
    "        indx = 10\n",
    "    elif str == 'RSTOS0':\n",
    "        indx = 11\n",
    "    return indx\n",
    "\n",
    "\n",
    "\"\"\"THERE ARE 70 SERVICES \"\"\"\n",
    "def service_index(str):\n",
    "    indx = 0\n",
    "    if str == 'eco_i':\n",
    "        indx = 0\n",
    "    elif str == 'ecr_i':\n",
    "        indx = 1\n",
    "    elif str =='red_i':\n",
    "        indx = 2\n",
    "    elif str == 'tim_i':\n",
    "        indx = 3\n",
    "    elif str == 'urh_i':\n",
    "        indx = 4\n",
    "    elif str == 'urp_i':\n",
    "        indx = 5\n",
    "    elif str == 'aol':\n",
    "        indx = 6\n",
    "    elif str == 'auth':\n",
    "        indx = 7\n",
    "    elif str == 'bgp':\n",
    "        indx = 8\n",
    "    elif str == 'courier':\n",
    "        indx = 9\n",
    "    elif str == 'csnet_ns':\n",
    "        indx = 10\n",
    "    elif str == 'ctf':\n",
    "        indx = 11\n",
    "    elif str == 'daytime':\n",
    "        indx = 12\n",
    "    elif str == 'discard':\n",
    "        indx = 13\n",
    "    elif str == 'domain':\n",
    "        indx = 14\n",
    "    elif str == 'echo':\n",
    "        indx = 15\n",
    "    elif str == 'efs':\n",
    "        indx = 16\n",
    "    elif str == 'exec':\n",
    "        indx = 17\n",
    "    elif str == 'finger':\n",
    "        indx = 18\n",
    "    elif str == 'ftp_data':\n",
    "        indx = 19\n",
    "    elif str == 'ftp':\n",
    "        indx = 20\n",
    "    elif str == 'gopher':\n",
    "        indx = 21\n",
    "    elif str == 'harvest':\n",
    "        indx = 22\n",
    "    elif str == 'hostnames':\n",
    "        indx = 23\n",
    "    elif str == 'http_2784':\n",
    "        indx = 24\n",
    "    elif str == 'http_443':\n",
    "        indx = 25\n",
    "    elif str == 'http_8001':\n",
    "        indx = 26\n",
    "    elif str == 'http':\n",
    "        indx = 27\n",
    "    elif str == 'imap4':\n",
    "        indx = 28\n",
    "    elif str == 'IRC':\n",
    "        indx = 29\n",
    "    elif str == 'iso_tsap':\n",
    "        indx = 30\n",
    "    elif str == 'klogin':\n",
    "        indx = 31\n",
    "    elif str == 'kshell':\n",
    "        indx = 32        \n",
    "    elif str == 'ldap':\n",
    "        indx = 33\n",
    "    elif str == 'link':\n",
    "        indx = 34\n",
    "    elif str == 'login':\n",
    "        indx = 35\n",
    "    elif str == 'mtp':\n",
    "        indx = 36\n",
    "    elif str == 'name':\n",
    "        indx = 37\n",
    "    elif str == 'netbios_dgm':\n",
    "        indx = 38\n",
    "    elif str == 'netbios_ns':\n",
    "        indx = 39\n",
    "    elif str == 'netbios_ssn':\n",
    "        indx = 40\n",
    "    elif str == 'netstat':\n",
    "        indx = 41\n",
    "    elif str == 'nnsp':\n",
    "        indx = 42\n",
    "    elif str == 'nntp':\n",
    "        indx = 43\n",
    "    elif str == 'other':\n",
    "        indx = 44\n",
    "    elif str == 'pm_dump':\n",
    "        indx = 45\n",
    "    elif str == 'pop_2':\n",
    "        indx = 46\n",
    "    elif str == 'pop_3':\n",
    "        indx = 47\n",
    "    elif str == 'printer':\n",
    "        indx = 48\n",
    "    elif str == 'private':\n",
    "        indx = 49\n",
    "    elif str == 'remote_job':\n",
    "        indx = 50\n",
    "    elif str == 'rje':\n",
    "        indx = 51\n",
    "    elif str == 'shell':\n",
    "        indx = 52\n",
    "    elif str == 'smtp':\n",
    "        indx = 53\n",
    "    elif str == 'sql_net':\n",
    "        indx = 54\n",
    "    elif str == 'ssh':\n",
    "        indx = 55\n",
    "    elif str == 'sunrpc':\n",
    "        indx = 56\n",
    "    elif str == 'supdup':\n",
    "        indx = 57\n",
    "    elif str == 'systat':\n",
    "        indx = 58\n",
    "    elif str == 'telnet':\n",
    "        indx = 59\n",
    "    elif str == 'time':\n",
    "        indx = 60\n",
    "    elif str == 'uucp_path':\n",
    "        indx = 61\n",
    "    elif str == 'uucp':\n",
    "        indx = 62\n",
    "    elif str == 'vmnet':\n",
    "        indx = 63\n",
    "    elif str == 'whois':\n",
    "        indx = 64\n",
    "    elif str == 'X11':\n",
    "        indx = 65\n",
    "    elif str == 'Z39_50':\n",
    "        indx = 66\n",
    "    elif str == 'domain_u':\n",
    "        indx = 67\n",
    "    elif str == 'ntp_u':\n",
    "        indx = 68\n",
    "    elif str == 'tftp_u':\n",
    "        indx = 69\n",
    "    return indx\n",
    "\n"
   ]
  },
  {
   "cell_type": "code",
   "execution_count": null,
   "metadata": {
    "collapsed": true
   },
   "outputs": [],
   "source": []
  },
  {
   "cell_type": "code",
   "execution_count": 6,
   "metadata": {
    "collapsed": false
   },
   "outputs": [
    {
     "name": "stdout",
     "output_type": "stream",
     "text": [
      "There are 3 protocol types \n",
      "Protocols : ['icmp', 'tcp', 'udp']\n",
      "There are 70 service \n",
      "Services : ['eco_i', 'ecr_i', 'red_i', 'tim_i', 'urh_i', 'urp_i', 'aol', 'auth', 'bgp', 'courier', 'csnet_ns', 'ctf', 'daytime', 'discard', 'domain', 'echo', 'efs', 'exec', 'finger', 'ftp_data', 'ftp', 'gopher', 'harvest', 'hostnames', 'http_2784', 'http_443', 'http_8001', 'http', 'imap4', 'IRC', 'iso_tsap', 'klogin', 'kshell', 'ldap', 'link', 'login', 'mtp', 'name', 'netbios_dgm', 'netbios_ns', 'netbios_ssn', 'netstat', 'nnsp', 'nntp', 'other', 'pm_dump', 'pop_2', 'pop_3', 'printer', 'private', 'remote_job', 'rje', 'shell', 'smtp', 'sql_net', 'ssh', 'sunrpc', 'supdup', 'systat', 'telnet', 'time', 'uucp_path', 'uucp', 'vmnet', 'whois', 'X11', 'Z39_50', 'domain_u', 'ntp_u', 'tftp_u']\n",
      "There are 11 flag \n",
      "Flags : ['SF', 'REJ', 'RSTO', 'RSTR', 'S0', 'SH', 'S1', 'OTH', 'S2', 'S3', 'RSTOS0']\n"
     ]
    }
   ],
   "source": [
    "protocol = []\n",
    "sayac =0\n",
    "\n",
    "\n",
    "for i in range(number_of_lines):\n",
    "    if data_as_list[i][1] in protocol:\n",
    "        sayac = sayac\n",
    "    else:\n",
    "        protocol.append(data_as_list[i][1]) \n",
    "        sayac += 1\n",
    "print(\"There are %d protocol types \" %sayac)\n",
    "print(\"Protocols : %s\" %protocol)\n",
    "\n",
    "\n",
    "service = []\n",
    "sayac =0\n",
    "for i in range(number_of_lines):\n",
    "    if data_as_list[i][2] in service:\n",
    "        sayac = sayac\n",
    "    else:\n",
    "        service.append(data_as_list[i][2])\n",
    "        sayac += 1\n",
    "print(\"There are %d service \" %sayac)   \n",
    "print(\"Services : %s\" %service)\n",
    "\n",
    "\n",
    "\n",
    "flag = []\n",
    "sayac =0\n",
    "for i in range(number_of_lines):\n",
    "    if data_as_list[i][3] in flag:\n",
    "        sayac = sayac\n",
    "    else:\n",
    "        flag.append(data_as_list[i][3])\n",
    "        sayac += 1\n",
    "print(\"There are %d flag \" %sayac)     \n",
    "print(\"Flags : %s\" %flag)"
   ]
  },
  {
   "cell_type": "code",
   "execution_count": 7,
   "metadata": {
    "collapsed": false
   },
   "outputs": [
    {
     "data": {
      "text/plain": [
       "'probe'"
      ]
     },
     "execution_count": 7,
     "metadata": {},
     "output_type": "execute_result"
    }
   ],
   "source": [
    "attack_types[label_index(data_as_list[1][41])]"
   ]
  },
  {
   "cell_type": "code",
   "execution_count": null,
   "metadata": {
    "collapsed": false
   },
   "outputs": [],
   "source": []
  },
  {
   "cell_type": "code",
   "execution_count": 8,
   "metadata": {
    "collapsed": false
   },
   "outputs": [
    {
     "name": "stdout",
     "output_type": "stream",
     "text": [
      "Label Array generated \n",
      "Protocol, service and flag names change with int value \n",
      "Dataset reorganize as data_uniq ... \n"
     ]
    }
   ],
   "source": [
    "data_uniq = np.empty(shape=[number_of_lines, 42])\n",
    "label_array = np.empty(number_of_lines, dtype=object)\n",
    "\n",
    "for i in range(number_of_lines):\n",
    "    label_array[i] = attack_types[label_index(data_as_list[i][41])]\n",
    "print(\"Label Array generated \")\n",
    "\n",
    "for i in range(number_of_lines):\n",
    "    data_uniq[i][0] = data_as_list[i][0]\n",
    "    data_uniq[i][1] = protocol_index(data_as_list[i][1])\n",
    "    data_uniq[i][2] = service_index(data_as_list[i][2])\n",
    "    data_uniq[i][3] = flag_index(data_as_list[i][3])\n",
    "print(\"Protocol, service and flag names change with int value \")        \n",
    "        \n",
    "for i in range(number_of_lines):\n",
    "    for j in range(4,41):\n",
    "        data_uniq[i][j] = data_as_list[i][j]\n",
    "\n",
    "\n",
    "for i in range(number_of_lines):\n",
    "    data_uniq[i][41] = attack_types.index(label_array[i])\n",
    "\n",
    "print(\"Dataset reorganize as data_uniq ... \")    \n"
   ]
  },
  {
   "cell_type": "code",
   "execution_count": 78,
   "metadata": {
    "collapsed": false
   },
   "outputs": [],
   "source": [
    "#\"\"\"Array save to csv file \"\"\"\n",
    "#np.savetxt(\n",
    "#    'Dataset_uniq_corrected.csv', # file name\n",
    "#    data_uniq,              # array to save\n",
    "#    fmt='%.5f',             # formatting, 2 digits in this case\n",
    "#    delimiter=',',          # column delimiter\n",
    "#    newline='\\n',           # new line character\n",
    "#    footer='end of file',   # file footer\n",
    "#    comments='# ',          # character to use for comments\n",
    "#    header='Data generated by numpy')      # file header"
   ]
  },
  {
   "cell_type": "code",
   "execution_count": 9,
   "metadata": {
    "collapsed": false
   },
   "outputs": [
    {
     "name": "stdout",
     "output_type": "stream",
     "text": [
      "Data shuffled ! \n",
      "(300000, 42) float64\n"
     ]
    }
   ],
   "source": [
    "from sklearn.utils import shuffle\n",
    "data = np.empty(shape=[300000, 42], dtype = float)\n",
    "data = data_uniq[:300000][:].astype(float)\n",
    "\n",
    "data = shuffle(data)\n",
    "print(\"Data shuffled ! \")\n",
    "print(data.shape, data.dtype)\n",
    "\n"
   ]
  },
  {
   "cell_type": "code",
   "execution_count": 10,
   "metadata": {
    "collapsed": false
   },
   "outputs": [
    {
     "name": "stderr",
     "output_type": "stream",
     "text": [
      "/home/isl-eyup/.local/lib/python2.7/site-packages/ipykernel/__main__.py:3: VisibleDeprecationWarning: using a non-integer number instead of an integer will result in an error in the future\n",
      "  app.launch_new_instance()\n"
     ]
    },
    {
     "name": "stdout",
     "output_type": "stream",
     "text": [
      "Size of data set for class 0: 23501\n",
      "Size of data set for class 1: 12\n",
      "Size of data set for class 2: 7\n",
      "Size of data set for class 3: 4547\n",
      "Size of data set for class 4: 271933\n"
     ]
    }
   ],
   "source": [
    "sayac = np.zeros(5, dtype=int)\n",
    "for i in range(300000):\n",
    "    sayac[data[i][41]] +=  1\n",
    "    \n",
    "for i in range(5):\n",
    "    print('Size of data set for class ' + str(i) + ': ' + str(sayac[i]))\n",
    "\n",
    "    \n"
   ]
  },
  {
   "cell_type": "code",
   "execution_count": 39,
   "metadata": {
    "collapsed": false
   },
   "outputs": [
    {
     "name": "stdout",
     "output_type": "stream",
     "text": [
      "(300000, 42)\n"
     ]
    }
   ],
   "source": [
    "#new_data_uniq = np.empty(shape=[300000, 42], dtype = int)\n",
    "#say1 = 0\n",
    "#say2 = 0 \n",
    "\n",
    "#for i in range(number_of_lines):\n",
    "#    for j in range(42):\n",
    "#        if say2 < 300000:\n",
    "#            if data[i][41] == 9 :\n",
    "#                if say1 < 35000:\n",
    "#                    new_data_uniq[say2][j] = data[i][j]\n",
    "#                    say1 += 1\n",
    "#            elif data[i][41] == 11 :\n",
    "#                if say2 < 300000:\n",
    "#                    new_data_uniq[say2][j] = data[i][j]\n",
    "#            else:\n",
    "#                new_data_uniq[say2][j] = data[i][j]\n",
    "#    say2 +=1\n",
    "#print(new_data_uniq.shape)    "
   ]
  },
  {
   "cell_type": "code",
   "execution_count": null,
   "metadata": {
    "collapsed": false
   },
   "outputs": [],
   "source": [
    "  "
   ]
  },
  {
   "cell_type": "code",
   "execution_count": 41,
   "metadata": {
    "collapsed": false
   },
   "outputs": [
    {
     "name": "stdout",
     "output_type": "stream",
     "text": [
      "number of insance for class 0: 1110\n",
      "number of insance for class 1: 28\n",
      "number of insance for class 2: 14\n",
      "number of insance for class 3: 0\n",
      "number of insance for class 4: 0\n",
      "number of insance for class 5: 43823\n",
      "number of insance for class 6: 65\n",
      "number of insance for class 7: 0\n",
      "number of insance for class 8: 4\n",
      "number of insance for class 9: 9621\n",
      "number of insance for class 10: 11096\n",
      "number of insance for class 11: 208264\n",
      "number of insance for class 12: 0\n",
      "number of insance for class 13: 0\n",
      "number of insance for class 14: 1502\n",
      "number of insance for class 15: 542\n",
      "number of insance for class 16: 3\n",
      "number of insance for class 17: 646\n",
      "number of insance for class 18: 23276\n",
      "number of insance for class 19: 0\n",
      "number of insance for class 20: 0\n",
      "number of insance for class 21: 0\n",
      "number of insance for class 22: 6\n"
     ]
    }
   ],
   "source": [
    "#sayac = np.zeros(5, dtype=int)\n",
    "#for i in range(300000):\n",
    "#    sayac[new_data_uniq[i][41]] +=  1\n",
    "#    \n",
    "#for i in range(5):\n",
    "#    print('number of insance for class ' + str(i) + ': ' + str(sayac[i]))"
   ]
  },
  {
   "cell_type": "code",
   "execution_count": 127,
   "metadata": {
    "collapsed": false
   },
   "outputs": [
    {
     "name": "stdout",
     "output_type": "stream",
     "text": [
      "2.0\n"
     ]
    }
   ],
   "source": []
  },
  {
   "cell_type": "code",
   "execution_count": 12,
   "metadata": {
    "collapsed": false
   },
   "outputs": [
    {
     "name": "stdout",
     "output_type": "stream",
     "text": [
      "Done ! \n"
     ]
    }
   ],
   "source": [
    "\"\"\"Dataset: data_uniq matrix --> data matrix \"\"\"\n",
    "\"\"\"Train_set : 80% of dataset \"\"\"\n",
    "\"\"\"Test set : 10 % of dataset \"\"\"\n",
    "\n",
    "dataset = np.empty(shape=[300000, 42], dtype = float)\n",
    "for i in range(300000):\n",
    "    for j in range(42):\n",
    "        dataset[i][j] = int(data[i][j])\n",
    "\n",
    "dataset = np.float32(dataset)  \n",
    "\n",
    "train_dataset = np.empty(shape=[240000, 42] ,dtype = float)\n",
    "train_dataset = np.float32(train_dataset)\n",
    "train_labels = np.empty(shape=[240000] ,dtype = float)\n",
    "train_labels = np.float32(train_labels)\n",
    "test_dataset = np.empty(shape=[30000, 42] ,dtype = float)\n",
    "test_dataset = np.float32(test_dataset)\n",
    "test_labels = np.empty(shape=[30000] ,dtype = float)\n",
    "test_labels = np.float32(test_labels)\n",
    "valid_dataset = np.empty(shape=[30000, 42] ,dtype = float)\n",
    "valid_dataset = np.float32(valid_dataset)\n",
    "valid_labels = np.empty(shape=[30000] ,dtype = float)\n",
    "valid_labels = np.float32(valid_labels)\n",
    "print(\"Done ! \")\n",
    "\n"
   ]
  },
  {
   "cell_type": "code",
   "execution_count": 13,
   "metadata": {
    "collapsed": false
   },
   "outputs": [
    {
     "data": {
      "text/plain": [
       "dtype('float32')"
      ]
     },
     "execution_count": 13,
     "metadata": {},
     "output_type": "execute_result"
    }
   ],
   "source": [
    "train_set.dtype"
   ]
  },
  {
   "cell_type": "code",
   "execution_count": 24,
   "metadata": {
    "collapsed": false
   },
   "outputs": [
    {
     "name": "stdout",
     "output_type": "stream",
     "text": [
      "Train dataset created . .  (240000, 42) float32\n",
      "Test dataset created . .  (30000, 42) float32\n",
      "Validation dataset created . .  (30000, 42) float32\n",
      "Done ! \n"
     ]
    }
   ],
   "source": [
    "for i in range(240000):\n",
    "    for j in range(42):\n",
    "        train_dataset[i][j] = int(dataset[i][j])\n",
    "print(\"Train dataset created . . \", train_dataset.shape, train_dataset.dtype)\n",
    "        \n",
    "k = 0\n",
    "for i in range(240000,270000):\n",
    "    l = 0\n",
    "    for j in range(42):\n",
    "        test_dataset[k][l] = int(dataset[i][j])\n",
    "        l +=1\n",
    "    k+=1    \n",
    "print(\"Test dataset created . . \", test_dataset.shape, test_dataset.dtype)\n",
    "    \n",
    "k = 0\n",
    "for i in range(270000,300000):\n",
    "    l = 0\n",
    "    for j in range(42):\n",
    "        valid_dataset[k][l] = int(dataset[i][j])\n",
    "        l +=1\n",
    "    k +=1\n",
    "print(\"Validation dataset created . . \", valid_dataset.shape, valid_dataset.dtype)\n",
    "   \n",
    "print(\"Done ! \")\n"
   ]
  },
  {
   "cell_type": "code",
   "execution_count": null,
   "metadata": {
    "collapsed": true
   },
   "outputs": [],
   "source": []
  },
  {
   "cell_type": "code",
   "execution_count": 25,
   "metadata": {
    "collapsed": false
   },
   "outputs": [
    {
     "name": "stdout",
     "output_type": "stream",
     "text": [
      "training labels array created :    (240000,) float32\n",
      "test labels array created :   (30000,) float32\n",
      "validation labels array created :   (30000,) float32\n",
      "Done ! \n"
     ]
    }
   ],
   "source": [
    "for i in range(240000):\n",
    "    train_labels[i] = dataset[i][41]\n",
    "print(\"training labels array created :   \", train_labels.shape, train_labels.dtype) \n",
    "\n",
    "k=0    \n",
    "for i in range(240000,270000):\n",
    "    test_labels[k] = dataset[i][41]    \n",
    "    k += 1\n",
    "print(\"test labels array created :  \", test_labels.shape, test_labels.dtype)\n",
    "\n",
    "m=0    \n",
    "for i in range(270000,300000):\n",
    "    valid_labels[m] = dataset[i][41]\n",
    "    m += 1\n",
    "print(\"validation labels array created :  \", valid_labels.shape, valid_labels.dtype)\n",
    "\n",
    "print(\"Done ! \")"
   ]
  },
  {
   "cell_type": "code",
   "execution_count": null,
   "metadata": {
    "collapsed": true
   },
   "outputs": [],
   "source": []
  },
  {
   "cell_type": "code",
   "execution_count": 26,
   "metadata": {
    "collapsed": false
   },
   "outputs": [
    {
     "name": "stderr",
     "output_type": "stream",
     "text": [
      "/home/isl-eyup/.local/lib/python2.7/site-packages/ipykernel/__main__.py:3: VisibleDeprecationWarning: using a non-integer number instead of an integer will result in an error in the future\n",
      "  app.launch_new_instance()\n"
     ]
    },
    {
     "name": "stdout",
     "output_type": "stream",
     "text": [
      "number of insance for class 0: 23501\n",
      "number of insance for class 1: 12\n",
      "number of insance for class 2: 7\n",
      "number of insance for class 3: 4547\n",
      "number of insance for class 4: 271933\n"
     ]
    }
   ],
   "source": [
    "sayac = np.zeros(5, dtype=int)\n",
    "for i in range(300000):\n",
    "    sayac[dataset[i][41]] +=  1\n",
    "    \n",
    "for i in range(5):\n",
    "    print('number of insance for class ' + str(i) + ': ' + str(sayac[i]))"
   ]
  },
  {
   "cell_type": "code",
   "execution_count": null,
   "metadata": {
    "collapsed": true
   },
   "outputs": [],
   "source": []
  },
  {
   "cell_type": "code",
   "execution_count": null,
   "metadata": {
    "collapsed": false
   },
   "outputs": [],
   "source": []
  },
  {
   "cell_type": "code",
   "execution_count": null,
   "metadata": {
    "collapsed": false
   },
   "outputs": [],
   "source": []
  },
  {
   "cell_type": "code",
   "execution_count": null,
   "metadata": {
    "collapsed": true
   },
   "outputs": [],
   "source": []
  },
  {
   "cell_type": "code",
   "execution_count": 27,
   "metadata": {
    "collapsed": false
   },
   "outputs": [
    {
     "name": "stdout",
     "output_type": "stream",
     "text": [
      "Full dataset tensor: (300000, 42)\n",
      "Means of each columns  : \n",
      "[  0.00000000e+00   9.60309982e-01   2.39767303e+01   3.80233347e-01\n",
      "   1.10602747e+03   3.11069556e+03   8.33333324e-05   6.76666677e-04\n",
      "   0.00000000e+00   1.05799995e-02   1.33333333e-05   7.26830006e-01\n",
      "   6.46666682e-04   8.33333324e-05   0.00000000e+00   8.00933316e-02\n",
      "   2.97666667e-03   1.10999995e-03   9.80000012e-04   0.00000000e+00\n",
      "   0.00000000e+00   2.93333345e-04   2.33072243e+01   1.38064270e+01\n",
      "   5.57533316e-02   5.55966683e-02   1.31770000e-01   1.28623337e-01\n",
      "   9.17853355e-01   5.24333352e-03   5.63500002e-02   1.17942123e+02\n",
      "   1.92000473e+02   7.56556690e-01   6.93333335e-04   5.21466658e-02\n",
      "   1.21999998e-03   5.53233325e-02   5.51900007e-02   1.12669997e-01\n",
      "   6.75633326e-02   3.67132998e+00]\n",
      "Standart deviations of each columns : \n",
      "[  0.00000000e+00   1.95346206e-01   6.23409891e+00   1.00121713e+00\n",
      "   1.48577246e+04   8.53244629e+03   9.12795588e-03   2.59956066e-02\n",
      "   0.00000000e+00   4.49686199e-01   7.30295060e-03   4.45104778e-01\n",
      "   5.24644889e-02   9.12797451e-03   0.00000000e+00   7.50770748e-01\n",
      "   6.44058660e-02   3.32822837e-02   3.12765837e-02   0.00000000e+00\n",
      "   0.00000000e+00   1.71219762e-02   6.41213531e+01   4.14709244e+01\n",
      "   2.29183152e-01   2.28901580e-01   3.38381976e-01   3.34260583e-01\n",
      "   2.74259806e-01   7.20984265e-02   2.30490506e-01   1.02584076e+02\n",
      "   9.56140289e+01   4.28968519e-01   2.63140853e-02   2.22636178e-01\n",
      "   3.48880701e-02   2.28452832e-01   2.28134722e-01   3.15542012e-01\n",
      "   2.51009166e-01   1.07632470e+00]\n"
     ]
    }
   ],
   "source": [
    "print('Full dataset tensor:', dataset.shape)\n",
    "\n",
    "\"\"\"Mean & Standart deviation of columns \"\"\"\n",
    "print(\"Means of each columns  : \")\n",
    "print(dataset.mean(0))\n",
    "print(\"Standart deviations of each columns : \")\n",
    "print(dataset.std(0))"
   ]
  },
  {
   "cell_type": "code",
   "execution_count": null,
   "metadata": {
    "collapsed": false
   },
   "outputs": [],
   "source": []
  },
  {
   "cell_type": "code",
   "execution_count": 28,
   "metadata": {
    "collapsed": false
   },
   "outputs": [
    {
     "name": "stdout",
     "output_type": "stream",
     "text": [
      "Training: (240000, 42)\n",
      "Validation: (30000, 42)\n",
      "Testing: (30000, 42)\n"
     ]
    }
   ],
   "source": [
    "          \n",
    "train_size = len(train_dataset)\n",
    "test_size = len(test_dataset)\n",
    "valid_size = len(valid_dataset)\n",
    "\n",
    "\n",
    "print('Training:', train_dataset.shape)\n",
    "print('Validation:', valid_dataset.shape)\n",
    "print('Testing:', test_dataset.shape)\n",
    "\n",
    "\n",
    "\n",
    "\n",
    "\n"
   ]
  },
  {
   "cell_type": "code",
   "execution_count": 29,
   "metadata": {
    "collapsed": false
   },
   "outputs": [
    {
     "name": "stdout",
     "output_type": "stream",
     "text": [
      "CPU times: user 96 ms, sys: 8 ms, total: 104 ms\n",
      "Wall time: 96.4 ms\n",
      "CPU times: user 100 ms, sys: 12 ms, total: 112 ms\n",
      "Wall time: 102 ms\n",
      "CPU times: user 516 ms, sys: 32 ms, total: 548 ms\n",
      "Wall time: 509 ms\n",
      "overlap test valid: 28197\n",
      "overlap train valid: 218207\n",
      "overlap train test: 218174\n",
      "done\n"
     ]
    }
   ],
   "source": [
    "#lets use md5 hasing to measure the overlap between something\n",
    "from hashlib import md5\n",
    "#prepare image hashes\n",
    "%time set_valid_dataset = set([ md5(x).hexdigest() for x in valid_dataset])\n",
    "%time set_test_dataset = set([ md5(x).hexdigest() for x in test_dataset])\n",
    "%time set_train_dataset = set([ md5(x).hexdigest() for x in train_dataset])\n",
    "\n",
    "#measure overlaps and print them\n",
    "overlap_test_valid = set_test_dataset - set_valid_dataset\n",
    "print('overlap test valid: ' + str(len(overlap_test_valid)))\n",
    "\n",
    "overlap_train_valid = set_train_dataset - set_valid_dataset\n",
    "print ('overlap train valid: ' + str(len(overlap_train_valid)))\n",
    "\n",
    "overlap_train_test = set_train_dataset - set_test_dataset\n",
    "print ('overlap train test: ' + str(len(overlap_train_test)))\n",
    "print('done')\n",
    "\n"
   ]
  },
  {
   "cell_type": "code",
   "execution_count": null,
   "metadata": {
    "collapsed": false,
    "scrolled": true
   },
   "outputs": [],
   "source": []
  },
  {
   "cell_type": "code",
   "execution_count": 21,
   "metadata": {
    "collapsed": false
   },
   "outputs": [
    {
     "data": {
      "text/plain": [
       "dtype('float64')"
      ]
     },
     "execution_count": 21,
     "metadata": {},
     "output_type": "execute_result"
    }
   ],
   "source": [
    "data.dtype"
   ]
  },
  {
   "cell_type": "code",
   "execution_count": 30,
   "metadata": {
    "collapsed": false
   },
   "outputs": [
    {
     "name": "stdout",
     "output_type": "stream",
     "text": [
      "0.9988\n",
      "Done !\n"
     ]
    }
   ],
   "source": [
    "#en başta tanımladığımız LogisticRegression u kullanacağız\n",
    "logReg = LogisticRegression();\n",
    "\n",
    "fittedmodel = logReg.fit(train_dataset,train_labels)         \n",
    "test_score = logReg.score(test_dataset,test_labels)\n",
    "\n",
    "print(test_score)\n",
    "print(\"Done !\")"
   ]
  },
  {
   "cell_type": "code",
   "execution_count": 178,
   "metadata": {
    "collapsed": false
   },
   "outputs": [
    {
     "data": {
      "text/plain": [
       "array([[  0.,   1.,  27., ...,   1.,   1.,   4.],\n",
       "       [  0.,   1.,  27., ...,   0.,   0.,   4.],\n",
       "       [  0.,   1.,  27., ...,   0.,   0.,   4.],\n",
       "       ..., \n",
       "       [  0.,   1.,  27., ...,   0.,   0.,   4.],\n",
       "       [  0.,   1.,  27., ...,   0.,   0.,   4.],\n",
       "       [  0.,   1.,  27., ...,   0.,   0.,   4.]])"
      ]
     },
     "execution_count": 178,
     "metadata": {},
     "output_type": "execute_result"
    }
   ],
   "source": []
  },
  {
   "cell_type": "code",
   "execution_count": 179,
   "metadata": {
    "collapsed": false
   },
   "outputs": [
    {
     "data": {
      "text/plain": [
       "tf.float32_ref"
      ]
     },
     "execution_count": 179,
     "metadata": {},
     "output_type": "execute_result"
    }
   ],
   "source": [
    "biases.dtype"
   ]
  },
  {
   "cell_type": "code",
   "execution_count": 31,
   "metadata": {
    "collapsed": false
   },
   "outputs": [
    {
     "name": "stdout",
     "output_type": "stream",
     "text": [
      "Training set (240000, 42) (240000, 5)\n",
      "Validation set (30000, 42) (30000, 5)\n",
      "Test set (30000, 42) (30000, 5)\n"
     ]
    }
   ],
   "source": [
    "data_size = 42\n",
    "num_labels = 5\n",
    "\n",
    "def reformat(dataset, labels):\n",
    "  dataset = dataset.reshape((-1, data_size)).astype(np.float32)\n",
    "  # Map 0 to [1.0, 0.0, 0.0 ...], 1 to [0.0, 1.0, 0.0 ...]\n",
    "  labels = (np.arange(num_labels) == labels[:,None]).astype(np.float32)\n",
    "  return dataset, labels\n",
    "train_dataset, train_labels = reformat(train_set, train_labels)\n",
    "valid_dataset, valid_labels = reformat(valid_set, valid_labels)\n",
    "test_dataset, test_labels = reformat(test_set, test_labels)\n",
    "print('Training set', train_dataset.shape, train_labels.shape)\n",
    "print('Validation set', valid_dataset.shape, valid_labels.shape)\n",
    "print('Test set', test_dataset.shape, test_labels.shape)"
   ]
  },
  {
   "cell_type": "code",
   "execution_count": 64,
   "metadata": {
    "collapsed": false
   },
   "outputs": [
    {
     "name": "stdout",
     "output_type": "stream",
     "text": [
      "<bound method Tensor.get_shape of <tf.Tensor 'Const:0' shape=(10000, 42) dtype=float32>>\n",
      "<bound method Tensor.get_shape of <tf.Tensor 'Const_1:0' shape=(10000,) dtype=float32>>\n",
      "<bound method Tensor.get_shape of <tf.Tensor 'Const_2:0' shape=(30000, 42) dtype=float32>>\n",
      "Tensor(\"Placeholder_2:0\", dtype=float32)\n"
     ]
    }
   ],
   "source": []
  },
  {
   "cell_type": "code",
   "execution_count": 32,
   "metadata": {
    "collapsed": false,
    "scrolled": false
   },
   "outputs": [],
   "source": [
    "# With gradient descent training, even this much data is prohibitive.\n",
    "# Subset the training data for faster turnaround.\n",
    "train_subset = 10000\n",
    "num_labels = 5\n",
    "data_size = 42 \n",
    "graph = tf.Graph()\n",
    "with graph.as_default():\n",
    "\n",
    "  # Input data.\n",
    "  # Load the training, validation and test data into constants that are\n",
    "  # attached to the graph.\n",
    "  tf_train_dataset = tf.constant(train_set[:train_subset, :])\n",
    "  tf_train_labels = tf.constant(train_labels[:train_subset])\n",
    "  tf_valid_dataset = tf.constant(valid_set)\n",
    "  tf_test_dataset = tf.constant(test_set)\n",
    "  beta_regul = tf.placeholder(tf.float32)\n",
    "\n",
    "\n",
    "  \n",
    "  # Variables.\n",
    "  # These are the parameters that we are going to be training. The weight\n",
    "  # matrix will be initialized using random values following a (truncated)\n",
    "  # normal distribution. The biases get initialized to zero.\n",
    "  weights = tf.Variable(\n",
    "    tf.truncated_normal([data_size, num_labels]))\n",
    "  biases = tf.Variable(tf.zeros([num_labels]))\n",
    "  \n",
    "  # Training computation.\n",
    "  # We multiply the inputs with the weight matrix, and add biases. We compute\n",
    "  # the softmax and cross-entropy (it's one operation in TensorFlow, because\n",
    "  # it's very common, and it can be optimized). We take the average of this\n",
    "  # cross-entropy across all training examples: that's our loss.\n",
    "  logits = tf.matmul(tf_train_dataset, weights) + biases\n",
    "  loss = tf.reduce_mean(\n",
    "    tf.nn.softmax_cross_entropy_with_logits(logits, tf_train_labels)) + beta_regul * tf.nn.l2_loss(weights)\n",
    "  # Optimizer.\n",
    "  # We are going to find the minimum of this loss using gradient descent.\n",
    "  optimizer = tf.train.GradientDescentOptimizer(0.5).minimize(loss)\n",
    "  \n",
    "  # Predictions for the training, validation, and test data.\n",
    "  # These are not part of training, but merely here so that we can report\n",
    "  # accuracy figures as we train.\n",
    "  train_prediction = tf.nn.softmax(logits)\n",
    "  valid_prediction = tf.nn.softmax(\n",
    "    tf.matmul(tf_valid_dataset, weights) + biases)\n",
    "  test_prediction = tf.nn.softmax(tf.matmul(tf_test_dataset, weights) + biases)"
   ]
  },
  {
   "cell_type": "code",
   "execution_count": 104,
   "metadata": {
    "collapsed": false
   },
   "outputs": [
    {
     "data": {
      "text/plain": [
       "<tf.Tensor 'Placeholder_2:0' shape=<unknown> dtype=float32>"
      ]
     },
     "execution_count": 104,
     "metadata": {},
     "output_type": "execute_result"
    }
   ],
   "source": []
  },
  {
   "cell_type": "code",
   "execution_count": 103,
   "metadata": {
    "collapsed": false
   },
   "outputs": [
    {
     "data": {
      "text/plain": [
       "{<tf.Tensor 'Placeholder_2:0' shape=<unknown> dtype=float32>: 0.001}"
      ]
     },
     "execution_count": 103,
     "metadata": {},
     "output_type": "execute_result"
    }
   ],
   "source": []
  },
  {
   "cell_type": "code",
   "execution_count": 33,
   "metadata": {
    "collapsed": false
   },
   "outputs": [
    {
     "name": "stdout",
     "output_type": "stream",
     "text": [
      "Initialized\n",
      "Loss at step 0: 139.291138\n",
      "Training accuracy: 76.3%\n",
      "Validation accuracy: 20.6%\n",
      "Loss at step 100: 6456.086914\n",
      "Training accuracy: 94.8%\n",
      "Validation accuracy: 97.9%\n",
      "Loss at step 200: 6601.367188\n",
      "Training accuracy: 97.7%\n",
      "Validation accuracy: 97.6%\n",
      "Loss at step 300: 9438.658203\n",
      "Training accuracy: 97.9%\n",
      "Validation accuracy: 97.8%\n",
      "Loss at step 400: 4259.704102\n",
      "Training accuracy: 96.4%\n",
      "Validation accuracy: 97.3%\n",
      "Loss at step 500: 3655.029785\n",
      "Training accuracy: 98.1%\n",
      "Validation accuracy: 97.3%\n",
      "Loss at step 600: 11441.554688\n",
      "Training accuracy: 97.8%\n",
      "Validation accuracy: 97.9%\n",
      "Loss at step 700: 4389.828125\n",
      "Training accuracy: 98.1%\n",
      "Validation accuracy: 98.0%\n",
      "Loss at step 800: 4143.619141\n",
      "Training accuracy: 98.1%\n",
      "Validation accuracy: 98.0%\n",
      "Loss at step 900: 1772.096558\n",
      "Training accuracy: 98.2%\n",
      "Validation accuracy: 98.0%\n",
      "Loss at step 1000: 2488.612061\n",
      "Training accuracy: 97.9%\n",
      "Validation accuracy: 97.9%\n",
      "Loss at step 1100: 1199.324341\n",
      "Training accuracy: 97.1%\n",
      "Validation accuracy: 96.7%\n",
      "Loss at step 1200: 7147.974609\n",
      "Training accuracy: 98.2%\n",
      "Validation accuracy: 98.3%\n",
      "Loss at step 1300: 2098.801758\n",
      "Training accuracy: 98.0%\n",
      "Validation accuracy: 98.0%\n",
      "Loss at step 1400: 668.752014\n",
      "Training accuracy: 98.0%\n",
      "Validation accuracy: 94.5%\n",
      "Loss at step 1500: 10298.891602\n",
      "Training accuracy: 97.9%\n",
      "Validation accuracy: 98.0%\n",
      "Loss at step 1600: 2000.183350\n",
      "Training accuracy: 98.2%\n",
      "Validation accuracy: 98.3%\n",
      "Loss at step 1700: 2192.050537\n",
      "Training accuracy: 98.2%\n",
      "Validation accuracy: 98.2%\n",
      "Loss at step 1800: 7467.060547\n",
      "Training accuracy: 98.0%\n",
      "Validation accuracy: 98.4%\n",
      "Loss at step 1900: 6146.123047\n",
      "Training accuracy: 98.4%\n",
      "Validation accuracy: 98.5%\n",
      "Loss at step 2000: 4220.504883\n",
      "Training accuracy: 98.5%\n",
      "Validation accuracy: 98.6%\n",
      "Loss at step 2100: 11289.064453\n",
      "Training accuracy: 97.9%\n",
      "Validation accuracy: 98.0%\n",
      "Loss at step 2200: 2859.522217\n",
      "Training accuracy: 98.2%\n",
      "Validation accuracy: 98.1%\n",
      "Loss at step 2300: 3566.947754\n",
      "Training accuracy: 98.3%\n",
      "Validation accuracy: 98.3%\n",
      "Loss at step 2400: 1992.429932\n",
      "Training accuracy: 98.2%\n",
      "Validation accuracy: 98.1%\n",
      "Loss at step 2500: 881.303040\n",
      "Training accuracy: 93.9%\n",
      "Validation accuracy: 98.0%\n",
      "Loss at step 2600: 1311.409912\n",
      "Training accuracy: 98.0%\n",
      "Validation accuracy: 97.9%\n",
      "Loss at step 2700: 5800.579102\n",
      "Training accuracy: 98.5%\n",
      "Validation accuracy: 98.6%\n",
      "Loss at step 2800: 633.481262\n",
      "Training accuracy: 97.5%\n",
      "Validation accuracy: 97.3%\n",
      "Loss at step 2900: 7327.395020\n",
      "Training accuracy: 98.5%\n",
      "Validation accuracy: 98.5%\n",
      "Loss at step 3000: 563.240662\n",
      "Training accuracy: 97.2%\n",
      "Validation accuracy: 96.7%\n",
      "Test accuracy: 96.5%\n"
     ]
    }
   ],
   "source": [
    "num_steps = 3001\n",
    "\n",
    "def accuracy(predictions, labels):\n",
    "  return (100.0 * np.sum(np.argmax(predictions, 1) == np.argmax(labels, 1))\n",
    "          / predictions.shape[0])\n",
    "\n",
    "with tf.Session(graph=graph) as session:\n",
    "  # This is a one-time operation which ensures the parameters get initialized as\n",
    "  # we described in the graph: random weights for the matrix, zeros for the\n",
    "  # biases. \n",
    "  tf.initialize_all_variables().run()\n",
    "  print('Initialized')\n",
    "  for step in range(num_steps):\n",
    "    # Run the computations. We tell .run() that we want to run the optimizer,\n",
    "    # and get the loss value and the training predictions returned as numpy\n",
    "    # arrays.\n",
    "    feed_dict = {beta_regul : 1e-3}\n",
    "    _, l, predictions = session.run([optimizer, loss, train_prediction],feed_dict=feed_dict)\n",
    "    if (step % 100 == 0):\n",
    "      print('Loss at step %d: %f' % (step, l))\n",
    "      print('Training accuracy: %.1f%%' % accuracy(\n",
    "        predictions, train_labels[:train_subset, :]))\n",
    "      # Calling .eval() on valid_prediction is basically like calling run(), but\n",
    "      # just to get that one numpy array. Note that it recomputes all its graph\n",
    "      # dependencies.\n",
    "      print('Validation accuracy: %.1f%%' % accuracy(\n",
    "        valid_prediction.eval(), valid_labels))\n",
    "  print('Test accuracy: %.1f%%' % accuracy(test_prediction.eval(), test_labels))"
   ]
  },
  {
   "cell_type": "code",
   "execution_count": 34,
   "metadata": {
    "collapsed": false
   },
   "outputs": [],
   "source": [
    "batch_size = 128\n",
    "num_hidden_nodes = 1024\n",
    "\n",
    "graph = tf.Graph()\n",
    "with graph.as_default():\n",
    "\n",
    "  # Input data. For the training data, we use a placeholder that will be fed\n",
    "  # at run time with a training minibatch.\n",
    "  tf_train_dataset = tf.placeholder(tf.float32,\n",
    "                                    shape=(batch_size, data_size))\n",
    "  tf_train_labels = tf.placeholder(tf.float32, shape=(batch_size, num_labels))\n",
    "  tf_valid_dataset = tf.constant(valid_dataset)\n",
    "  tf_test_dataset = tf.constant(test_dataset)\n",
    "  beta_regul = tf.placeholder(tf.float32)\n",
    "# Variables.\n",
    "  weights1 = tf.Variable(\n",
    "    tf.truncated_normal([data_size, num_hidden_nodes]))\n",
    "  biases1 = tf.Variable(tf.zeros([num_hidden_nodes]))\n",
    "  weights2 = tf.Variable(\n",
    "    tf.truncated_normal([num_hidden_nodes, num_labels]))\n",
    "  biases2 = tf.Variable(tf.zeros([num_labels]))\n",
    "  \n",
    "  # Training computation.\n",
    "  lay1_train = tf.nn.relu(tf.matmul(tf_train_dataset, weights1) + biases1)\n",
    "  logits = tf.matmul(lay1_train, weights2) + biases2\n",
    "  loss = tf.reduce_mean(\n",
    "    tf.nn.softmax_cross_entropy_with_logits(logits, tf_train_labels)) + \\\n",
    "      beta_regul * (tf.nn.l2_loss(weights1) + tf.nn.l2_loss(weights2))\n",
    "  \n",
    "  # Optimizer.\n",
    "  optimizer = tf.train.GradientDescentOptimizer(0.5).minimize(loss)\n",
    "  \n",
    " # Predictions for the training, validation, and test data.\n",
    "  train_prediction = tf.nn.softmax(logits)\n",
    "  valid_prediction = tf.nn.softmax(tf.matmul(tf.nn.relu(tf.matmul(tf_valid_dataset, weights1) + biases1), weights2) + biases2) \n",
    "  test_prediction = tf.nn.softmax(tf.matmul(tf.nn.relu(tf.matmul(tf_test_dataset, weights1) + biases1), weights2) + biases2)\n",
    "    "
   ]
  },
  {
   "cell_type": "code",
   "execution_count": 119,
   "metadata": {
    "collapsed": false
   },
   "outputs": [],
   "source": [
    "batch_size = 128\n",
    "num_hidden_nodes = 1024\n",
    "graph = tf.Graph()\n",
    "with graph.as_default():\n",
    "\n",
    "  # Input data. For the training data, we use a placeholder that will be fed\n",
    "  # at run time with a training minibatch.\n",
    "  tf_train_dataset = tf.placeholder(tf.float32,\n",
    "                                    shape=(batch_size, data_size))\n",
    "  tf_train_labels = tf.placeholder(tf.float32, shape=(batch_size, num_labels))\n",
    "  tf_valid_dataset = tf.constant(valid_dataset)\n",
    "  tf_test_dataset = tf.constant(test_dataset)\n",
    "  beta_regul = tf.placeholder(tf.float32)\n",
    "  # Variables.\n",
    "  weights = tf.Variable(\n",
    "    tf.truncated_normal([data_size, num_hidden_nodes]))\n",
    "  biases = tf.Variable(tf.zeros([num_hidden_nodes]))\n",
    "  weights2 = tf.Variable(\n",
    "    tf.truncated_normal([num_hidden_nodes, num_labels]))\n",
    "  biases2 = tf.Variable(tf.zeros([num_labels]))\n",
    "    \n",
    "  \n",
    "  # Training computation.\n",
    "  lay1_train = tf.nn.relu(tf.matmul(tf_train_dataset, weights) + biases)\n",
    "  logits = tf.matmul(lay1_train, weights2) + biases2\n",
    "  loss = tf.reduce_mean(\n",
    "    tf.nn.softmax_cross_entropy_with_logits(logits, tf_train_labels)) + \\\n",
    "      beta_regul * (tf.nn.l2_loss(weights) + tf.nn.l2_loss(weights2))\n",
    "  \n",
    "  # Optimizer.\n",
    "  optimizer = tf.train.GradientDescentOptimizer(0.5).minimize(loss)\n",
    "  \n",
    "  # Predictions for the training, validation, and test data.\n",
    "  train_prediction = tf.nn.softmax(logits)\n",
    "  valid_prediction = tf.nn.softmax(tf.matmul(tf.nn.relu(tf.matmul(tf_valid_dataset, weights) + biases), weights2) + biases2) \n",
    "  test_prediction = tf.nn.softmax(tf.matmul(tf.nn.relu(tf.matmul(tf_test_dataset, weights) + biases), weights2) + biases2)"
   ]
  },
  {
   "cell_type": "code",
   "execution_count": null,
   "metadata": {
    "collapsed": true
   },
   "outputs": [],
   "source": []
  },
  {
   "cell_type": "code",
   "execution_count": 117,
   "metadata": {
    "collapsed": false
   },
   "outputs": [
    {
     "data": {
      "text/plain": [
       "<tf.Tensor 'Placeholder_2:0' shape=<unknown> dtype=float32>"
      ]
     },
     "execution_count": 117,
     "metadata": {},
     "output_type": "execute_result"
    }
   ],
   "source": [
    "beta_regul"
   ]
  },
  {
   "cell_type": "code",
   "execution_count": 123,
   "metadata": {
    "collapsed": false
   },
   "outputs": [
    {
     "data": {
      "text/plain": [
       "{<tf.Tensor 'Placeholder_2:0' shape=<unknown> dtype=float32>: 0.001}"
      ]
     },
     "execution_count": 123,
     "metadata": {},
     "output_type": "execute_result"
    }
   ],
   "source": [
    "feed_dict"
   ]
  },
  {
   "cell_type": "code",
   "execution_count": 35,
   "metadata": {
    "collapsed": true
   },
   "outputs": [],
   "source": [
    "def accuracy(predictions, labels):\n",
    "  return (100.0 * np.sum(np.argmax(predictions, 1) == np.argmax(labels, 1))\n",
    "          / predictions.shape[0])"
   ]
  },
  {
   "cell_type": "code",
   "execution_count": 36,
   "metadata": {
    "collapsed": false
   },
   "outputs": [
    {
     "name": "stdout",
     "output_type": "stream",
     "text": [
      "Initialized\n",
      "Minibatch loss at step 0: 45124.859375\n",
      "Minibatch accuracy: 23.4%\n",
      "Validation accuracy: 90.8%\n",
      "Minibatch loss at step 500: 196956993279641305177128960.000000\n",
      "Minibatch accuracy: 31.2%\n",
      "Validation accuracy: 96.8%\n",
      "Minibatch loss at step 1000: 119445471782368550565445632.000000\n",
      "Minibatch accuracy: 91.4%\n",
      "Validation accuracy: 90.8%\n",
      "Minibatch loss at step 1500: 72438385564155503846621184.000000\n",
      "Minibatch accuracy: 93.8%\n",
      "Validation accuracy: 90.8%\n",
      "Minibatch loss at step 2000: 43930653533750228385005568.000000\n",
      "Minibatch accuracy: 85.9%\n",
      "Validation accuracy: 90.8%\n",
      "Minibatch loss at step 2500: 26641979912087097923600384.000000\n",
      "Minibatch accuracy: 85.9%\n",
      "Validation accuracy: 90.8%\n",
      "Minibatch loss at step 3000: 16157151493103291172126720.000000\n",
      "Minibatch accuracy: 92.2%\n",
      "Validation accuracy: 90.8%\n",
      "Test accuracy: 90.5%\n"
     ]
    }
   ],
   "source": [
    "num_steps = 3001\n",
    "\n",
    "with tf.Session(graph=graph) as session:\n",
    "  tf.initialize_all_variables().run()\n",
    "  print(\"Initialized\")\n",
    "  for step in range(num_steps):\n",
    "    # Pick an offset within the training data, which has been randomized.\n",
    "    # Note: we could use better randomization across epochs.\n",
    "    offset = (step * batch_size) % (train_labels.shape[0] - batch_size)\n",
    "    # Generate a minibatch.\n",
    "    batch_data = train_dataset[offset:(offset + batch_size), :]\n",
    "    batch_labels = train_labels[offset:(offset + batch_size), :]\n",
    "    # Prepare a dictionary telling the session where to feed the minibatch.\n",
    "    # The key of the dictionary is the placeholder node of the graph to be fed,\n",
    "    # and the value is the numpy array to feed to it.\n",
    "    feed_dict = {tf_train_dataset : batch_data, tf_train_labels : batch_labels, beta_regul : 1e-3}\n",
    "    _, l, predictions = session.run(\n",
    "      [optimizer, loss, train_prediction], feed_dict=feed_dict)\n",
    "    if (step % 500 == 0):\n",
    "      print(\"Minibatch loss at step %d: %f\" % (step, l))\n",
    "      print(\"Minibatch accuracy: %.1f%%\" % accuracy(predictions, batch_labels))\n",
    "      print(\"Validation accuracy: %.1f%%\" % accuracy(\n",
    "        valid_prediction.eval(), valid_labels))\n",
    "  print(\"Test accuracy: %.1f%%\" % accuracy(test_prediction.eval(), test_labels))"
   ]
  },
  {
   "cell_type": "code",
   "execution_count": 96,
   "metadata": {
    "collapsed": false
   },
   "outputs": [
    {
     "name": "stdout",
     "output_type": "stream",
     "text": [
      "240000\n",
      "(240000, 42)\n",
      "128\n"
     ]
    }
   ],
   "source": [
    "print(train_labels.shape[0])\n",
    "print(batch_size)"
   ]
  },
  {
   "cell_type": "code",
   "execution_count": null,
   "metadata": {
    "collapsed": true
   },
   "outputs": [],
   "source": []
  },
  {
   "cell_type": "code",
   "execution_count": 37,
   "metadata": {
    "collapsed": false
   },
   "outputs": [
    {
     "name": "stdout",
     "output_type": "stream",
     "text": [
      "Initialized\n",
      "Minibatch loss at step 0: 12873.699219\n",
      "Minibatch accuracy: 48.4%\n",
      "Validation accuracy: 90.8%\n",
      "Minibatch loss at step 500: 152816671558467584.000000\n",
      "Minibatch accuracy: 92.2%\n",
      "Validation accuracy: 90.9%\n",
      "Minibatch loss at step 1000: 92676417766031360.000000\n",
      "Minibatch accuracy: 91.4%\n",
      "Validation accuracy: 90.9%\n",
      "Minibatch loss at step 1500: 56204070884474880.000000\n",
      "Minibatch accuracy: 93.8%\n",
      "Validation accuracy: 90.9%\n",
      "Minibatch loss at step 2000: 34085214795857920.000000\n",
      "Minibatch accuracy: 85.9%\n",
      "Validation accuracy: 90.9%\n",
      "Minibatch loss at step 2500: 20671134282285056.000000\n",
      "Minibatch accuracy: 85.9%\n",
      "Validation accuracy: 90.9%\n",
      "Minibatch loss at step 3000: 12536116183826432.000000\n",
      "Minibatch accuracy: 92.2%\n",
      "Validation accuracy: 90.8%\n",
      "Test accuracy: 90.5%\n"
     ]
    }
   ],
   "source": [
    "num_steps = 3001\n",
    "\n",
    "with tf.Session(graph=graph) as session:\n",
    "  tf.initialize_all_variables().run()\n",
    "  print(\"Initialized\")\n",
    "  for step in range(num_steps):\n",
    "    # Pick an offset within the training data, which has been randomized.\n",
    "    # Note: we could use better randomization across epochs.\n",
    "    offset = (step * batch_size) % (train_labels.shape[0] - batch_size)\n",
    "    # Generate a minibatch.\n",
    "    batch_data = train_set[offset:(offset + batch_size), :]\n",
    "    batch_labels = train_labels[offset:(offset + batch_size), :]\n",
    "    # Prepare a dictionary telling the session where to feed the minibatch.\n",
    "    # The key of the dictionary is the placeholder node of the graph to be fed,\n",
    "    # and the value is the numpy array to feed to it.\n",
    "    feed_dict = {tf_train_dataset : batch_data, tf_train_labels : batch_labels,beta_regul : 1e-3}\n",
    "    _, l, predictions = session.run(\n",
    "      [optimizer, loss, train_prediction], feed_dict=feed_dict)\n",
    "    if (step % 500 == 0):\n",
    "      print(\"Minibatch loss at step %d: %f\" % (step, l))\n",
    "      print(\"Minibatch accuracy: %.1f%%\" % accuracy(predictions, batch_labels))\n",
    "      print(\"Validation accuracy: %.1f%%\" % accuracy(\n",
    "        valid_prediction.eval(), valid_labels))\n",
    "  print(\"Test accuracy: %.1f%%\" % accuracy(test_prediction.eval(), test_labels))"
   ]
  },
  {
   "cell_type": "code",
   "execution_count": 41,
   "metadata": {
    "collapsed": true
   },
   "outputs": [],
   "source": [
    "num_steps = 3001\n",
    "regul_val = [pow(10, i) for i in np.arange(-4, -2, 0.1)]\n",
    "accuracy_val = []\n",
    "\n",
    "for regul in regul_val:\n",
    "  with tf.Session(graph=graph) as session:\n",
    "    tf.initialize_all_variables().run()\n",
    "    for step in range(num_steps):\n",
    "    # Pick an offset within the training data, which has been randomized.\n",
    "    # Note: we could use better randomization across epochs.\n",
    "      offset = (step * batch_size) % (train_labels.shape[0] - batch_size)\n",
    "    # Generate a minibatch.\n",
    "      batch_data = train_dataset[offset:(offset + batch_size), :]\n",
    "      batch_labels = train_labels[offset:(offset + batch_size), :]\n",
    "    # Prepare a dictionary telling the session where to feed the minibatch.\n",
    "    # The key of the dictionary is the placeholder node of the graph to be fed,\n",
    "    # and the value is the numpy array to feed to it.\n",
    "      feed_dict = {tf_train_dataset : batch_data, tf_train_labels : batch_labels, beta_regul : regul}\n",
    "      _, l, predictions = session.run(\n",
    "        [optimizer, loss, train_prediction], feed_dict=feed_dict)\n",
    "    accuracy_val.append(accuracy(test_prediction.eval(), test_labels))"
   ]
  },
  {
   "cell_type": "code",
   "execution_count": 42,
   "metadata": {
    "collapsed": false
   },
   "outputs": [
    {
     "data": {
      "image/png": "[encoded data removed]",
      "text/plain": [
       "<matplotlib.figure.Figure at 0x7f0434bbd110>"
      ]
     },
     "metadata": {},
     "output_type": "display_data"
    }
   ],
   "source": [
    "plt.semilogx(regul_val, accuracy_val)\n",
    "plt.grid(True)\n",
    "plt.title('Test accuracy by regularization (logistic)')\n",
    "plt.show()"
   ]
  },
  {
   "cell_type": "markdown",
   "metadata": {
    "collapsed": true
   },
   "source": [
    "Let's demonstrate an extreme case of overfitting. Restrict your training data to just a few batches. What happens?\n",
    "---"
   ]
  },
  {
   "cell_type": "code",
   "execution_count": 45,
   "metadata": {
    "collapsed": false
   },
   "outputs": [],
   "source": [
    "batch_size = 128\n",
    "num_hidden_nodes = 1024\n",
    "\n",
    "graph = tf.Graph()\n",
    "with graph.as_default():\n",
    "\n",
    "  # Input data. For the training data, we use a placeholder that will be fed\n",
    "  # at run time with a training minibatch.\n",
    "  tf_train_dataset = tf.placeholder(tf.float32,\n",
    "                                    shape=(batch_size, data_size))\n",
    "  tf_train_labels = tf.placeholder(tf.float32, shape=(batch_size, num_labels))\n",
    "  tf_valid_dataset = tf.constant(valid_dataset)\n",
    "  tf_test_dataset = tf.constant(test_dataset)\n",
    "  beta_regul = tf.placeholder(tf.float32)\n",
    "  \n",
    "  # Variables.\n",
    "  weights1 = tf.Variable(\n",
    "    tf.truncated_normal([data_size, num_hidden_nodes]))\n",
    "  biases1 = tf.Variable(tf.zeros([num_hidden_nodes]))\n",
    "  weights2 = tf.Variable(\n",
    "    tf.truncated_normal([num_hidden_nodes, num_labels]))\n",
    "  biases2 = tf.Variable(tf.zeros([num_labels]))\n",
    "  \n",
    "  # Training computation.\n",
    "  lay1_train = tf.nn.relu(tf.matmul(tf_train_dataset, weights1) + biases1)\n",
    "  logits = tf.matmul(lay1_train, weights2) + biases2\n",
    "  loss = tf.reduce_mean(\n",
    "    tf.nn.softmax_cross_entropy_with_logits(logits, tf_train_labels))\n",
    "  \n",
    "  # Optimizer.\n",
    "  optimizer = tf.train.GradientDescentOptimizer(0.5).minimize(loss)\n",
    "  \n",
    "  # Predictions for the training, validation, and test data.\n",
    "  train_prediction = tf.nn.softmax(logits)\n",
    "  lay1_valid = tf.nn.relu(tf.matmul(tf_valid_dataset, weights1) + biases1)\n",
    "  valid_prediction = tf.nn.softmax(tf.matmul(lay1_valid, weights2) + biases2)\n",
    "  lay1_test = tf.nn.relu(tf.matmul(tf_test_dataset, weights1) + biases1)\n",
    "  test_prediction = tf.nn.softmax(tf.matmul(lay1_test, weights2) + biases2)"
   ]
  },
  {
   "cell_type": "code",
   "execution_count": 46,
   "metadata": {
    "collapsed": false
   },
   "outputs": [
    {
     "name": "stdout",
     "output_type": "stream",
     "text": [
      "Initialized\n",
      "Minibatch loss at step 0: 5153.262695\n",
      "Minibatch accuracy: 45.3%\n",
      "Validation accuracy: 90.8%\n",
      "Minibatch loss at step 2: 29460582400.000000\n",
      "Minibatch accuracy: 8.6%\n",
      "Validation accuracy: 90.8%\n",
      "Minibatch loss at step 4: 1280205465321472.000000\n",
      "Minibatch accuracy: 8.6%\n",
      "Validation accuracy: 90.8%\n",
      "Minibatch loss at step 6: 1456864231424.000000\n",
      "Minibatch accuracy: 72.7%\n",
      "Validation accuracy: 90.0%\n",
      "Minibatch loss at step 8: 32282956005376.000000\n",
      "Minibatch accuracy: 73.4%\n",
      "Validation accuracy: 90.0%\n",
      "Minibatch loss at step 10: 1.261630\n",
      "Minibatch accuracy: 88.3%\n",
      "Validation accuracy: 90.7%\n",
      "Minibatch loss at step 12: 0.345780\n",
      "Minibatch accuracy: 91.4%\n",
      "Validation accuracy: 90.7%\n",
      "Minibatch loss at step 14: 0.340325\n",
      "Minibatch accuracy: 91.4%\n",
      "Validation accuracy: 90.7%\n",
      "Minibatch loss at step 16: 0.326473\n",
      "Minibatch accuracy: 91.4%\n",
      "Validation accuracy: 90.7%\n",
      "Minibatch loss at step 18: 0.318057\n",
      "Minibatch accuracy: 91.4%\n",
      "Validation accuracy: 90.7%\n",
      "Minibatch loss at step 20: 0.314502\n",
      "Minibatch accuracy: 91.4%\n",
      "Validation accuracy: 90.7%\n",
      "Minibatch loss at step 22: 0.303313\n",
      "Minibatch accuracy: 91.4%\n",
      "Validation accuracy: 90.7%\n",
      "Minibatch loss at step 24: 0.296748\n",
      "Minibatch accuracy: 91.4%\n",
      "Validation accuracy: 90.7%\n",
      "Minibatch loss at step 26: 0.294452\n",
      "Minibatch accuracy: 91.4%\n",
      "Validation accuracy: 90.7%\n",
      "Minibatch loss at step 28: 0.285040\n",
      "Minibatch accuracy: 91.4%\n",
      "Validation accuracy: 90.7%\n",
      "Minibatch loss at step 30: 0.279762\n",
      "Minibatch accuracy: 91.4%\n",
      "Validation accuracy: 90.7%\n",
      "Minibatch loss at step 32: 0.278393\n",
      "Minibatch accuracy: 91.4%\n",
      "Validation accuracy: 90.7%\n",
      "Minibatch loss at step 34: 0.270249\n",
      "Minibatch accuracy: 91.4%\n",
      "Validation accuracy: 90.7%\n",
      "Minibatch loss at step 36: 0.265933\n",
      "Minibatch accuracy: 91.4%\n",
      "Validation accuracy: 90.7%\n",
      "Minibatch loss at step 38: 0.265304\n",
      "Minibatch accuracy: 91.4%\n",
      "Validation accuracy: 90.7%\n",
      "Minibatch loss at step 40: 0.258112\n",
      "Minibatch accuracy: 91.4%\n",
      "Validation accuracy: 90.7%\n",
      "Minibatch loss at step 42: 0.254553\n",
      "Minibatch accuracy: 91.4%\n",
      "Validation accuracy: 90.7%\n",
      "Minibatch loss at step 44: 0.254539\n",
      "Minibatch accuracy: 91.4%\n",
      "Validation accuracy: 90.7%\n",
      "Minibatch loss at step 46: 0.248086\n",
      "Minibatch accuracy: 91.4%\n",
      "Validation accuracy: 90.7%\n",
      "Minibatch loss at step 48: 0.245140\n",
      "Minibatch accuracy: 91.4%\n",
      "Validation accuracy: 90.7%\n",
      "Minibatch loss at step 50: 0.245643\n",
      "Minibatch accuracy: 91.4%\n",
      "Validation accuracy: 90.8%\n",
      "Minibatch loss at step 52: 0.239774\n",
      "Minibatch accuracy: 91.4%\n",
      "Validation accuracy: 90.8%\n",
      "Minibatch loss at step 54: 0.237327\n",
      "Minibatch accuracy: 91.4%\n",
      "Validation accuracy: 90.8%\n",
      "Minibatch loss at step 56: 0.238264\n",
      "Minibatch accuracy: 91.4%\n",
      "Validation accuracy: 90.8%\n",
      "Minibatch loss at step 58: 0.232860\n",
      "Minibatch accuracy: 91.4%\n",
      "Validation accuracy: 90.8%\n",
      "Minibatch loss at step 60: 0.230820\n",
      "Minibatch accuracy: 91.4%\n",
      "Validation accuracy: 90.8%\n",
      "Minibatch loss at step 62: 0.232119\n",
      "Minibatch accuracy: 91.4%\n",
      "Validation accuracy: 90.8%\n",
      "Minibatch loss at step 64: 0.227086\n",
      "Minibatch accuracy: 91.4%\n",
      "Validation accuracy: 90.8%\n",
      "Minibatch loss at step 66: 0.225377\n",
      "Minibatch accuracy: 91.4%\n",
      "Validation accuracy: 90.8%\n",
      "Minibatch loss at step 68: 0.226972\n",
      "Minibatch accuracy: 91.4%\n",
      "Validation accuracy: 90.8%\n",
      "Minibatch loss at step 70: 0.222237\n",
      "Minibatch accuracy: 91.4%\n",
      "Validation accuracy: 90.8%\n",
      "Minibatch loss at step 72: 0.220796\n",
      "Minibatch accuracy: 91.4%\n",
      "Validation accuracy: 90.8%\n",
      "Minibatch loss at step 74: 0.222632\n",
      "Minibatch accuracy: 91.4%\n",
      "Validation accuracy: 90.8%\n",
      "Minibatch loss at step 76: 0.218138\n",
      "Minibatch accuracy: 91.4%\n",
      "Validation accuracy: 90.8%\n",
      "Minibatch loss at step 78: 0.216913\n",
      "Minibatch accuracy: 91.4%\n",
      "Validation accuracy: 90.8%\n",
      "Minibatch loss at step 80: 0.218943\n",
      "Minibatch accuracy: 91.4%\n",
      "Validation accuracy: 90.8%\n",
      "Minibatch loss at step 82: 0.214646\n",
      "Minibatch accuracy: 91.4%\n",
      "Validation accuracy: 90.8%\n",
      "Minibatch loss at step 84: 0.213597\n",
      "Minibatch accuracy: 91.4%\n",
      "Validation accuracy: 90.8%\n",
      "Minibatch loss at step 86: 0.215783\n",
      "Minibatch accuracy: 91.4%\n",
      "Validation accuracy: 90.8%\n",
      "Minibatch loss at step 88: 0.211647\n",
      "Minibatch accuracy: 91.4%\n",
      "Validation accuracy: 90.8%\n",
      "Minibatch loss at step 90: 0.210741\n",
      "Minibatch accuracy: 91.4%\n",
      "Validation accuracy: 90.8%\n",
      "Minibatch loss at step 92: 0.213052\n",
      "Minibatch accuracy: 91.4%\n",
      "Validation accuracy: 90.8%\n",
      "Minibatch loss at step 94: 0.209051\n",
      "Minibatch accuracy: 91.4%\n",
      "Validation accuracy: 90.8%\n",
      "Minibatch loss at step 96: 0.208262\n",
      "Minibatch accuracy: 91.4%\n",
      "Validation accuracy: 90.8%\n",
      "Minibatch loss at step 98: 0.210673\n",
      "Minibatch accuracy: 91.4%\n",
      "Validation accuracy: 90.8%\n",
      "Minibatch loss at step 100: 0.206786\n",
      "Minibatch accuracy: 91.4%\n",
      "Validation accuracy: 90.8%\n",
      "Test accuracy: 90.4%\n"
     ]
    }
   ],
   "source": [
    "num_steps = 101\n",
    "num_bacthes = 3\n",
    "\n",
    "with tf.Session(graph=graph) as session:\n",
    "  tf.initialize_all_variables().run()\n",
    "  print(\"Initialized\")\n",
    "  for step in range(num_steps):\n",
    "    # Pick an offset within the training data, which has been randomized.\n",
    "    # Note: we could use better randomization across epochs.\n",
    "    #offset = (step * batch_size) % (train_labels.shape[0] - batch_size)\n",
    "    offset = step % num_bacthes\n",
    "    # Generate a minibatch.\n",
    "    batch_data = train_dataset[offset:(offset + batch_size), :]\n",
    "    batch_labels = train_labels[offset:(offset + batch_size), :]\n",
    "    # Prepare a dictionary telling the session where to feed the minibatch.\n",
    "    # The key of the dictionary is the placeholder node of the graph to be fed,\n",
    "    # and the value is the numpy array to feed to it.\n",
    "    feed_dict = {tf_train_dataset : batch_data, tf_train_labels : batch_labels, beta_regul : 1e-3}\n",
    "    _, l, predictions = session.run(\n",
    "      [optimizer, loss, train_prediction], feed_dict=feed_dict)\n",
    "    if (step % 2 == 0):\n",
    "      print(\"Minibatch loss at step %d: %f\" % (step, l))\n",
    "      print(\"Minibatch accuracy: %.1f%%\" % accuracy(predictions, batch_labels))\n",
    "      print(\"Validation accuracy: %.1f%%\" % accuracy(\n",
    "        valid_prediction.eval(), valid_labels))\n",
    "  print(\"Test accuracy: %.1f%%\" % accuracy(test_prediction.eval(), test_labels))"
   ]
  },
  {
   "cell_type": "markdown",
   "metadata": {
    "collapsed": true
   },
   "source": [
    "Introduce Dropout on the hidden layer of the neural network. Remember: Dropout should only be introduced during training, not evaluation, otherwise your evaluation results would be stochastic as well. TensorFlow provides `nn.dropout()` for that, but you have to make sure it's only inserted during training.\n",
    "\n",
    "What happens to our extreme overfitting case?\n"
   ]
  },
  {
   "cell_type": "code",
   "execution_count": 47,
   "metadata": {
    "collapsed": true
   },
   "outputs": [],
   "source": [
    "batch_size = 128\n",
    "num_hidden_nodes = 1024\n",
    "\n",
    "graph = tf.Graph()\n",
    "with graph.as_default():\n",
    "\n",
    "  # Input data. For the training data, we use a placeholder that will be fed\n",
    "  # at run time with a training minibatch.\n",
    "  tf_train_dataset = tf.placeholder(tf.float32,\n",
    "                                    shape=(batch_size, data_size))\n",
    "  tf_train_labels = tf.placeholder(tf.float32, shape=(batch_size, num_labels))\n",
    "  tf_valid_dataset = tf.constant(valid_dataset)\n",
    "  tf_test_dataset = tf.constant(test_dataset)\n",
    "  \n",
    "  # Variables.\n",
    "  weights1 = tf.Variable(\n",
    "    tf.truncated_normal([data_size, num_hidden_nodes]))\n",
    "  biases1 = tf.Variable(tf.zeros([num_hidden_nodes]))\n",
    "  weights2 = tf.Variable(\n",
    "    tf.truncated_normal([num_hidden_nodes, num_labels]))\n",
    "  biases2 = tf.Variable(tf.zeros([num_labels]))\n",
    "  \n",
    "  # Training computation.\n",
    "  lay1_train = tf.nn.relu(tf.matmul(tf_train_dataset, weights1) + biases1)\n",
    "  drop1 = tf.nn.dropout(lay1_train, 0.5)\n",
    "  logits = tf.matmul(drop1, weights2) + biases2\n",
    "  loss = tf.reduce_mean(\n",
    "    tf.nn.softmax_cross_entropy_with_logits(logits, tf_train_labels))\n",
    "    \n",
    "  # Optimizer.\n",
    "  optimizer = tf.train.GradientDescentOptimizer(0.5).minimize(loss)\n",
    "  \n",
    "  # Predictions for the training, validation, and test data.\n",
    "  train_prediction = tf.nn.softmax(logits)\n",
    "  lay1_valid = tf.nn.relu(tf.matmul(tf_valid_dataset, weights1) + biases1)\n",
    "  valid_prediction = tf.nn.softmax(tf.matmul(lay1_valid, weights2) + biases2)\n",
    "  lay1_test = tf.nn.relu(tf.matmul(tf_test_dataset, weights1) + biases1)\n",
    "  test_prediction = tf.nn.softmax(tf.matmul(lay1_test, weights2) + biases2)"
   ]
  },
  {
   "cell_type": "code",
   "execution_count": 48,
   "metadata": {
    "collapsed": false
   },
   "outputs": [
    {
     "name": "stdout",
     "output_type": "stream",
     "text": [
      "Initialized\n",
      "Minibatch loss at step 0: 136555.281250\n",
      "Minibatch accuracy: 12.5%\n",
      "Validation accuracy: 90.8%\n",
      "Minibatch loss at step 2: 144381100032.000000\n",
      "Minibatch accuracy: 25.8%\n",
      "Validation accuracy: 90.8%\n",
      "Minibatch loss at step 4: 971695816966144.000000\n",
      "Minibatch accuracy: 80.5%\n",
      "Validation accuracy: 90.8%\n",
      "Minibatch loss at step 6: 25999974203152488464384.000000\n",
      "Minibatch accuracy: 4.7%\n",
      "Validation accuracy: 90.8%\n",
      "Minibatch loss at step 8: 14088449449407665754079232.000000\n",
      "Minibatch accuracy: 24.2%\n",
      "Validation accuracy: 90.8%\n",
      "Minibatch loss at step 10: 2217508635394423213778796544.000000\n",
      "Minibatch accuracy: 82.8%\n",
      "Validation accuracy: 90.8%\n",
      "Minibatch loss at step 12: 849609003565647774404407141072896.000000\n",
      "Minibatch accuracy: 72.7%\n",
      "Validation accuracy: 51.1%\n",
      "Minibatch loss at step 14: nan\n",
      "Minibatch accuracy: 8.6%\n",
      "Validation accuracy: 7.7%\n",
      "Minibatch loss at step 16: nan\n",
      "Minibatch accuracy: 8.6%\n",
      "Validation accuracy: 7.7%\n",
      "Minibatch loss at step 18: nan\n",
      "Minibatch accuracy: 8.6%\n",
      "Validation accuracy: 7.7%\n",
      "Minibatch loss at step 20: nan\n",
      "Minibatch accuracy: 8.6%\n",
      "Validation accuracy: 7.7%\n",
      "Minibatch loss at step 22: nan\n",
      "Minibatch accuracy: 8.6%\n",
      "Validation accuracy: 7.7%\n",
      "Minibatch loss at step 24: nan\n",
      "Minibatch accuracy: 8.6%\n",
      "Validation accuracy: 7.7%\n",
      "Minibatch loss at step 26: nan\n",
      "Minibatch accuracy: 8.6%\n",
      "Validation accuracy: 7.7%\n",
      "Minibatch loss at step 28: nan\n",
      "Minibatch accuracy: 8.6%\n",
      "Validation accuracy: 7.7%\n",
      "Minibatch loss at step 30: nan\n",
      "Minibatch accuracy: 8.6%\n",
      "Validation accuracy: 7.7%\n",
      "Minibatch loss at step 32: nan\n",
      "Minibatch accuracy: 8.6%\n",
      "Validation accuracy: 7.7%\n",
      "Minibatch loss at step 34: nan\n",
      "Minibatch accuracy: 8.6%\n",
      "Validation accuracy: 7.7%\n",
      "Minibatch loss at step 36: nan\n",
      "Minibatch accuracy: 8.6%\n",
      "Validation accuracy: 7.7%\n",
      "Minibatch loss at step 38: nan\n",
      "Minibatch accuracy: 8.6%\n",
      "Validation accuracy: 7.7%\n",
      "Minibatch loss at step 40: nan\n",
      "Minibatch accuracy: 8.6%\n",
      "Validation accuracy: 7.7%\n",
      "Minibatch loss at step 42: nan\n",
      "Minibatch accuracy: 8.6%\n",
      "Validation accuracy: 7.7%\n",
      "Minibatch loss at step 44: nan\n",
      "Minibatch accuracy: 8.6%\n",
      "Validation accuracy: 7.7%\n",
      "Minibatch loss at step 46: nan\n",
      "Minibatch accuracy: 8.6%\n",
      "Validation accuracy: 7.7%\n",
      "Minibatch loss at step 48: nan\n",
      "Minibatch accuracy: 8.6%\n",
      "Validation accuracy: 7.7%\n",
      "Minibatch loss at step 50: nan\n",
      "Minibatch accuracy: 8.6%\n",
      "Validation accuracy: 7.7%\n",
      "Minibatch loss at step 52: nan\n",
      "Minibatch accuracy: 8.6%\n",
      "Validation accuracy: 7.7%\n",
      "Minibatch loss at step 54: nan\n",
      "Minibatch accuracy: 8.6%\n",
      "Validation accuracy: 7.7%\n",
      "Minibatch loss at step 56: nan\n",
      "Minibatch accuracy: 8.6%\n",
      "Validation accuracy: 7.7%\n",
      "Minibatch loss at step 58: nan\n",
      "Minibatch accuracy: 8.6%\n",
      "Validation accuracy: 7.7%\n",
      "Minibatch loss at step 60: nan\n",
      "Minibatch accuracy: 8.6%\n",
      "Validation accuracy: 7.7%\n",
      "Minibatch loss at step 62: nan\n",
      "Minibatch accuracy: 8.6%\n",
      "Validation accuracy: 7.7%\n",
      "Minibatch loss at step 64: nan\n",
      "Minibatch accuracy: 8.6%\n",
      "Validation accuracy: 7.7%\n",
      "Minibatch loss at step 66: nan\n",
      "Minibatch accuracy: 8.6%\n",
      "Validation accuracy: 7.7%\n",
      "Minibatch loss at step 68: nan\n",
      "Minibatch accuracy: 8.6%\n",
      "Validation accuracy: 7.7%\n",
      "Minibatch loss at step 70: nan\n",
      "Minibatch accuracy: 8.6%\n",
      "Validation accuracy: 7.7%\n",
      "Minibatch loss at step 72: nan\n",
      "Minibatch accuracy: 8.6%\n",
      "Validation accuracy: 7.7%\n",
      "Minibatch loss at step 74: nan\n",
      "Minibatch accuracy: 8.6%\n",
      "Validation accuracy: 7.7%\n",
      "Minibatch loss at step 76: nan\n",
      "Minibatch accuracy: 8.6%\n",
      "Validation accuracy: 7.7%\n",
      "Minibatch loss at step 78: nan\n",
      "Minibatch accuracy: 8.6%\n",
      "Validation accuracy: 7.7%\n",
      "Minibatch loss at step 80: nan\n",
      "Minibatch accuracy: 8.6%\n",
      "Validation accuracy: 7.7%\n",
      "Minibatch loss at step 82: nan\n",
      "Minibatch accuracy: 8.6%\n",
      "Validation accuracy: 7.7%\n",
      "Minibatch loss at step 84: nan\n",
      "Minibatch accuracy: 8.6%\n",
      "Validation accuracy: 7.7%\n",
      "Minibatch loss at step 86: nan\n",
      "Minibatch accuracy: 8.6%\n",
      "Validation accuracy: 7.7%\n",
      "Minibatch loss at step 88: nan\n",
      "Minibatch accuracy: 8.6%\n",
      "Validation accuracy: 7.7%\n",
      "Minibatch loss at step 90: nan\n",
      "Minibatch accuracy: 8.6%\n",
      "Validation accuracy: 7.7%\n",
      "Minibatch loss at step 92: nan\n",
      "Minibatch accuracy: 8.6%\n",
      "Validation accuracy: 7.7%\n",
      "Minibatch loss at step 94: nan\n",
      "Minibatch accuracy: 8.6%\n",
      "Validation accuracy: 7.7%\n",
      "Minibatch loss at step 96: nan\n",
      "Minibatch accuracy: 8.6%\n",
      "Validation accuracy: 7.7%\n",
      "Minibatch loss at step 98: nan\n",
      "Minibatch accuracy: 8.6%\n",
      "Validation accuracy: 7.7%\n",
      "Minibatch loss at step 100: nan\n",
      "Minibatch accuracy: 8.6%\n",
      "Validation accuracy: 7.7%\n",
      "Test accuracy: 8.1%\n"
     ]
    }
   ],
   "source": [
    "num_steps = 101\n",
    "num_batches = 3\n",
    "\n",
    "with tf.Session(graph=graph) as session:\n",
    "  tf.initialize_all_variables().run()\n",
    "  print(\"Initialized\")\n",
    "  for step in range(num_steps):\n",
    "    # Pick an offset within the training data, which has been randomized.\n",
    "    # Note: we could use better randomization across epochs.\n",
    "    #offset = (step * batch_size) % (train_labels.shape[0] - batch_size)\n",
    "    offset = step % num_batches\n",
    "    # Generate a minibatch.\n",
    "    batch_data = train_dataset[offset:(offset + batch_size), :]\n",
    "    batch_labels = train_labels[offset:(offset + batch_size), :]\n",
    "    # Prepare a dictionary telling the session where to feed the minibatch.\n",
    "    # The key of the dictionary is the placeholder node of the graph to be fed,\n",
    "    # and the value is the numpy array to feed to it.\n",
    "    feed_dict = {tf_train_dataset : batch_data, tf_train_labels : batch_labels}\n",
    "    _, l, predictions = session.run(\n",
    "      [optimizer, loss, train_prediction], feed_dict=feed_dict)\n",
    "    if (step % 2 == 0):\n",
    "      print(\"Minibatch loss at step %d: %f\" % (step, l))\n",
    "      print(\"Minibatch accuracy: %.1f%%\" % accuracy(predictions, batch_labels))\n",
    "      print(\"Validation accuracy: %.1f%%\" % accuracy(\n",
    "        valid_prediction.eval(), valid_labels))\n",
    "  print(\"Test accuracy: %.1f%%\" % accuracy(test_prediction.eval(), test_labels))"
   ]
  },
  {
   "cell_type": "markdown",
   "metadata": {},
   "source": [
    "The first conclusion is that 100% of accuracy on the minibatches is more difficult achieved or to keep. As a result, the test accuracy is improved by 6%, the final net is more capable of generalization."
   ]
  },
  {
   "cell_type": "markdown",
   "metadata": {},
   "source": [
    "ry to get the best performance you can using a multi-layer model! The best reported test accuracy using a deep network is 97.1%.\n",
    "One avenue you can explore is to add multiple layers.\n",
    "Another one is to use learning rate decay:\n",
    "global_step = tf.Variable(0)  # count the number of steps taken.\n",
    "learning_rate = tf.train.exponential_decay(0.5, step, ...)\n",
    "optimizer = tf.train.GradientDescentOptimizer(learning_rate).minimize(loss, global_step=global_step)"
   ]
  },
  {
   "cell_type": "markdown",
   "metadata": {},
   "source": [
    "Let's do a first try with 2 layers. Note how the parameters are initialized, compared to the previous cases."
   ]
  },
  {
   "cell_type": "code",
   "execution_count": 49,
   "metadata": {
    "collapsed": true
   },
   "outputs": [],
   "source": [
    "batch_size = 128\n",
    "num_hidden_nodes1 = 1024\n",
    "num_hidden_nodes2 = 100\n",
    "beta_regul = 1e-3\n",
    "\n",
    "graph = tf.Graph()\n",
    "with graph.as_default():\n",
    "\n",
    "  # Input data. For the training data, we use a placeholder that will be fed\n",
    "  # at run time with a training minibatch.\n",
    "  tf_train_dataset = tf.placeholder(tf.float32,\n",
    "                                    shape=(batch_size, data_size))\n",
    "  tf_train_labels = tf.placeholder(tf.float32, shape=(batch_size, num_labels))\n",
    "  tf_valid_dataset = tf.constant(valid_dataset)\n",
    "  tf_test_dataset = tf.constant(test_dataset)\n",
    "  global_step = tf.Variable(0)\n",
    "\n",
    "  # Variables.\n",
    "  weights1 = tf.Variable(\n",
    "    tf.truncated_normal(\n",
    "        [data_size, num_hidden_nodes1],\n",
    "        stddev=np.sqrt(2.0 / (data_size)))\n",
    "    )\n",
    "  biases1 = tf.Variable(tf.zeros([num_hidden_nodes1]))\n",
    "  weights2 = tf.Variable(\n",
    "    tf.truncated_normal([num_hidden_nodes1, num_hidden_nodes2], stddev=np.sqrt(2.0 / num_hidden_nodes1)))\n",
    "  biases2 = tf.Variable(tf.zeros([num_hidden_nodes2]))\n",
    "  weights3 = tf.Variable(\n",
    "    tf.truncated_normal([num_hidden_nodes2, num_labels], stddev=np.sqrt(2.0 / num_hidden_nodes2)))\n",
    "  biases3 = tf.Variable(tf.zeros([num_labels]))\n",
    "  \n",
    "  # Training computation.\n",
    "  lay1_train = tf.nn.relu(tf.matmul(tf_train_dataset, weights1) + biases1)\n",
    "  lay2_train = tf.nn.relu(tf.matmul(lay1_train, weights2) + biases2)\n",
    "  logits = tf.matmul(lay2_train, weights3) + biases3\n",
    "  loss = tf.reduce_mean(\n",
    "    tf.nn.softmax_cross_entropy_with_logits(logits, tf_train_labels)) + \\\n",
    "      beta_regul * (tf.nn.l2_loss(weights1) + tf.nn.l2_loss(weights2) + tf.nn.l2_loss(weights3))\n",
    "  \n",
    "  # Optimizer.\n",
    "  learning_rate = tf.train.exponential_decay(0.5, global_step, 1000, 0.65, staircase=True)\n",
    "  optimizer = tf.train.GradientDescentOptimizer(learning_rate).minimize(loss, global_step=global_step)\n",
    "  \n",
    "  # Predictions for the training, validation, and test data.\n",
    "  train_prediction = tf.nn.softmax(logits)\n",
    "  lay1_valid = tf.nn.relu(tf.matmul(tf_valid_dataset, weights1) + biases1)\n",
    "  lay2_valid = tf.nn.relu(tf.matmul(lay1_valid, weights2) + biases2)\n",
    "  valid_prediction = tf.nn.softmax(tf.matmul(lay2_valid, weights3) + biases3)\n",
    "  lay1_test = tf.nn.relu(tf.matmul(tf_test_dataset, weights1) + biases1)\n",
    "  lay2_test = tf.nn.relu(tf.matmul(lay1_test, weights2) + biases2)\n",
    "  test_prediction = tf.nn.softmax(tf.matmul(lay2_test, weights3) + biases3)"
   ]
  },
  {
   "cell_type": "code",
   "execution_count": 50,
   "metadata": {
    "collapsed": false
   },
   "outputs": [
    {
     "name": "stdout",
     "output_type": "stream",
     "text": [
      "Initialized\n",
      "Minibatch loss at step 0: 35.314209\n",
      "Minibatch accuracy: 32.0%\n",
      "Validation accuracy: 90.8%\n",
      "Minibatch loss at step 500: 6956094823819247172343300096.000000\n",
      "Minibatch accuracy: 92.2%\n",
      "Validation accuracy: 90.8%\n",
      "Minibatch loss at step 1000: 4218555501982403885721976832.000000\n",
      "Minibatch accuracy: 91.4%\n",
      "Validation accuracy: 90.8%\n",
      "Minibatch loss at step 1500: 3047860485673561461901754368.000000\n",
      "Minibatch accuracy: 93.8%\n",
      "Validation accuracy: 90.8%\n",
      "Minibatch loss at step 2000: 2202039343388162973470031872.000000\n",
      "Minibatch accuracy: 85.9%\n",
      "Validation accuracy: 90.8%\n",
      "Minibatch loss at step 2500: 1782668850007161181885693952.000000\n",
      "Minibatch accuracy: 85.9%\n",
      "Validation accuracy: 90.8%\n",
      "Minibatch loss at step 3000: 1443166412785360392712880128.000000\n",
      "Minibatch accuracy: 92.2%\n",
      "Validation accuracy: 90.8%\n",
      "Minibatch loss at step 3500: 1257992683111170685240606720.000000\n",
      "Minibatch accuracy: 95.3%\n",
      "Validation accuracy: 90.8%\n",
      "Minibatch loss at step 4000: 1096579245247634418308218880.000000\n",
      "Minibatch accuracy: 91.4%\n",
      "Validation accuracy: 90.8%\n",
      "Minibatch loss at step 4500: 1002943055820650670437957632.000000\n",
      "Minibatch accuracy: 89.1%\n",
      "Validation accuracy: 90.8%\n",
      "Minibatch loss at step 5000: 917301832849165231914483712.000000\n",
      "Minibatch accuracy: 93.8%\n",
      "Validation accuracy: 90.8%\n",
      "Minibatch loss at step 5500: 865597527671941024528203776.000000\n",
      "Minibatch accuracy: 93.8%\n",
      "Validation accuracy: 90.8%\n",
      "Minibatch loss at step 6000: 816807955632315515973664768.000000\n",
      "Minibatch accuracy: 94.5%\n",
      "Validation accuracy: 90.8%\n",
      "Minibatch loss at step 6500: 786578980970822494387699712.000000\n",
      "Minibatch accuracy: 85.2%\n",
      "Validation accuracy: 90.8%\n",
      "Minibatch loss at step 7000: 757469797461579937423032320.000000\n",
      "Minibatch accuracy: 89.1%\n",
      "Validation accuracy: 90.8%\n",
      "Minibatch loss at step 7500: 739128937698853478633308160.000000\n",
      "Minibatch accuracy: 86.7%\n",
      "Validation accuracy: 90.8%\n",
      "Minibatch loss at step 8000: 721232275533421945846497280.000000\n",
      "Minibatch accuracy: 90.6%\n",
      "Validation accuracy: 90.8%\n",
      "Minibatch loss at step 8500: 709833515861442750035525632.000000\n",
      "Minibatch accuracy: 95.3%\n",
      "Validation accuracy: 90.8%\n",
      "Minibatch loss at step 9000: 698613246885120767845990400.000000\n",
      "Minibatch accuracy: 91.4%\n",
      "Validation accuracy: 90.8%\n",
      "Test accuracy: 90.5%\n"
     ]
    }
   ],
   "source": [
    "num_steps = 9001\n",
    "\n",
    "with tf.Session(graph=graph) as session:\n",
    "  tf.initialize_all_variables().run()\n",
    "  print(\"Initialized\")\n",
    "  for step in range(num_steps):\n",
    "    # Pick an offset within the training data, which has been randomized.\n",
    "    # Note: we could use better randomization across epochs.\n",
    "    offset = (step * batch_size) % (train_labels.shape[0] - batch_size)\n",
    "    # Generate a minibatch.\n",
    "    batch_data = train_dataset[offset:(offset + batch_size), :]\n",
    "    batch_labels = train_labels[offset:(offset + batch_size), :]\n",
    "    # Prepare a dictionary telling the session where to feed the minibatch.\n",
    "    # The key of the dictionary is the placeholder node of the graph to be fed,\n",
    "    # and the value is the numpy array to feed to it.\n",
    "    feed_dict = {tf_train_dataset : batch_data, tf_train_labels : batch_labels}\n",
    "    _, l, predictions = session.run(\n",
    "      [optimizer, loss, train_prediction], feed_dict=feed_dict)\n",
    "    if (step % 500 == 0):\n",
    "      print(\"Minibatch loss at step %d: %f\" % (step, l))\n",
    "      print(\"Minibatch accuracy: %.1f%%\" % accuracy(predictions, batch_labels))\n",
    "      print(\"Validation accuracy: %.1f%%\" % accuracy(\n",
    "        valid_prediction.eval(), valid_labels))\n",
    "  print(\"Test accuracy: %.1f%%\" % accuracy(test_prediction.eval(), test_labels))"
   ]
  },
  {
   "cell_type": "markdown",
   "metadata": {},
   "source": [
    "This is getting really good. Let's try one layer deeper with dropouts."
   ]
  },
  {
   "cell_type": "code",
   "execution_count": 52,
   "metadata": {
    "collapsed": false
   },
   "outputs": [],
   "source": [
    "batch_size = 128\n",
    "num_hidden_nodes1 = 1024\n",
    "num_hidden_nodes2 = 256\n",
    "num_hidden_nodes3 = 128\n",
    "keep_prob = 0.5\n",
    "\n",
    "graph = tf.Graph()\n",
    "with graph.as_default():\n",
    "\n",
    "  # Input data. For the training data, we use a placeholder that will be fed\n",
    "  # at run time with a training minibatch.\n",
    "  tf_train_dataset = tf.placeholder(tf.float32,\n",
    "                                    shape=(batch_size, data_size))\n",
    "  tf_train_labels = tf.placeholder(tf.float32, shape=(batch_size, num_labels))\n",
    "  tf_valid_dataset = tf.constant(valid_dataset)\n",
    "  tf_test_dataset = tf.constant(test_dataset)\n",
    "  global_step = tf.Variable(0)\n",
    "\n",
    "  # Variables.\n",
    "  weights1 = tf.Variable(\n",
    "    tf.truncated_normal(\n",
    "        [data_size, num_hidden_nodes1],\n",
    "        stddev=np.sqrt(2.0 / (data_size)))\n",
    "    )\n",
    "  biases1 = tf.Variable(tf.zeros([num_hidden_nodes1]))\n",
    "  weights2 = tf.Variable(\n",
    "    tf.truncated_normal([num_hidden_nodes1, num_hidden_nodes2], stddev=np.sqrt(2.0 / num_hidden_nodes1)))\n",
    "  biases2 = tf.Variable(tf.zeros([num_hidden_nodes2]))\n",
    "  weights3 = tf.Variable(\n",
    "    tf.truncated_normal([num_hidden_nodes2, num_hidden_nodes3], stddev=np.sqrt(2.0 / num_hidden_nodes2)))\n",
    "  biases3 = tf.Variable(tf.zeros([num_hidden_nodes3]))\n",
    "  weights4 = tf.Variable(\n",
    "    tf.truncated_normal([num_hidden_nodes3, num_labels], stddev=np.sqrt(2.0 / num_hidden_nodes3)))\n",
    "  biases4 = tf.Variable(tf.zeros([num_labels]))\n",
    "  \n",
    "  # Training computation.\n",
    "  lay1_train = tf.nn.relu(tf.matmul(tf_train_dataset, weights1) + biases1)\n",
    "  lay2_train = tf.nn.relu(tf.matmul(lay1_train, weights2) + biases2)\n",
    "  lay3_train = tf.nn.relu(tf.matmul(lay2_train, weights3) + biases3)\n",
    "  logits = tf.matmul(lay3_train, weights4) + biases4\n",
    "  loss = tf.reduce_mean(\n",
    "    tf.nn.softmax_cross_entropy_with_logits(logits, tf_train_labels))\n",
    "  \n",
    "  # Optimizer.\n",
    "  learning_rate = tf.train.exponential_decay(0.5, global_step, 4000, 0.65, staircase=True)\n",
    "  optimizer = tf.train.GradientDescentOptimizer(learning_rate).minimize(loss, global_step=global_step)\n",
    "  \n",
    "  # Predictions for the training, validation, and test data.\n",
    "  train_prediction = tf.nn.softmax(logits)\n",
    "  lay1_valid = tf.nn.relu(tf.matmul(tf_valid_dataset, weights1) + biases1)\n",
    "  lay2_valid = tf.nn.relu(tf.matmul(lay1_valid, weights2) + biases2)\n",
    "  lay3_valid = tf.nn.relu(tf.matmul(lay2_valid, weights3) + biases3)\n",
    "  valid_prediction = tf.nn.softmax(tf.matmul(lay3_valid, weights4) + biases4)\n",
    "  lay1_test = tf.nn.relu(tf.matmul(tf_test_dataset, weights1) + biases1)\n",
    "  lay2_test = tf.nn.relu(tf.matmul(lay1_test, weights2) + biases2)\n",
    "  lay3_test = tf.nn.relu(tf.matmul(lay2_test, weights3) + biases3)\n",
    "  test_prediction = tf.nn.softmax(tf.matmul(lay3_test, weights4) + biases4)"
   ]
  },
  {
   "cell_type": "code",
   "execution_count": 53,
   "metadata": {
    "collapsed": false
   },
   "outputs": [
    {
     "name": "stdout",
     "output_type": "stream",
     "text": [
      "Initialized\n",
      "Minibatch loss at step 0: 139.641937\n",
      "Minibatch accuracy: 21.1%\n",
      "Validation accuracy: 90.8%\n",
      "Minibatch loss at step 500: nan\n",
      "Minibatch accuracy: 6.2%\n",
      "Validation accuracy: 7.7%\n",
      "Minibatch loss at step 1000: nan\n",
      "Minibatch accuracy: 7.8%\n",
      "Validation accuracy: 7.7%\n",
      "Minibatch loss at step 1500: nan\n",
      "Minibatch accuracy: 6.2%\n",
      "Validation accuracy: 7.7%\n",
      "Minibatch loss at step 2000: nan\n",
      "Minibatch accuracy: 10.9%\n",
      "Validation accuracy: 7.7%\n",
      "Minibatch loss at step 2500: nan\n",
      "Minibatch accuracy: 12.5%\n",
      "Validation accuracy: 7.7%\n",
      "Minibatch loss at step 3000: nan\n",
      "Minibatch accuracy: 7.8%\n",
      "Validation accuracy: 7.7%\n",
      "Minibatch loss at step 3500: nan\n",
      "Minibatch accuracy: 3.9%\n",
      "Validation accuracy: 7.7%\n",
      "Minibatch loss at step 4000: nan\n",
      "Minibatch accuracy: 7.0%\n",
      "Validation accuracy: 7.7%\n",
      "Minibatch loss at step 4500: nan\n",
      "Minibatch accuracy: 10.2%\n",
      "Validation accuracy: 7.7%\n",
      "Minibatch loss at step 5000: nan\n",
      "Minibatch accuracy: 5.5%\n",
      "Validation accuracy: 7.7%\n",
      "Minibatch loss at step 5500: nan\n",
      "Minibatch accuracy: 4.7%\n",
      "Validation accuracy: 7.7%\n",
      "Minibatch loss at step 6000: nan\n",
      "Minibatch accuracy: 5.5%\n",
      "Validation accuracy: 7.7%\n",
      "Minibatch loss at step 6500: nan\n",
      "Minibatch accuracy: 11.7%\n",
      "Validation accuracy: 7.7%\n",
      "Minibatch loss at step 7000: nan\n",
      "Minibatch accuracy: 9.4%\n",
      "Validation accuracy: 7.7%\n",
      "Minibatch loss at step 7500: nan\n",
      "Minibatch accuracy: 9.4%\n",
      "Validation accuracy: 7.7%\n",
      "Minibatch loss at step 8000: nan\n",
      "Minibatch accuracy: 7.0%\n",
      "Validation accuracy: 7.7%\n",
      "Minibatch loss at step 8500: nan\n",
      "Minibatch accuracy: 4.7%\n",
      "Validation accuracy: 7.7%\n",
      "Minibatch loss at step 9000: nan\n",
      "Minibatch accuracy: 6.2%\n",
      "Validation accuracy: 7.7%\n",
      "Minibatch loss at step 9500: nan\n",
      "Minibatch accuracy: 4.7%\n",
      "Validation accuracy: 7.7%\n",
      "Minibatch loss at step 10000: nan\n",
      "Minibatch accuracy: 6.2%\n",
      "Validation accuracy: 7.7%\n",
      "Minibatch loss at step 10500: nan\n",
      "Minibatch accuracy: 7.0%\n",
      "Validation accuracy: 7.7%\n",
      "Minibatch loss at step 11000: nan\n",
      "Minibatch accuracy: 7.0%\n",
      "Validation accuracy: 7.7%\n",
      "Minibatch loss at step 11500: nan\n",
      "Minibatch accuracy: 6.2%\n",
      "Validation accuracy: 7.7%\n",
      "Minibatch loss at step 12000: nan\n",
      "Minibatch accuracy: 7.0%\n",
      "Validation accuracy: 7.7%\n",
      "Minibatch loss at step 12500: nan\n",
      "Minibatch accuracy: 5.5%\n",
      "Validation accuracy: 7.7%\n",
      "Minibatch loss at step 13000: nan\n",
      "Minibatch accuracy: 8.6%\n",
      "Validation accuracy: 7.7%\n",
      "Minibatch loss at step 13500: nan\n",
      "Minibatch accuracy: 7.0%\n",
      "Validation accuracy: 7.7%\n",
      "Minibatch loss at step 14000: nan\n",
      "Minibatch accuracy: 7.0%\n",
      "Validation accuracy: 7.7%\n",
      "Minibatch loss at step 14500: nan\n",
      "Minibatch accuracy: 5.5%\n",
      "Validation accuracy: 7.7%\n",
      "Minibatch loss at step 15000: nan\n",
      "Minibatch accuracy: 7.8%\n",
      "Validation accuracy: 7.7%\n",
      "Minibatch loss at step 15500: nan\n",
      "Minibatch accuracy: 10.9%\n",
      "Validation accuracy: 7.7%\n",
      "Minibatch loss at step 16000: nan\n",
      "Minibatch accuracy: 3.9%\n",
      "Validation accuracy: 7.7%\n",
      "Minibatch loss at step 16500: nan\n",
      "Minibatch accuracy: 7.0%\n",
      "Validation accuracy: 7.7%\n",
      "Minibatch loss at step 17000: nan\n",
      "Minibatch accuracy: 7.0%\n",
      "Validation accuracy: 7.7%\n",
      "Minibatch loss at step 17500: nan\n",
      "Minibatch accuracy: 7.8%\n",
      "Validation accuracy: 7.7%\n",
      "Minibatch loss at step 18000: nan\n",
      "Minibatch accuracy: 7.0%\n",
      "Validation accuracy: 7.7%\n",
      "Test accuracy: 8.1%\n"
     ]
    }
   ],
   "source": [
    "num_steps = 18001\n",
    "\n",
    "with tf.Session(graph=graph) as session:\n",
    "  tf.initialize_all_variables().run()\n",
    "  print(\"Initialized\")\n",
    "  for step in range(num_steps):\n",
    "    # Pick an offset within the training data, which has been randomized.\n",
    "    # Note: we could use better randomization across epochs.\n",
    "    offset = (step * batch_size) % (train_labels.shape[0] - batch_size)\n",
    "    # Generate a minibatch.\n",
    "    batch_data = train_dataset[offset:(offset + batch_size), :]\n",
    "    batch_labels = train_labels[offset:(offset + batch_size), :]\n",
    "    # Prepare a dictionary telling the session where to feed the minibatch.\n",
    "    # The key of the dictionary is the placeholder node of the graph to be fed,\n",
    "    # and the value is the numpy array to feed to it.\n",
    "    feed_dict = {tf_train_dataset : batch_data, tf_train_labels : batch_labels}\n",
    "    _, l, predictions = session.run(\n",
    "      [optimizer, loss, train_prediction], feed_dict=feed_dict)\n",
    "    if (step % 500 == 0):\n",
    "      print(\"Minibatch loss at step %d: %f\" % (step, l))\n",
    "      print(\"Minibatch accuracy: %.1f%%\" % accuracy(predictions, batch_labels))\n",
    "      print(\"Validation accuracy: %.1f%%\" % accuracy(\n",
    "        valid_prediction.eval(), valid_labels))\n",
    "  print(\"Test accuracy: %.1f%%\" % accuracy(test_prediction.eval(), test_labels))"
   ]
  },
  {
   "cell_type": "code",
   "execution_count": 56,
   "metadata": {
    "collapsed": false
   },
   "outputs": [],
   "source": [
    "batch_size = 128\n",
    "num_hidden_nodes1 = 1024\n",
    "num_hidden_nodes2 = 512\n",
    "num_hidden_nodes3 = 256\n",
    "keep_prob = 0.5\n",
    "\n",
    "graph = tf.Graph()\n",
    "with graph.as_default():\n",
    "\n",
    "  # Input data. For the training data, we use a placeholder that will be fed\n",
    "  # at run time with a training minibatch.\n",
    "  tf_train_dataset = tf.placeholder(tf.float32,\n",
    "                                    shape=(batch_size, data_size))\n",
    "  tf_train_labels = tf.placeholder(tf.float32, shape=(batch_size, num_labels))\n",
    "  tf_valid_dataset = tf.constant(valid_dataset)\n",
    "  tf_test_dataset = tf.constant(test_dataset)\n",
    "  global_step = tf.Variable(0)\n",
    "\n",
    "  # Variables.\n",
    "  weights1 = tf.Variable(\n",
    "    tf.truncated_normal(\n",
    "        [data_size, num_hidden_nodes1],\n",
    "        stddev=np.sqrt(2.0 / (data_size)))\n",
    "    )\n",
    "  biases1 = tf.Variable(tf.zeros([num_hidden_nodes1]))\n",
    "  weights2 = tf.Variable(\n",
    "    tf.truncated_normal([num_hidden_nodes1, num_hidden_nodes2], stddev=np.sqrt(2.0 / num_hidden_nodes1)))\n",
    "  biases2 = tf.Variable(tf.zeros([num_hidden_nodes2]))\n",
    "  weights3 = tf.Variable(\n",
    "    tf.truncated_normal([num_hidden_nodes2, num_hidden_nodes3], stddev=np.sqrt(2.0 / num_hidden_nodes2)))\n",
    "  biases3 = tf.Variable(tf.zeros([num_hidden_nodes3]))\n",
    "  weights4 = tf.Variable(\n",
    "    tf.truncated_normal([num_hidden_nodes3, num_labels], stddev=np.sqrt(2.0 / num_hidden_nodes3)))\n",
    "  biases4 = tf.Variable(tf.zeros([num_labels]))\n",
    "  \n",
    "  # Training computation.\n",
    "  lay1_train = tf.nn.relu(tf.matmul(tf_train_dataset, weights1) + biases1)\n",
    "  drop1 = tf.nn.dropout(lay1_train, 0.5)\n",
    "  lay2_train = tf.nn.relu(tf.matmul(drop1, weights2) + biases2)\n",
    "  drop2 = tf.nn.dropout(lay2_train, 0.5)\n",
    "  lay3_train = tf.nn.relu(tf.matmul(drop2, weights3) + biases3)\n",
    "  drop3 = tf.nn.dropout(lay3_train, 0.5)\n",
    "  logits = tf.matmul(drop3, weights4) + biases4\n",
    "  loss = tf.reduce_mean(\n",
    "    tf.nn.softmax_cross_entropy_with_logits(logits, tf_train_labels))\n",
    "    \n",
    "  # Optimizer.\n",
    "  learning_rate = tf.train.exponential_decay(0.5, global_step, 5000, 0.80, staircase=True)\n",
    "  optimizer = tf.train.GradientDescentOptimizer(learning_rate).minimize(loss, global_step=global_step)\n",
    "  \n",
    "  # Predictions for the training, validation, and test data.\n",
    "  train_prediction = tf.nn.softmax(logits)\n",
    "  lay1_valid = tf.nn.relu(tf.matmul(tf_valid_dataset, weights1) + biases1)\n",
    "  lay2_valid = tf.nn.relu(tf.matmul(lay1_valid, weights2) + biases2)\n",
    "  lay3_valid = tf.nn.relu(tf.matmul(lay2_valid, weights3) + biases3)\n",
    "  valid_prediction = tf.nn.softmax(tf.matmul(lay3_valid, weights4) + biases4)\n",
    "  lay1_test = tf.nn.relu(tf.matmul(tf_test_dataset, weights1) + biases1)\n",
    "  lay2_test = tf.nn.relu(tf.matmul(lay1_test, weights2) + biases2)\n",
    "  lay3_test = tf.nn.relu(tf.matmul(lay2_test, weights3) + biases3)\n",
    "  test_prediction = tf.nn.softmax(tf.matmul(lay3_test, weights4) + biases4)"
   ]
  },
  {
   "cell_type": "code",
   "execution_count": 57,
   "metadata": {
    "collapsed": false
   },
   "outputs": [
    {
     "name": "stdout",
     "output_type": "stream",
     "text": [
      "Initialized\n",
      "Minibatch loss at step 0: 657.478577\n",
      "Minibatch accuracy: 34.4%\n",
      "Validation accuracy: 90.8%\n",
      "Minibatch loss at step 500: nan\n",
      "Minibatch accuracy: 6.2%\n",
      "Validation accuracy: 7.7%\n",
      "Minibatch loss at step 1000: nan\n",
      "Minibatch accuracy: 7.8%\n",
      "Validation accuracy: 7.7%\n",
      "Minibatch loss at step 1500: nan\n",
      "Minibatch accuracy: 6.2%\n",
      "Validation accuracy: 7.7%\n",
      "Minibatch loss at step 2000: nan\n",
      "Minibatch accuracy: 10.9%\n",
      "Validation accuracy: 7.7%\n",
      "Minibatch loss at step 2500: nan\n",
      "Minibatch accuracy: 12.5%\n",
      "Validation accuracy: 7.7%\n",
      "Minibatch loss at step 3000: nan\n",
      "Minibatch accuracy: 7.8%\n",
      "Validation accuracy: 7.7%\n",
      "Minibatch loss at step 3500: nan\n",
      "Minibatch accuracy: 3.9%\n",
      "Validation accuracy: 7.7%\n",
      "Minibatch loss at step 4000: nan\n",
      "Minibatch accuracy: 7.0%\n",
      "Validation accuracy: 7.7%\n",
      "Minibatch loss at step 4500: nan\n",
      "Minibatch accuracy: 10.2%\n",
      "Validation accuracy: 7.7%\n",
      "Minibatch loss at step 5000: nan\n",
      "Minibatch accuracy: 5.5%\n",
      "Validation accuracy: 7.7%\n",
      "Minibatch loss at step 5500: nan\n",
      "Minibatch accuracy: 4.7%\n",
      "Validation accuracy: 7.7%\n",
      "Minibatch loss at step 6000: nan\n",
      "Minibatch accuracy: 5.5%\n",
      "Validation accuracy: 7.7%\n",
      "Minibatch loss at step 6500: nan\n",
      "Minibatch accuracy: 11.7%\n",
      "Validation accuracy: 7.7%\n",
      "Minibatch loss at step 7000: nan\n",
      "Minibatch accuracy: 9.4%\n",
      "Validation accuracy: 7.7%\n",
      "Minibatch loss at step 7500: nan\n",
      "Minibatch accuracy: 9.4%\n",
      "Validation accuracy: 7.7%\n",
      "Minibatch loss at step 8000: nan\n",
      "Minibatch accuracy: 7.0%\n",
      "Validation accuracy: 7.7%\n",
      "Minibatch loss at step 8500: nan\n",
      "Minibatch accuracy: 4.7%\n",
      "Validation accuracy: 7.7%\n",
      "Minibatch loss at step 9000: nan\n",
      "Minibatch accuracy: 6.2%\n",
      "Validation accuracy: 7.7%\n",
      "Minibatch loss at step 9500: nan\n",
      "Minibatch accuracy: 4.7%\n",
      "Validation accuracy: 7.7%\n",
      "Minibatch loss at step 10000: nan\n",
      "Minibatch accuracy: 6.2%\n",
      "Validation accuracy: 7.7%\n",
      "Minibatch loss at step 10500: nan\n",
      "Minibatch accuracy: 7.0%\n",
      "Validation accuracy: 7.7%\n",
      "Minibatch loss at step 11000: nan\n",
      "Minibatch accuracy: 7.0%\n",
      "Validation accuracy: 7.7%\n",
      "Minibatch loss at step 11500: nan\n",
      "Minibatch accuracy: 6.2%\n",
      "Validation accuracy: 7.7%\n",
      "Minibatch loss at step 12000: nan\n",
      "Minibatch accuracy: 7.0%\n",
      "Validation accuracy: 7.7%\n",
      "Minibatch loss at step 12500: nan\n",
      "Minibatch accuracy: 5.5%\n",
      "Validation accuracy: 7.7%\n",
      "Minibatch loss at step 13000: nan\n",
      "Minibatch accuracy: 8.6%\n",
      "Validation accuracy: 7.7%\n",
      "Minibatch loss at step 13500: nan\n",
      "Minibatch accuracy: 7.0%\n",
      "Validation accuracy: 7.7%\n",
      "Minibatch loss at step 14000: nan\n",
      "Minibatch accuracy: 7.0%\n",
      "Validation accuracy: 7.7%\n",
      "Minibatch loss at step 14500: nan\n",
      "Minibatch accuracy: 5.5%\n",
      "Validation accuracy: 7.7%\n",
      "Minibatch loss at step 15000: nan\n",
      "Minibatch accuracy: 7.8%\n",
      "Validation accuracy: 7.7%\n",
      "Minibatch loss at step 15500: nan\n",
      "Minibatch accuracy: 10.9%\n",
      "Validation accuracy: 7.7%\n",
      "Minibatch loss at step 16000: nan\n",
      "Minibatch accuracy: 3.9%\n",
      "Validation accuracy: 7.7%\n",
      "Minibatch loss at step 16500: nan\n",
      "Minibatch accuracy: 7.0%\n",
      "Validation accuracy: 7.7%\n",
      "Minibatch loss at step 17000: nan\n",
      "Minibatch accuracy: 7.0%\n",
      "Validation accuracy: 7.7%\n",
      "Minibatch loss at step 17500: nan\n",
      "Minibatch accuracy: 7.8%\n",
      "Validation accuracy: 7.7%\n",
      "Minibatch loss at step 18000: nan\n",
      "Minibatch accuracy: 7.0%\n",
      "Validation accuracy: 7.7%\n",
      "Minibatch loss at step 18500: nan\n",
      "Minibatch accuracy: 7.0%\n",
      "Validation accuracy: 7.7%\n",
      "Minibatch loss at step 19000: nan\n",
      "Minibatch accuracy: 7.0%\n",
      "Validation accuracy: 7.7%\n",
      "Minibatch loss at step 19500: nan\n",
      "Minibatch accuracy: 7.0%\n",
      "Validation accuracy: 7.7%\n",
      "Minibatch loss at step 20000: nan\n",
      "Minibatch accuracy: 3.9%\n",
      "Validation accuracy: 7.7%\n",
      "Test accuracy: 8.1%\n"
     ]
    }
   ],
   "source": [
    "num_steps = 20001\n",
    "\n",
    "with tf.Session(graph=graph) as session:\n",
    "  tf.initialize_all_variables().run()\n",
    "  print(\"Initialized\")\n",
    "  for step in range(num_steps):\n",
    "    # Pick an offset within the training data, which has been randomized.\n",
    "    # Note: we could use better randomization across epochs.\n",
    "    offset = (step * batch_size) % (train_labels.shape[0] - batch_size)\n",
    "    # Generate a minibatch.\n",
    "    batch_data = train_dataset[offset:(offset + batch_size), :]\n",
    "    batch_labels = train_labels[offset:(offset + batch_size), :]\n",
    "    # Prepare a dictionary telling the session where to feed the minibatch.\n",
    "    # The key of the dictionary is the placeholder node of the graph to be fed,\n",
    "    # and the value is the numpy array to feed to it.\n",
    "    feed_dict = {tf_train_dataset : batch_data, tf_train_labels : batch_labels}\n",
    "    _, l, predictions = session.run(\n",
    "      [optimizer, loss, train_prediction], feed_dict=feed_dict)\n",
    "    if (step % 500 == 0):\n",
    "      print(\"Minibatch loss at step %d: %f\" % (step, l))\n",
    "      print(\"Minibatch accuracy: %.1f%%\" % accuracy(predictions, batch_labels))\n",
    "      print(\"Validation accuracy: %.1f%%\" % accuracy(\n",
    "        valid_prediction.eval(), valid_labels))\n",
    "  print(\"Test accuracy: %.1f%%\" % accuracy(test_prediction.eval(), test_labels))"
   ]
  },
  {
   "cell_type": "markdown",
   "metadata": {},
   "source": [
    "# Convolutions"
   ]
  },
  {
   "cell_type": "code",
   "execution_count": null,
   "metadata": {
    "collapsed": true
   },
   "outputs": [],
   "source": [
    "batch_size = 16\n",
    "patch_size = 5\n",
    "depth = 16\n",
    "num_hidden = 64\n",
    "\n",
    "graph = tf.Graph()\n",
    "\n",
    "with graph.as_default():\n",
    "\n",
    "  # Input data.\n",
    "  tf_train_dataset = tf.placeholder(\n",
    "    tf.float32, shape=(batch_size, data_size, num_channels))\n",
    "  tf_train_labels = tf.placeholder(tf.float32, shape=(batch_size, num_labels))\n",
    "  tf_valid_dataset = tf.constant(valid_dataset)\n",
    "  tf_test_dataset = tf.constant(test_dataset)\n",
    "  \n",
    "  # Variables.\n",
    "  layer1_weights = tf.Variable(tf.truncated_normal(\n",
    "      [patch_size, patch_size, num_channels, depth], stddev=0.1))\n",
    "  layer1_biases = tf.Variable(tf.zeros([depth]))\n",
    "  layer2_weights = tf.Variable(tf.truncated_normal(\n",
    "      [patch_size, patch_size, depth, depth], stddev=0.1))\n",
    "  layer2_biases = tf.Variable(tf.constant(1.0, shape=[depth]))\n",
    "  layer3_weights = tf.Variable(tf.truncated_normal(\n",
    "      [data_size // 4 * depth, num_hidden], stddev=0.1))\n",
    "  layer3_biases = tf.Variable(tf.constant(1.0, shape=[num_hidden]))\n",
    "  layer4_weights = tf.Variable(tf.truncated_normal(\n",
    "      [num_hidden, num_labels], stddev=0.1))\n",
    "  layer4_biases = tf.Variable(tf.constant(1.0, shape=[num_labels]))\n",
    "  \n",
    "  # Model.\n",
    "  def model(data):\n",
    "    conv = tf.nn.conv2d(data, layer1_weights, [1, 2, 2, 1], padding='SAME')\n",
    "    hidden = tf.nn.relu(conv + layer1_biases)\n",
    "    conv = tf.nn.conv2d(hidden, layer2_weights, [1, 2, 2, 1], padding='SAME')\n",
    "    hidden = tf.nn.relu(conv + layer2_biases)\n",
    "    shape = hidden.get_shape().as_list()\n",
    "    reshape = tf.reshape(hidden, [shape[0], shape[1] * shape[2] * shape[3]])\n",
    "    hidden = tf.nn.relu(tf.matmul(reshape, layer3_weights) + layer3_biases)\n",
    "    return tf.matmul(hidden, layer4_weights) + layer4_biases\n",
    "  \n",
    "  # Training computation.\n",
    "  logits = model(tf_train_dataset)\n",
    "  loss = tf.reduce_mean(\n",
    "    tf.nn.softmax_cross_entropy_with_logits(logits, tf_train_labels))\n",
    "    \n",
    "  # Optimizer.\n",
    "  optimizer = tf.train.GradientDescentOptimizer(0.05).minimize(loss)\n",
    "  \n",
    "  # Predictions for the training, validation, and test data.\n",
    "  train_prediction = tf.nn.softmax(logits)\n",
    "  valid_prediction = tf.nn.softmax(model(tf_valid_dataset))\n",
    "  test_prediction = tf.nn.softmax(model(tf_test_dataset))"
   ]
  },
  {
   "cell_type": "code",
   "execution_count": null,
   "metadata": {
    "collapsed": true
   },
   "outputs": [],
   "source": [
    "num_steps = 1001\n",
    "\n",
    "with tf.Session(graph=graph) as session:\n",
    "  tf.initialize_all_variables().run()\n",
    "  print('Initialized')\n",
    "  for step in range(num_steps):\n",
    "    offset = (step * batch_size) % (train_labels.shape[0] - batch_size)\n",
    "    batch_data = train_dataset[offset:(offset + batch_size), :, :, :]\n",
    "    batch_labels = train_labels[offset:(offset + batch_size), :]\n",
    "    feed_dict = {tf_train_dataset : batch_data, tf_train_labels : batch_labels}\n",
    "    _, l, predictions = session.run(\n",
    "      [optimizer, loss, train_prediction], feed_dict=feed_dict)\n",
    "    if (step % 50 == 0):\n",
    "      print('Minibatch loss at step %d: %f' % (step, l))\n",
    "      print('Minibatch accuracy: %.1f%%' % accuracy(predictions, batch_labels))\n",
    "      print('Validation accuracy: %.1f%%' % accuracy(\n",
    "        valid_prediction.eval(), valid_labels))\n",
    "  print('Test accuracy: %.1f%%' % accuracy(test_prediction.eval(), test_labels))"
   ]
  },
  {
   "cell_type": "markdown",
   "metadata": {},
   "source": [
    "\n",
    "The convolutional model above uses convolutions with stride 2 to reduce the dimensionality. Replace the strides by a max pooling operation (`nn.max_pool()`) of stride 2 and kernel size 2.\n",
    "\n",
    "---"
   ]
  },
  {
   "cell_type": "code",
   "execution_count": null,
   "metadata": {
    "collapsed": true
   },
   "outputs": [],
   "source": [
    "batch_size = 16\n",
    "patch_size = 5\n",
    "depth = 16\n",
    "num_hidden = 64\n",
    "\n",
    "graph = tf.Graph()\n",
    "\n",
    "with graph.as_default():\n",
    "\n",
    "  # Input data.\n",
    "  tf_train_dataset = tf.placeholder(\n",
    "    tf.float32, shape=(batch_size, data_size, num_channels))\n",
    "  tf_train_labels = tf.placeholder(tf.float32, shape=(batch_size, num_labels))\n",
    "  tf_valid_dataset = tf.constant(valid_dataset)\n",
    "  tf_test_dataset = tf.constant(test_dataset)\n",
    "  \n",
    "  # Variables.\n",
    "  layer1_weights = tf.Variable(tf.truncated_normal(\n",
    "      [patch_size, patch_size, num_channels, depth], stddev=0.1))\n",
    "  layer1_biases = tf.Variable(tf.zeros([depth]))\n",
    "  layer2_weights = tf.Variable(tf.truncated_normal(\n",
    "      [patch_size, patch_size, depth, depth], stddev=0.1))\n",
    "  layer2_biases = tf.Variable(tf.constant(1.0, shape=[depth]))\n",
    "  layer3_weights = tf.Variable(tf.truncated_normal(\n",
    "      [data_size // 4 * depth, num_hidden], stddev=0.1))\n",
    "  layer3_biases = tf.Variable(tf.constant(1.0, shape=[num_hidden]))\n",
    "  layer4_weights = tf.Variable(tf.truncated_normal(\n",
    "      [num_hidden, num_labels], stddev=0.1))\n",
    "  layer4_biases = tf.Variable(tf.constant(1.0, shape=[num_labels]))\n",
    "  \n",
    "  # Model.\n",
    "  def model(data):\n",
    "    conv1 = tf.nn.conv2d(data, layer1_weights, [1, 1, 1, 1], padding='SAME')\n",
    "    bias1 = tf.nn.relu(conv1 + layer1_biases)\n",
    "    pool1 = tf.nn.max_pool(bias1, [1, 2, 2, 1], [1, 2, 2, 1], padding='SAME')\n",
    "    conv2 = tf.nn.conv2d(pool1, layer2_weights, [1, 1, 1, 1], padding='SAME')\n",
    "    bias2 = tf.nn.relu(conv2 + layer2_biases)\n",
    "    pool2 = tf.nn.max_pool(bias2, [1, 2, 2, 1], [1, 2, 2, 1], padding='SAME')\n",
    "    shape = pool2.get_shape().as_list()\n",
    "    reshape = tf.reshape(pool2, [shape[0], shape[1] * shape[2] * shape[3]])\n",
    "    hidden = tf.nn.relu(tf.matmul(reshape, layer3_weights) + layer3_biases)\n",
    "    return tf.matmul(hidden, layer4_weights) + layer4_biases\n",
    "  \n",
    "  # Training computation.\n",
    "  logits = model(tf_train_dataset)\n",
    "  loss = tf.reduce_mean(\n",
    "    tf.nn.softmax_cross_entropy_with_logits(logits, tf_train_labels))\n",
    "    \n",
    "  # Optimizer.\n",
    "  optimizer = tf.train.GradientDescentOptimizer(0.05).minimize(loss)\n",
    "  \n",
    "  # Predictions for the training, validation, and test data.\n",
    "  train_prediction = tf.nn.softmax(logits)\n",
    "  valid_prediction = tf.nn.softmax(model(tf_valid_dataset))\n",
    "  test_prediction = tf.nn.softmax(model(tf_test_dataset))"
   ]
  },
  {
   "cell_type": "code",
   "execution_count": null,
   "metadata": {
    "collapsed": true
   },
   "outputs": [],
   "source": [
    "num_steps = 1001\n",
    "\n",
    "with tf.Session(graph=graph) as session:\n",
    "  tf.initialize_all_variables().run()\n",
    "  print('Initialized')\n",
    "  for step in range(num_steps):\n",
    "    offset = (step * batch_size) % (train_labels.shape[0] - batch_size)\n",
    "    batch_data = train_dataset[offset:(offset + batch_size), :, :, :]\n",
    "    batch_labels = train_labels[offset:(offset + batch_size), :]\n",
    "    feed_dict = {tf_train_dataset : batch_data, tf_train_labels : batch_labels}\n",
    "    _, l, predictions = session.run(\n",
    "      [optimizer, loss, train_prediction], feed_dict=feed_dict)\n",
    "    if (step % 50 == 0):\n",
    "      print('Minibatch loss at step %d: %f' % (step, l))\n",
    "      print('Minibatch accuracy: %.1f%%' % accuracy(predictions, batch_labels))\n",
    "      print('Validation accuracy: %.1f%%' % accuracy(\n",
    "        valid_prediction.eval(), valid_labels))\n",
    "  print('Test accuracy: %.1f%%' % accuracy(test_prediction.eval(), test_labels))"
   ]
  },
  {
   "cell_type": "markdown",
   "metadata": {},
   "source": [
    "Try to get the best performance you can using a convolutional net. Look for example at the classic [LeNet5](http://yann.lecun.com/exdb/lenet/) architecture, adding Dropout, and/or adding learning rate decay.\n"
   ]
  },
  {
   "cell_type": "markdown",
   "metadata": {},
   "source": [
    "The CNN below is loosely inspired by the LeNet5 architecture."
   ]
  },
  {
   "cell_type": "code",
   "execution_count": null,
   "metadata": {
    "collapsed": true
   },
   "outputs": [],
   "source": [
    "batch_size = 16\n",
    "patch_size = 5\n",
    "depth = 16\n",
    "num_hidden = 64\n",
    "\n",
    "graph = tf.Graph()\n",
    "\n",
    "with graph.as_default():\n",
    "\n",
    "  # Input data.\n",
    "  tf_train_dataset = tf.placeholder(\n",
    "    tf.float32, shape=(batch_size, data_size, num_channels))\n",
    "  tf_train_labels = tf.placeholder(tf.float32, shape=(batch_size, num_labels))\n",
    "  tf_valid_dataset = tf.constant(valid_dataset)\n",
    "  tf_test_dataset = tf.constant(test_dataset)\n",
    "  \n",
    "  # Variables.\n",
    "  layer1_weights = tf.Variable(tf.truncated_normal(\n",
    "      [patch_size, patch_size, num_channels, depth], stddev=0.1))\n",
    "  layer1_biases = tf.Variable(tf.zeros([depth]))\n",
    "  layer2_weights = tf.Variable(tf.truncated_normal(\n",
    "      [patch_size, patch_size, depth, depth], stddev=0.1))\n",
    "  layer2_biases = tf.Variable(tf.constant(1.0, shape=[depth]))\n",
    "  size3 = ((data_size - patch_size + 1) // 2 - patch_size + 1) // 2\n",
    "  layer3_weights = tf.Variable(tf.truncated_normal(\n",
    "      [size3 * size3 * depth, num_hidden], stddev=0.1))\n",
    "  layer3_biases = tf.Variable(tf.constant(1.0, shape=[num_hidden]))\n",
    "  layer4_weights = tf.Variable(tf.truncated_normal(\n",
    "      [num_hidden, num_labels], stddev=0.1))\n",
    "  layer4_biases = tf.Variable(tf.constant(1.0, shape=[num_labels]))\n",
    "  \n",
    "  # Model.\n",
    "  def model(data):\n",
    "    # C1 input 28 x 28\n",
    "    conv1 = tf.nn.conv2d(data, layer1_weights, [1, 1, 1, 1], padding='VALID')\n",
    "    bias1 = tf.nn.relu(conv1 + layer1_biases)\n",
    "    # S2 input 24 x 24\n",
    "    pool2 = tf.nn.avg_pool(bias1, [1, 2, 2, 1], [1, 2, 2, 1], padding='VALID')\n",
    "    # C3 input 12 x 12\n",
    "    conv3 = tf.nn.conv2d(pool2, layer2_weights, [1, 1, 1, 1], padding='VALID')\n",
    "    bias3 = tf.nn.relu(conv3 + layer2_biases)\n",
    "    # S4 input 8 x 8\n",
    "    pool4 = tf.nn.avg_pool(bias3, [1, 2, 2, 1], [1, 2, 2, 1], padding='VALID')\n",
    "    # F6 input 4 x 4\n",
    "    shape = pool4.get_shape().as_list()\n",
    "    reshape = tf.reshape(pool4, [shape[0], shape[1] * shape[2] * shape[3]])\n",
    "    hidden = tf.nn.relu(tf.matmul(reshape, layer3_weights) + layer3_biases)\n",
    "    return tf.matmul(hidden, layer4_weights) + layer4_biases\n",
    "  \n",
    "  # Training computation.\n",
    "  logits = model(tf_train_dataset)\n",
    "  loss = tf.reduce_mean(\n",
    "    tf.nn.softmax_cross_entropy_with_logits(logits, tf_train_labels))\n",
    "    \n",
    "  # Optimizer.\n",
    "  optimizer = tf.train.GradientDescentOptimizer(0.05).minimize(loss)\n",
    "  \n",
    "  # Predictions for the training, validation, and test data.\n",
    "  train_prediction = tf.nn.softmax(logits)\n",
    "  valid_prediction = tf.nn.softmax(model(tf_valid_dataset))\n",
    "  test_prediction = tf.nn.softmax(model(tf_test_dataset))"
   ]
  },
  {
   "cell_type": "code",
   "execution_count": null,
   "metadata": {
    "collapsed": true
   },
   "outputs": [],
   "source": [
    "num_steps = 20001\n",
    "\n",
    "with tf.Session(graph=graph) as session:\n",
    "  tf.initialize_all_variables().run()\n",
    "  print('Initialized')\n",
    "  for step in range(num_steps):\n",
    "    offset = (step * batch_size) % (train_labels.shape[0] - batch_size)\n",
    "    batch_data = train_dataset[offset:(offset + batch_size), :, :, :]\n",
    "    batch_labels = train_labels[offset:(offset + batch_size), :]\n",
    "    feed_dict = {tf_train_dataset : batch_data, tf_train_labels : batch_labels}\n",
    "    _, l, predictions = session.run(\n",
    "      [optimizer, loss, train_prediction], feed_dict=feed_dict)\n",
    "    if (step % 50 == 0):\n",
    "      print('Minibatch loss at step %d: %f' % (step, l))\n",
    "      print('Minibatch accuracy: %.1f%%' % accuracy(predictions, batch_labels))\n",
    "      print('Validation accuracy: %.1f%%' % accuracy(\n",
    "        valid_prediction.eval(), valid_labels))\n",
    "  print('Test accuracy: %.1f%%' % accuracy(test_prediction.eval(), test_labels))"
   ]
  },
  {
   "cell_type": "markdown",
   "metadata": {},
   "source": [
    "The accuracy is good, but not as good as the 3-layer network from the previous assignment.\n",
    "\n",
    "The next version of the net uses dropout and learning rate decay:"
   ]
  },
  {
   "cell_type": "code",
   "execution_count": null,
   "metadata": {
    "collapsed": true
   },
   "outputs": [],
   "source": [
    "batch_size = 16\n",
    "patch_size = 5\n",
    "depth = 16\n",
    "num_hidden = 64\n",
    "beta_regul = 1e-3\n",
    "drop_out = 0.5\n",
    "\n",
    "graph = tf.Graph()\n",
    "\n",
    "with graph.as_default():\n",
    "\n",
    "  # Input data.\n",
    "  tf_train_dataset = tf.placeholder(\n",
    "    tf.float32, shape=(batch_size, image_size, image_size, num_channels))\n",
    "  tf_train_labels = tf.placeholder(tf.float32, shape=(batch_size, num_labels))\n",
    "  tf_valid_dataset = tf.constant(valid_dataset)\n",
    "  tf_test_dataset = tf.constant(test_dataset)\n",
    "  global_step = tf.Variable(0)\n",
    "  \n",
    "  # Variables.\n",
    "  layer1_weights = tf.Variable(tf.truncated_normal(\n",
    "      [patch_size, patch_size, num_channels, depth], stddev=0.1))\n",
    "  layer1_biases = tf.Variable(tf.zeros([depth]))\n",
    "  layer2_weights = tf.Variable(tf.truncated_normal(\n",
    "      [patch_size, patch_size, depth, depth], stddev=0.1))\n",
    "  layer2_biases = tf.Variable(tf.constant(1.0, shape=[depth]))\n",
    "  size3 = ((image_size - patch_size + 1) // 2 - patch_size + 1) // 2\n",
    "  layer3_weights = tf.Variable(tf.truncated_normal(\n",
    "      [size3 * size3 * depth, num_hidden], stddev=0.1))\n",
    "  layer3_biases = tf.Variable(tf.constant(1.0, shape=[num_hidden]))\n",
    "  layer4_weights = tf.Variable(tf.truncated_normal(\n",
    "      [num_hidden, num_hidden], stddev=0.1))\n",
    "  layer4_biases = tf.Variable(tf.constant(1.0, shape=[num_hidden]))\n",
    "  layer5_weights = tf.Variable(tf.truncated_normal(\n",
    "      [num_hidden, num_labels], stddev=0.1))\n",
    "  layer5_biases = tf.Variable(tf.constant(1.0, shape=[num_labels]))\n",
    "  \n",
    "  # Model.\n",
    "  def model(data, keep_prob):\n",
    "    # C1 input 28 x 28\n",
    "    conv1 = tf.nn.conv2d(data, layer1_weights, [1, 1, 1, 1], padding='VALID')\n",
    "    bias1 = tf.nn.relu(conv1 + layer1_biases)\n",
    "    # S2 input 24 x 24\n",
    "    pool2 = tf.nn.avg_pool(bias1, [1, 2, 2, 1], [1, 2, 2, 1], padding='VALID')\n",
    "    # C3 input 12 x 12\n",
    "    conv3 = tf.nn.conv2d(pool2, layer2_weights, [1, 1, 1, 1], padding='VALID')\n",
    "    bias3 = tf.nn.relu(conv3 + layer2_biases)\n",
    "    # S4 input 8 x 8\n",
    "    pool4 = tf.nn.avg_pool(bias3, [1, 2, 2, 1], [1, 2, 2, 1], padding='VALID')\n",
    "    # F5 input 4 x 4\n",
    "    shape = pool4.get_shape().as_list()\n",
    "    reshape = tf.reshape(pool4, [shape[0], shape[1] * shape[2] * shape[3]])\n",
    "    hidden5 = tf.nn.relu(tf.matmul(reshape, layer3_weights) + layer3_biases)\n",
    "    # F6\n",
    "    drop5 = tf.nn.dropout(hidden5, keep_prob)\n",
    "    hidden6 = tf.nn.relu(tf.matmul(hidden5, layer4_weights) + layer4_biases)\n",
    "    drop6 = tf.nn.dropout(hidden6, keep_prob)\n",
    "    return tf.matmul(drop6, layer5_weights) + layer5_biases\n",
    "  \n",
    "  # Training computation.\n",
    "  logits = model(tf_train_dataset, drop_out)\n",
    "  loss = tf.reduce_mean(\n",
    "    tf.nn.softmax_cross_entropy_with_logits(logits, tf_train_labels))\n",
    "    \n",
    "  # Optimizer.\n",
    "  learning_rate = tf.train.exponential_decay(0.05, global_step, 1000, 0.85, staircase=True)\n",
    "  optimizer = tf.train.GradientDescentOptimizer(learning_rate).minimize(loss, global_step=global_step)\n",
    "  \n",
    "  # Predictions for the training, validation, and test data.\n",
    "  train_prediction = tf.nn.softmax(logits)\n",
    "  valid_prediction = tf.nn.softmax(model(tf_valid_dataset, 1.0))\n",
    "  test_prediction = tf.nn.softmax(model(tf_test_dataset, 1.0))"
   ]
  },
  {
   "cell_type": "code",
   "execution_count": null,
   "metadata": {
    "collapsed": true
   },
   "outputs": [],
   "source": [
    "num_steps = 5001\n",
    "\n",
    "with tf.Session(graph=graph) as session:\n",
    "  tf.initialize_all_variables().run()\n",
    "  print('Initialized')\n",
    "  for step in range(num_steps):\n",
    "    offset = (step * batch_size) % (train_labels.shape[0] - batch_size)\n",
    "    batch_data = train_dataset[offset:(offset + batch_size), :, :, :]\n",
    "    batch_labels = train_labels[offset:(offset + batch_size), :]\n",
    "    feed_dict = {tf_train_dataset : batch_data, tf_train_labels : batch_labels}\n",
    "    _, l, predictions = session.run(\n",
    "      [optimizer, loss, train_prediction], feed_dict=feed_dict)\n",
    "    if (step % 50 == 0):\n",
    "      print('Minibatch loss at step %d: %f' % (step, l))\n",
    "      print('Minibatch accuracy: %.1f%%' % accuracy(predictions, batch_labels))\n",
    "      print('Validation accuracy: %.1f%%' % accuracy(\n",
    "        valid_prediction.eval(), valid_labels))\n",
    "  print('Test accuracy: %.1f%%' % accuracy(test_prediction.eval(), test_labels))"
   ]
  },
  {
   "cell_type": "code",
   "execution_count": 4,
   "metadata": {
    "collapsed": false
   },
   "outputs": [
    {
     "name": "stdout",
     "output_type": "stream",
     "text": [
      "0\n",
      "1\n",
      "2\n"
     ]
    }
   ],
   "source": [
    "for i in range(3):\n",
    "    print(i)\n",
    "    \n",
    "for i in range(\"\")    "
   ]
  },
  {
   "cell_type": "markdown",
   "metadata": {},
   "source": [
    "Well, the accuracy is worst. This net has many meta parameters and I don't feel comfortable in tuning them randomly. I should probably change the depth and make it different between the layers, since it looks like the increasing number of feature maps is a key design item.\n",
    "\n",
    "I will do so in a next version."
   ]
  }
 ],
 "metadata": {
  "kernelspec": {
   "display_name": "Python 2",
   "language": "python",
   "name": "python2"
  },
  "language_info": {
   "codemirror_mode": {
    "name": "ipython",
    "version": 2
   },
   "file_extension": ".py",
   "mimetype": "text/x-python",
   "name": "python",
   "nbconvert_exporter": "python",
   "pygments_lexer": "ipython2",
   "version": "2.7.12"
  }
 },
 "nbformat": 4,
 "nbformat_minor": 1
}
